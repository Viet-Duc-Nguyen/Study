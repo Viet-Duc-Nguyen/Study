{
 "cells": [
  {
   "cell_type": "markdown",
   "source": [
    "# difference between class and instance variables\n"
   ],
   "metadata": {
    "collapsed": false
   }
  },
  {
   "cell_type": "code",
   "execution_count": 1,
   "outputs": [
    {
     "name": "stdout",
     "output_type": "stream",
     "text": [
      "3.14159\n"
     ]
    }
   ],
   "source": [
    "class Circle:\n",
    "    pi = 3.14159  # Class variable\n",
    "\n",
    "    def __init__(self, radius):\n",
    "        self.radius = radius  # Instance variable\n",
    "\n",
    "\n",
    "print(Circle.pi)"
   ],
   "metadata": {
    "collapsed": false,
    "ExecuteTime": {
     "end_time": "2023-07-20T17:14:24.251512300Z",
     "start_time": "2023-07-20T17:14:24.246516400Z"
    }
   }
  },
  {
   "cell_type": "code",
   "execution_count": 21,
   "outputs": [
    {
     "name": "stdout",
     "output_type": "stream",
     "text": [
      "white\n",
      "blue\n",
      "10\n",
      "20\n"
     ]
    }
   ],
   "source": [
    "class Car:\n",
    "    num_wheels = 4  # Class variables\n",
    "\n",
    "    def __init__(self, model, color):\n",
    "        self.model = model  # Instance variable\n",
    "        self.color = color  # Instance variable\n",
    "\n",
    "\n",
    "car1 = Car('Mercedes', 'white')\n",
    "car2 = Car('Honda', 'black')\n",
    "\n",
    "print(car1.color)\n",
    "\n",
    "car1.color = 'blue'\n",
    "car1.num_wheels = 10\n",
    "Car.num_wheels = 20\n",
    "\n",
    "print(car1.color)\n",
    "print(car1.num_wheels)\n",
    "print(car2.num_wheels)\n"
   ],
   "metadata": {
    "collapsed": false,
    "ExecuteTime": {
     "end_time": "2023-07-20T17:26:56.978993Z",
     "start_time": "2023-07-20T17:26:56.969977900Z"
    }
   }
  },
  {
   "cell_type": "markdown",
   "source": [
    "- It is important to pay attention while modifying class variables\n",
    "- Modifying a class variables may unintentionally impact the behaviour of other instances"
   ],
   "metadata": {
    "collapsed": false
   }
  },
  {
   "cell_type": "code",
   "execution_count": 25,
   "outputs": [
    {
     "name": "stdout",
     "output_type": "stream",
     "text": [
      "3\n",
      "Python game creation\n"
     ]
    }
   ],
   "source": [
    "class Book:\n",
    "    total_books = 0  # Class variable\n",
    "\n",
    "    def __init__(self, title, author):\n",
    "        self.title = title\n",
    "        self.author = author\n",
    "        Book.total_books += 1\n",
    "\n",
    "\n",
    "book1 = Book('Python programming', 'Ovidiu Tanase')\n",
    "book2 = Book('Python programming', 'Ovidiu Tanase')\n",
    "book3 = Book('Python programming', 'Ovidiu Tanase')\n",
    "\n",
    "print(Book.total_books)\n",
    "book2.title = 'Python second edition'\n",
    "book3.title = 'Python game creation'\n",
    "\n",
    "print(book3.title)\n"
   ],
   "metadata": {
    "collapsed": false,
    "ExecuteTime": {
     "end_time": "2023-07-20T17:36:45.263500Z",
     "start_time": "2023-07-20T17:36:45.245966700Z"
    }
   }
  },
  {
   "cell_type": "code",
   "execution_count": null,
   "outputs": [],
   "source": [],
   "metadata": {
    "collapsed": false
   }
  }
 ],
 "metadata": {
  "kernelspec": {
   "display_name": "Python 3",
   "language": "python",
   "name": "python3"
  },
  "language_info": {
   "codemirror_mode": {
    "name": "ipython",
    "version": 2
   },
   "file_extension": ".py",
   "mimetype": "text/x-python",
   "name": "python",
   "nbconvert_exporter": "python",
   "pygments_lexer": "ipython2",
   "version": "2.7.6"
  }
 },
 "nbformat": 4,
 "nbformat_minor": 0
}
