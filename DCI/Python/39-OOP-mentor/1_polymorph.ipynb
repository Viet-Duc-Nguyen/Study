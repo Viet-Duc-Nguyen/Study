{
 "cells": [
  {
   "cell_type": "code",
   "execution_count": 2,
   "metadata": {},
   "outputs": [],
   "source": [
    "# This is the super class\n",
    "class A():\n",
    "    def __init__(self):\n",
    "        self._x = 1\n",
    "    @property\n",
    "    def x(self):\n",
    "        return self._x\n",
    "    @x.setter\n",
    "    def x(self, v):\n",
    "        self._x = v\n",
    "\n",
    "# This is a subclass - inherits everything from A\n",
    "class B1(A):\n",
    "    pass\n",
    "\n",
    "# This is another subclass - redefines property of A\n",
    "class B2(A):\n",
    "    @property\n",
    "    def x(self):\n",
    "        return self._x\n",
    "    @x.setter\n",
    "    def x(self, v):\n",
    "        self._x = v+1\n",
    "        \n",
    "# This is another subclass - calls the superclass properties\n",
    "class B3(A):\n",
    "    @property\n",
    "    def x(self):\n",
    "        return super().x\n",
    "    @x.setter\n",
    "    def x(self, v):\n",
    "        # implement a different behavior by just calling super class set property\n",
    "        # and providing a different value\n",
    "        super(B3, self.__class__).x.fset(self, v+2)"
   ]
  },
  {
   "cell_type": "code",
   "execution_count": 5,
   "metadata": {},
   "outputs": [
    {
     "name": "stdout",
     "output_type": "stream",
     "text": [
      "1\n",
      "4\n"
     ]
    }
   ],
   "source": [
    "b3 = B3()\n",
    "print(b3.x)\n",
    "\n",
    "b3.x = 2\n",
    "print(b3.x)"
   ]
  },
  {
   "cell_type": "code",
   "execution_count": 9,
   "metadata": {},
   "outputs": [
    {
     "name": "stdout",
     "output_type": "stream",
     "text": [
      "3\n",
      "3\n"
     ]
    }
   ],
   "source": [
    "# len() being used for a string\n",
    "print(len('DCI'))\n",
    "\n",
    "# len() being used for a list\n",
    "print(len([1, 2, 3]))"
   ]
  },
  {
   "cell_type": "code",
   "execution_count": null,
   "metadata": {},
   "outputs": [],
   "source": []
  },
  {
   "cell_type": "code",
   "execution_count": null,
   "metadata": {},
   "outputs": [],
   "source": []
  }
 ],
 "metadata": {
  "kernelspec": {
   "display_name": "Python 3",
   "language": "python",
   "name": "python3"
  },
  "language_info": {
   "codemirror_mode": {
    "name": "ipython",
    "version": 3
   },
   "file_extension": ".py",
   "mimetype": "text/x-python",
   "name": "python",
   "nbconvert_exporter": "python",
   "pygments_lexer": "ipython3",
   "version": "3.11.2"
  },
  "orig_nbformat": 4
 },
 "nbformat": 4,
 "nbformat_minor": 2
}
