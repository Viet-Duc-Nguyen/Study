{
 "cells": [
  {
   "attachments": {},
   "cell_type": "markdown",
   "metadata": {},
   "source": [
    "Exercise(OOP - Inheritance and Name mangling):\n",
    "Create a parent class called Person with the following attributes:\n",
    "A private attribute called __name\n",
    "A private attribute called __age\n",
    "The class should have the following methods:\n",
    "A method called set_name that takes a parameter name and sets the value of the private attribute __name to name.\n",
    "A method called set_age that takes a parameter age and sets the value of the private attribute __age to age.\n",
    "A method called get_name that returns the value of the private attribute __name.\n",
    "A method called get_age that returns the value of the private attribute __age.\n",
    "Create a child class called Employee that inherits from the Person class. The Employee class should have an additional private attribute called __salary.\n",
    "The Employee class should have the following methods:\n",
    "A method called set_salary that takes a parameter salary and sets the value of the private attribute __salary to salary.\n",
    "A method called get_salary that returns the value of the private attribute __salary.\n",
    "A method called print_name that prints the value of the private attribute __name."
   ]
  },
  {
   "cell_type": "code",
   "execution_count": 3,
   "metadata": {},
   "outputs": [
    {
     "name": "stdout",
     "output_type": "stream",
     "text": [
      "Employee Name: John Doe\n",
      "Employee Age: 30\n",
      "Employee Salary: 5000\n",
      "Employee Name: John Doe\n"
     ]
    }
   ],
   "source": [
    "class Person:\n",
    "    def __init__(self):\n",
    "        self.__name = None\n",
    "        self.__age = None\n",
    "\n",
    "    def set_name(self, name):\n",
    "        self.__name = name\n",
    "\n",
    "    def set_age(self, age):\n",
    "        self.__age = age\n",
    "\n",
    "    def get_name(self):\n",
    "        return self.__name\n",
    "\n",
    "    def get_age(self):\n",
    "        return self.__age\n",
    "\n",
    "\n",
    "class Employee(Person):\n",
    "    def __init__(self):\n",
    "        super().__init__()\n",
    "        self.__salary = None\n",
    "\n",
    "    def set_salary(self, salary):\n",
    "        self.__salary = salary\n",
    "\n",
    "    def get_salary(self):\n",
    "        return self.__salary\n",
    "\n",
    "    def print_name(self):\n",
    "        print(\"Employee Name:\", self.get_name())\n",
    "\n",
    "\n",
    "employee = Employee()\n",
    "\n",
    "employee.set_name(\"John Doe\")\n",
    "employee.set_age(30)\n",
    "employee.set_salary(5000)\n",
    "\n",
    "print(\"Employee Name:\", employee.get_name())  \n",
    "print(\"Employee Age:\", employee.get_age())  \n",
    "print(\"Employee Salary:\", employee.get_salary())  \n",
    "\n",
    "employee.print_name()  "
   ]
  }
 ],
 "metadata": {
  "kernelspec": {
   "display_name": "Python 3",
   "language": "python",
   "name": "python3"
  },
  "language_info": {
   "codemirror_mode": {
    "name": "ipython",
    "version": 3
   },
   "file_extension": ".py",
   "mimetype": "text/x-python",
   "name": "python",
   "nbconvert_exporter": "python",
   "pygments_lexer": "ipython3",
   "version": "3.11.2"
  },
  "orig_nbformat": 4
 },
 "nbformat": 4,
 "nbformat_minor": 2
}
