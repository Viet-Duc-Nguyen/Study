{
 "cells": [
  {
   "attachments": {},
   "cell_type": "markdown",
   "metadata": {},
   "source": []
  },
  {
   "cell_type": "code",
   "execution_count": 3,
   "metadata": {},
   "outputs": [
    {
     "name": "stdout",
     "output_type": "stream",
     "text": [
      " Instance method called\n",
      "Hello World\n",
      "<class '__main__.MyClass'>\n",
      "<__main__.MyClass object at 0x0000026B5E5FE090>\n",
      "class method called\n",
      "<__main__.MyClass object at 0x0000026B5E5FE090>\n"
     ]
    }
   ],
   "source": [
    "class MyClass:\n",
    "    class_var = 0\n",
    "\n",
    "    def __init__(self, instance_var):\n",
    "        self.instance_var = instance_var\n",
    "\n",
    "    def instance_method(self):\n",
    "        self.instance_var += 1\n",
    "        print(f' Instance method called')\n",
    "\n",
    "    @classmethod\n",
    "    def class_method(cls, my_str):\n",
    "        print(my_str)\n",
    "        cls.class_var += 1\n",
    "        print(cls) # cls: MyClass\n",
    "        print(cls(42)) # obj = MyClass()\n",
    "        print(f'class method called')\n",
    "        my_obj = cls(42)\n",
    "        return my_obj\n",
    "    \n",
    "    @staticmethod\n",
    "    def static_method():\n",
    "        print('static method called')\n",
    "\n",
    "my_obj = MyClass(42) # CALLS __init__\n",
    "my_obj.instance_method()\n",
    "\n",
    "print(MyClass.class_method('Hello World'))\n"
   ]
  },
  {
   "cell_type": "code",
   "execution_count": 5,
   "metadata": {},
   "outputs": [
    {
     "ename": "NameError",
     "evalue": "name 'self' is not defined",
     "output_type": "error",
     "traceback": [
      "\u001b[1;31m---------------------------------------------------------------------------\u001b[0m",
      "\u001b[1;31mNameError\u001b[0m                                 Traceback (most recent call last)",
      "Cell \u001b[1;32mIn[5], line 1\u001b[0m\n\u001b[1;32m----> 1\u001b[0m \u001b[39mclass\u001b[39;00m \u001b[39mPerson\u001b[39;00m(\u001b[39mself\u001b[39;49m, fname, lname):\n\u001b[0;32m      2\u001b[0m     \u001b[39mdef\u001b[39;00m \u001b[39m__init__\u001b[39m(\u001b[39mself\u001b[39m, fname, lname):\n\u001b[0;32m      3\u001b[0m         \u001b[39mself\u001b[39m\u001b[39m.\u001b[39mfname \u001b[39m=\u001b[39m fname\n",
      "\u001b[1;31mNameError\u001b[0m: name 'self' is not defined"
     ]
    }
   ],
   "source": [
    "\n",
    "class Person(self, fname, lname):\n",
    "    def __init__(self, fname, lname):\n",
    "        self.fname = fname\n",
    "        self.lname = lname\n",
    "    \n",
    "    def __str__(self):\n",
    "        return f'{self.fname} {self.lname}'\n",
    "    \n",
    "    @classmethod\n",
    "    def get_names(cls, fullname):\n",
    "        fname, lname = fullname.split(' ')\n",
    "        return cls(fname, lname)\n",
    "    \n",
    "my_person_obj = Person('John', 'Snow')\n",
    "print(my_person_obj)\n",
    "my_person_obj2 = Person.get_names('John Snow')\n",
    "print(my_person_obj2)\n",
    "\n",
    "\n"
   ]
  }
 ],
 "metadata": {
  "kernelspec": {
   "display_name": "Python 3",
   "language": "python",
   "name": "python3"
  },
  "language_info": {
   "codemirror_mode": {
    "name": "ipython",
    "version": 3
   },
   "file_extension": ".py",
   "mimetype": "text/x-python",
   "name": "python",
   "nbconvert_exporter": "python",
   "pygments_lexer": "ipython3",
   "version": "3.11.2"
  },
  "orig_nbformat": 4
 },
 "nbformat": 4,
 "nbformat_minor": 2
}
