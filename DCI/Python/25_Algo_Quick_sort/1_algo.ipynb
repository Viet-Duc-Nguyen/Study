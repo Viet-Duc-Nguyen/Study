{
 "cells": [
  {
   "cell_type": "markdown",
   "source": [],
   "metadata": {
    "collapsed": false
   }
  },
  {
   "cell_type": "code",
   "execution_count": 13,
   "metadata": {
    "collapsed": true,
    "ExecuteTime": {
     "end_time": "2023-06-07T09:04:58.384911600Z",
     "start_time": "2023-06-07T09:04:58.381390800Z"
    }
   },
   "outputs": [
    {
     "name": "stdout",
     "output_type": "stream",
     "text": [
      "mod: 24\n",
      "mod: 24\n"
     ]
    }
   ],
   "source": [
    "print('mod:', 64 % 40)\n",
    "print('mod:', 104 % 40)\n"
   ]
  },
  {
   "cell_type": "code",
   "execution_count": 7,
   "outputs": [
    {
     "name": "stdout",
     "output_type": "stream",
     "text": [
      "24 16 8 8\n",
      "24 16 8 8\n",
      "2560\n",
      "40.0\n"
     ]
    }
   ],
   "source": [
    "def hcf(a, b):\n",
    "    remainder = a % b\n",
    "    if remainder == 0:\n",
    "        return b\n",
    "    else:\n",
    "        return str(remainder) + ' ' + str(hcf(b, remainder))\n",
    "\n",
    "\n",
    "print(hcf(64, 40))\n",
    "print(hcf(104, 40))\n",
    "\n",
    "total_area = 64 * 40\n",
    "print(total_area)\n",
    "number_of_squares = total_area/(8**2)\n",
    "\n",
    "print(number_of_squares)\n"
   ],
   "metadata": {
    "collapsed": false,
    "ExecuteTime": {
     "end_time": "2023-06-07T09:09:19.707385200Z",
     "start_time": "2023-06-07T09:09:19.703491200Z"
    }
   }
  },
  {
   "cell_type": "markdown",
   "source": [
    "## Quicksort uses D & C\n",
    "- Quick sort is a popular sorting"
   ],
   "metadata": {
    "collapsed": false
   }
  },
  {
   "cell_type": "code",
   "execution_count": 14,
   "outputs": [
    {
     "name": "stdout",
     "output_type": "stream",
     "text": [
      "****************\n",
      "pivot: 5\n",
      "less: [2, 3, 4, 4]\n",
      "greater: [10, 20]\n",
      "****************\n",
      "pivot: 3\n",
      "less: [2]\n",
      "greater: [4, 4]\n",
      "****************\n",
      "pivot: 4\n",
      "less: [4]\n",
      "greater: []\n",
      "****************\n",
      "pivot: 20\n",
      "less: [10]\n",
      "greater: []\n",
      "[2, 3, 4, 4, 5, 10, 20]\n"
     ]
    }
   ],
   "source": [
    "\n",
    "def quicksort(lst):\n",
    "    if len(lst) < 2:\n",
    "        return lst\n",
    "    else:\n",
    "        pivot = lst[1]\n",
    "        less = [num for num in lst[:1] + lst[2:] if num <= pivot]\n",
    "        greater = [num for num in lst[:1] + lst[2:] if num > pivot]\n",
    "        print('****************')\n",
    "        print(f'pivot: {pivot}')\n",
    "        print(f'less: {less}')\n",
    "        print(f'greater: {greater}')\n",
    "\n",
    "    return quicksort(less) + [pivot] + quicksort(greater)\n",
    "\n",
    "\n",
    "sorted_list = quicksort([10, 5, 2, 3, 4, 4, 20])\n",
    "print(sorted_list)"
   ],
   "metadata": {
    "collapsed": false,
    "ExecuteTime": {
     "end_time": "2023-06-07T09:41:56.169376800Z",
     "start_time": "2023-06-07T09:41:56.166213500Z"
    }
   }
  },
  {
   "cell_type": "code",
   "execution_count": null,
   "outputs": [],
   "source": [],
   "metadata": {
    "collapsed": false
   }
  }
 ],
 "metadata": {
  "kernelspec": {
   "display_name": "Python 3",
   "language": "python",
   "name": "python3"
  },
  "language_info": {
   "codemirror_mode": {
    "name": "ipython",
    "version": 2
   },
   "file_extension": ".py",
   "mimetype": "text/x-python",
   "name": "python",
   "nbconvert_exporter": "python",
   "pygments_lexer": "ipython2",
   "version": "2.7.6"
  }
 },
 "nbformat": 4,
 "nbformat_minor": 0
}
