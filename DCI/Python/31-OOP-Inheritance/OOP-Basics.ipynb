{
 "cells": [
  {
   "cell_type": "code",
   "execution_count": 1,
   "metadata": {},
   "outputs": [
    {
     "name": "stdout",
     "output_type": "stream",
     "text": [
      "Parent's constructor\n",
      "Child's constructor\n",
      "Hello from the Parent class\n",
      "Hello from the Child class\n"
     ]
    }
   ],
   "source": [
    "\n",
    "class Parent:\n",
    "    def __init__(self):\n",
    "        print(\"Parent's constructor\")\n",
    "       \n",
    "    def greet(self):\n",
    "        print(\"Hello from the Parent class\")\n",
    "\n",
    "class Child(Parent):\n",
    "    def __init__(self):\n",
    "        super().__init__()\n",
    "        print(\"Child's constructor\")\n",
    "       \n",
    "    def greet(self):\n",
    "        super().greet()\n",
    "        print(\"Hello from the Child class\")\n",
    "\n",
    "\n",
    "child = Child()\n",
    "child.greet()\n"
   ]
  },
  {
   "cell_type": "code",
   "execution_count": 6,
   "metadata": {},
   "outputs": [
    {
     "name": "stdout",
     "output_type": "stream",
     "text": [
      "ping() in Leaf\n",
      "ping() in A\n",
      "ping() in B\n",
      "ping Root\n"
     ]
    }
   ],
   "source": [
    "#### Diamond Problem\n",
    "\n",
    "class Root:\n",
    "    def ping(self):\n",
    "        print(f\"ping Root\")\n",
    "\n",
    "    def pong(self):\n",
    "        print(f\"pong Root\")\n",
    "\n",
    "class A(Root):\n",
    "    def ping(self):\n",
    "        print('ping() in A')\n",
    "        super().ping()\n",
    "\n",
    "    def pong(self):\n",
    "        print('pong() in A')\n",
    "        super().pong()\n",
    "\n",
    "class B(Root):\n",
    "    def ping(self):\n",
    "        print('ping() in B')\n",
    "        super().ping()\n",
    "\n",
    "    def pong(self):\n",
    "        print('pong() in B')\n",
    "\n",
    "\n",
    "class Leaf(A, B):\n",
    "    def ping(self):\n",
    "        print(f\"ping() in Leaf\")\n",
    "        super().ping()\n",
    "\n",
    "    def pong(self):\n",
    "        super().pong()\n",
    "\n",
    "\n",
    "leaf = Leaf()\n",
    "leaf.ping()"
   ]
  }
 ],
 "metadata": {
  "kernelspec": {
   "display_name": "Python 3",
   "language": "python",
   "name": "python3"
  },
  "language_info": {
   "codemirror_mode": {
    "name": "ipython",
    "version": 3
   },
   "file_extension": ".py",
   "mimetype": "text/x-python",
   "name": "python",
   "nbconvert_exporter": "python",
   "pygments_lexer": "ipython3",
   "version": "3.11.2"
  },
  "orig_nbformat": 4
 },
 "nbformat": 4,
 "nbformat_minor": 2
}
