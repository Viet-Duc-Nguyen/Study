{
 "cells": [
  {
   "attachments": {},
   "cell_type": "markdown",
   "metadata": {},
   "source": [
    "# Lecture 5: Tuples, Lists, Aliasing, Mutability, and Cloning\n",
    "# Description: In this lecture, Dr. Bell introduces compound data types, such as lists and tuples, and explains the concepts of aliasing, mutability, and cloning."
   ]
  },
  {
   "cell_type": "code",
   "execution_count": 1,
   "metadata": {},
   "outputs": [],
   "source": [
    "### TUPLES\n",
    "# - An ordered sequence of elements, can mix element types\n",
    "# - Cannot change element values, immutable\n",
    "# - Represented with parantheses\n",
    "\n",
    "te = () # empty tuple\n",
    "t = (2, \"mit\", 3)\n",
    "t[0] # evaluates to 2\n",
    "(2, \"mit\", 3) + (5, 6) # evaluates to (2, \"mit\", 3, 5, 6)\n",
    "t[1:2] # slice tuple, evaluates to (\"mit\",)\n",
    "t[1:3] # slice tuple, evaluates to (\"mit\", 3)\n",
    "len(t) # evaluates to 3\n",
    "t[1] = 4 # gives error, can't modify"
   ]
  },
  {
   "attachments": {},
   "cell_type": "markdown",
   "metadata": {},
   "source": [
    "# Tuples conveniently used to swap variable values"
   ]
  },
  {
   "cell_type": "code",
   "execution_count": null,
   "metadata": {},
   "outputs": [],
   "source": [
    "x = y     # wrong swap\n",
    "y = x     # wrong swap\n",
    "\n",
    "temp = x \n",
    "x = y     # correct\n",
    "y = temp\n",
    "\n",
    "(x, y) = (y, x) # correct"
   ]
  },
  {
   "attachments": {},
   "cell_type": "markdown",
   "metadata": {},
   "source": [
    "# Tuples can be used to return more than one value from a function"
   ]
  },
  {
   "cell_type": "code",
   "execution_count": 6,
   "metadata": {},
   "outputs": [
    {
     "data": {
      "text/plain": [
       "(0, 4)"
      ]
     },
     "execution_count": 6,
     "metadata": {},
     "output_type": "execute_result"
    }
   ],
   "source": [
    "def quotient_and_remainder(x, y):\n",
    "    q = x // y     # integer division\n",
    "    r = x % y\n",
    "    return (q,r)\n",
    "\n",
    "\n",
    "(quot, rem) = quotient_and_remainder(4,5)\n",
    "\n",
    "quotient_and_remainder(4,5)"
   ]
  },
  {
   "attachments": {},
   "cell_type": "markdown",
   "metadata": {},
   "source": [
    "# MANIPULATING TUPLES"
   ]
  },
  {
   "attachments": {},
   "cell_type": "markdown",
   "metadata": {},
   "source": [
    "# Can iterate over tuples\n",
    "\n",
    "aTuple: (( ), ( ), ( ))"
   ]
  },
  {
   "cell_type": "code",
   "execution_count": 8,
   "metadata": {},
   "outputs": [
    {
     "name": "stdout",
     "output_type": "stream",
     "text": [
      "Form 2008 to 2014 Taylor Swift wrote songs about 5 people\n"
     ]
    }
   ],
   "source": [
    "def get_data(aTuple):\n",
    "    nums = ()\n",
    "    words = ()\n",
    "    for t in aTuple:\n",
    "        nums = nums + (t[0],)\n",
    "        if t[1] not in words:\n",
    "            words = words + (t[1],)\n",
    "    min_n = min(nums)\n",
    "    max_n = max(nums)\n",
    "    unique_words = len(words)\n",
    "    return (min_n, max_n, unique_words)\n",
    "\n",
    "\n",
    "# apply to any data\n",
    "\n",
    "tswift = ((2014, \"Katy\"),\n",
    "          (2014, \"Harry\"),\n",
    "          (2012, \"Jake\"),\n",
    "          (2010, \"Taylor\"),\n",
    "          (2008, \"Joe\"))\n",
    "\n",
    "(min_year, max_year, num_people) = get_data(tswift)\n",
    "\n",
    "print(\"From\", min_year, \"to\", max_year, \\\n",
    "      \"Taylor Swift wrote songs about\", num_people, \"people\")"
   ]
  },
  {
   "cell_type": "code",
   "execution_count": 9,
   "metadata": {},
   "outputs": [
    {
     "name": "stdout",
     "output_type": "stream",
     "text": [
      "[0, 2, 4, 6, 8]\n"
     ]
    }
   ],
   "source": [
    "my_list = [x for x in range(10) if x%2==0]\n",
    "print(my_list)"
   ]
  },
  {
   "cell_type": "code",
   "execution_count": 10,
   "metadata": {},
   "outputs": [
    {
     "name": "stdout",
     "output_type": "stream",
     "text": [
      "[5, 4, 3, 2, 1]\n"
     ]
    }
   ],
   "source": [
    "my_list = [1, 2, 3, 4, 5]\n",
    "my_list.reverse()\n",
    "print(my_list)"
   ]
  },
  {
   "cell_type": "code",
   "execution_count": 11,
   "metadata": {},
   "outputs": [
    {
     "ename": "TypeError",
     "evalue": "can only concatenate list (not \"int\") to list",
     "output_type": "error",
     "traceback": [
      "\u001b[1;31m---------------------------------------------------------------------------\u001b[0m",
      "\u001b[1;31mTypeError\u001b[0m                                 Traceback (most recent call last)",
      "Cell \u001b[1;32mIn[11], line 2\u001b[0m\n\u001b[0;32m      1\u001b[0m my_list \u001b[39m=\u001b[39m [\u001b[39m1\u001b[39m,\u001b[39m2\u001b[39m,\u001b[39m3\u001b[39m, \u001b[39m'\u001b[39m\u001b[39mfour\u001b[39m\u001b[39m'\u001b[39m, \u001b[39m5\u001b[39m]\n\u001b[1;32m----> 2\u001b[0m \u001b[39mprint\u001b[39m(my_list[\u001b[39m2\u001b[39;49m:\u001b[39m4\u001b[39;49m] \u001b[39m+\u001b[39;49m my_list[\u001b[39m-\u001b[39;49m\u001b[39m1\u001b[39;49m])\n",
      "\u001b[1;31mTypeError\u001b[0m: can only concatenate list (not \"int\") to list"
     ]
    }
   ],
   "source": [
    "my_list = [1,2,3, 'four', 5]\n",
    "print(my_list[2:4] + my_list[-1])"
   ]
  }
 ],
 "metadata": {
  "kernelspec": {
   "display_name": "Python 3",
   "language": "python",
   "name": "python3"
  },
  "language_info": {
   "codemirror_mode": {
    "name": "ipython",
    "version": 3
   },
   "file_extension": ".py",
   "mimetype": "text/x-python",
   "name": "python",
   "nbconvert_exporter": "python",
   "pygments_lexer": "ipython3",
   "version": "3.11.3"
  },
  "orig_nbformat": 4
 },
 "nbformat": 4,
 "nbformat_minor": 2
}
