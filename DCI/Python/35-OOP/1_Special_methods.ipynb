{
 "cells": [
  {
   "attachments": {},
   "cell_type": "markdown",
   "metadata": {},
   "source": [
    "# A Pythonic Object"
   ]
  },
  {
   "attachments": {},
   "cell_type": "markdown",
   "metadata": {},
   "source": [
    "## Special Methods\n",
    "- define behavior of (pythonic) objects    \n",
    "e.g.\n",
    "1. __add__: controls the behavior of an object when it is operated on by the + symbol\n",
    "2. __str__: controls the object's string representation\n",
    "3. __init__: controls the process of creating instances of a class\n",
    "4. __next__:\n",
    "5. __len__: controls the behavior of an object when the built-in len function is apply on this object"
   ]
  },
  {
   "cell_type": "code",
   "execution_count": 21,
   "metadata": {},
   "outputs": [
    {
     "name": "stdout",
     "output_type": "stream",
     "text": [
      "key: a\n",
      "A\n",
      "25\n"
     ]
    }
   ],
   "source": [
    "class SillyClass:\n",
    "    def __init__(self) -> None:\n",
    "        self.my_dict = {'a': 'A', 'b': 'B'}\n",
    "        self.num = 5\n",
    "\n",
    "    def __getitem__(self, key):\n",
    "        print('key:', key)\n",
    "        '''Determines behavior of self[key]'''\n",
    "        return self.my_dict[key]\n",
    "        return [True, False, True, False]\n",
    "    \n",
    "    def __pow__(self, other):\n",
    "        '''Determines behavior of self ** other'''\n",
    "        return self.num ** other\n",
    "        return \"Python Like You Mean It\"\n",
    "\n",
    "\n",
    "silly = SillyClass()\n",
    "print(silly['a'])\n",
    "print(silly ** 2)    "
   ]
  },
  {
   "cell_type": "code",
   "execution_count": null,
   "metadata": {},
   "outputs": [],
   "source": []
  },
  {
   "cell_type": "code",
   "execution_count": null,
   "metadata": {},
   "outputs": [],
   "source": []
  }
 ],
 "metadata": {
  "kernelspec": {
   "display_name": "Python 3",
   "language": "python",
   "name": "python3"
  },
  "language_info": {
   "codemirror_mode": {
    "name": "ipython",
    "version": 3
   },
   "file_extension": ".py",
   "mimetype": "text/x-python",
   "name": "python",
   "nbconvert_exporter": "python",
   "pygments_lexer": "ipython3",
   "version": "3.11.2"
  },
  "orig_nbformat": 4
 },
 "nbformat": 4,
 "nbformat_minor": 2
}
