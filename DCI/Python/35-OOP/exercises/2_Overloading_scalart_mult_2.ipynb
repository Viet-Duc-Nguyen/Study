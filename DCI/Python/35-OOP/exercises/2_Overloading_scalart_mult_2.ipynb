{
 "cells": [
  {
   "attachments": {},
   "cell_type": "markdown",
   "metadata": {},
   "source": [
    "### Exercise( Overloading * for Scalar Multiplication II):\n",
    "In this exercise we now reverse the order of the operands.\n",
    "You can also multiplay a number to a vector:  c * (x,y)  = (x*c, y*c)\n",
    "- use the dunder method __ rmul__ to add a scalar (number) to an instance of Vector2d\n",
    "- research how __mul__  and __rmul__  work together"
   ]
  },
  {
   "cell_type": "code",
   "execution_count": null,
   "metadata": {},
   "outputs": [],
   "source": [
    "vec2d = Vector2d(1,1)\n",
    "new_vec2d = 10 * vec2d \n",
    "print(vec2d) # --> Vector2d (10, 10)"
   ]
  },
  {
   "cell_type": "code",
   "execution_count": 6,
   "metadata": {},
   "outputs": [
    {
     "name": "stdout",
     "output_type": "stream",
     "text": [
      "Vector2d(2, 1)\n",
      "Vector2d(20, 10)\n"
     ]
    }
   ],
   "source": [
    "class Vector2d:\n",
    "    def __init__(self, x, y) -> None:\n",
    "        self.x = x\n",
    "        self.y = y\n",
    "    \n",
    "    def __mul__(self, scalar):\n",
    "        return Vector2d(self.x * scalar, self.y * scalar)\n",
    "    \n",
    "    def __rmul__ (self, scalar):\n",
    "        return self.__mul__(scalar)\n",
    "    \n",
    "    def __str__(self) -> str:\n",
    "        return f'Vector2d({self.x}, {self.y})'\n",
    "    \n",
    "\n",
    "\n",
    "# TEST\n",
    "vec2d = Vector2d(2, 1)\n",
    "print(vec2d)\n",
    "\n",
    "new_vec2d = 10 * vec2d  \n",
    "print(new_vec2d)"
   ]
  }
 ],
 "metadata": {
  "kernelspec": {
   "display_name": "Python 3",
   "language": "python",
   "name": "python3"
  },
  "language_info": {
   "codemirror_mode": {
    "name": "ipython",
    "version": 3
   },
   "file_extension": ".py",
   "mimetype": "text/x-python",
   "name": "python",
   "nbconvert_exporter": "python",
   "pygments_lexer": "ipython3",
   "version": "3.11.2"
  },
  "orig_nbformat": 4
 },
 "nbformat": 4,
 "nbformat_minor": 2
}
