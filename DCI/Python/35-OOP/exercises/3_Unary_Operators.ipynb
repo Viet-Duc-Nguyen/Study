{
 "cells": [
  {
   "attachments": {},
   "cell_type": "markdown",
   "metadata": {},
   "source": [
    "### Exercise(Overloading + for Vector Addition):\n",
    "- implement +  mathematical vector operation\n",
    "\n",
    "(x1,y1) + (x2,y2) = (x1+x2, y1+y2)"
   ]
  },
  {
   "cell_type": "code",
   "execution_count": null,
   "metadata": {},
   "outputs": [],
   "source": [
    "v1 = Vector2d([3,4,5])\n",
    "v2 = Vector2d([6,7,8])\n",
    "v3  = v1 + v2 #---> Vector2d([9, 11, 13])"
   ]
  },
  {
   "cell_type": "code",
   "execution_count": 4,
   "metadata": {},
   "outputs": [
    {
     "name": "stdout",
     "output_type": "stream",
     "text": [
      "Vector2d([9, 11, 13])\n"
     ]
    }
   ],
   "source": [
    "class Vector2d:\n",
    "    def __init__(self, coordinates) -> None:\n",
    "        self.coordinates = coordinates\n",
    "\n",
    "    def __add__(self, other):\n",
    "        if len(self.coordinates) != len(other.coordinates):\n",
    "            raise ValueError('Vectors must have the same dimension')\n",
    "        \n",
    "        result_coordinates = [x + y for x, y in zip(self.coordinates, other.coordinates)]\n",
    "        return Vector2d(result_coordinates)\n",
    "    \n",
    "    def __str__(self) -> str:\n",
    "        return f\"Vector2d({self.coordinates})\"\n",
    "    \n",
    "\n",
    "v1 = Vector2d([3, 4, 5])\n",
    "v2 = Vector2d([6, 7, 8])\n",
    "v3 = v1 + v2\n",
    "\n",
    "print(v3)\n"
   ]
  },
  {
   "cell_type": "code",
   "execution_count": null,
   "metadata": {},
   "outputs": [],
   "source": []
  }
 ],
 "metadata": {
  "kernelspec": {
   "display_name": "Python 3",
   "language": "python",
   "name": "python3"
  },
  "language_info": {
   "codemirror_mode": {
    "name": "ipython",
    "version": 3
   },
   "file_extension": ".py",
   "mimetype": "text/x-python",
   "name": "python",
   "nbconvert_exporter": "python",
   "pygments_lexer": "ipython3",
   "version": "3.11.2"
  },
  "orig_nbformat": 4
 },
 "nbformat": 4,
 "nbformat_minor": 2
}
