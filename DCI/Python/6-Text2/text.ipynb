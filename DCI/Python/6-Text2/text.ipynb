{
 "cells": [
  {
   "attachments": {},
   "cell_type": "markdown",
   "metadata": {},
   "source": [
    "# Recap - Text\n",
    "\n",
    "https://docs.python.org/3/library/stdtypes.html\n",
    "\n",
    "- str.capitalize()\n",
    "- str.casefold()\n",
    "- str.count()\n",
    "- str.endswith(suffix[, start[, end]])\n",
    "- str.find(sub[, start[, end]])\n",
    " The find() method should be used only if you need to know the **position** of sub. To check if sub is a substring or not, use the in operator: \n",
    " ```\n",
    " 'Py' in 'Python'\n",
    " ```\n",
    "- str.format()\n",
    "```\n",
    "\"The sum of 1 + 2 is {0}\".format(1+2)\n",
    "```\n",
    "- str.index() #raises error if not found\n",
    "- str.isalnum(), str.isalpha(), str.isdigit(), str.islower()\n",
    "- str.isspace()\n",
    "- str.istitle()\n",
    "- str.isupper()\n",
    "- str.join()\n",
    "- str.lower()\n",
    "- str.lstrip(), str.rstrip(), str.strip()\n",
    "- str.replace(old, new[, count])\n",
    "- str.split()\n",
    "- str.title()\n",
    "- str.upper()"
   ]
  },
  {
   "cell_type": "code",
   "execution_count": 35,
   "metadata": {},
   "outputs": [
    {
     "name": "stdout",
     "output_type": "stream",
     "text": [
      "Hello world\n",
      "hello worldss\n",
      "1\n",
      "True\n",
      "2\n",
      "The sum of 1 + 2 is 3\n",
      "True\n",
      "True\n",
      "True\n",
      "True\n",
      "True\n",
      "Heßßo World\n"
     ]
    }
   ],
   "source": [
    "print('hello world'.capitalize())\n",
    "print('Hello Worldß'.casefold())\n",
    "print('hello'.count('l', 0,3))\n",
    "print('hello world'.endswith('ld'))\n",
    "print('hello'.find('ll'))\n",
    "print(\"The sum of 1 + 2 is {0}\".format(1+2))\n",
    "print(\"Bla\".isalpha())\n",
    "print('bla3'.isalnum())\n",
    "print('12'.isdigit())\n",
    "print('  '.isspace())\n",
    "print('Bla Bla'.istitle())\n",
    "print('Hello World'.replace('l', 'ß', 2))"
   ]
  },
  {
   "attachments": {},
   "cell_type": "markdown",
   "metadata": {},
   "source": [
    "## Last Exercise"
   ]
  },
  {
   "cell_type": "code",
   "execution_count": 40,
   "metadata": {},
   "outputs": [
    {
     "name": "stdout",
     "output_type": "stream",
     "text": [
      "disqus.com\n",
      "123-reg.co.uk\n",
      "gmpg.org\n",
      "cafepress.com\n",
      "cafepress.com\n",
      "addthis.org\n",
      "cafepress.com\n",
      "cafepress.com\n",
      "columbia.edu\n",
      "sun.com\n",
      "cafepress.com\n",
      "freewebs.com\n",
      "house.gov\n",
      "furl.net\n",
      "guardian.com\n",
      "guardian.com\n",
      "jigsy.com\n",
      "nytimes.com\n",
      "guardian.co.uk\n",
      "51.la\n",
      "nsw.gov.au\n",
      "noaa.gov\n",
      "guardian.com\n",
      "guardian.com\n",
      "guardian.com\n"
     ]
    }
   ],
   "source": [
    "data = \"\"\"id,first_name,last_name,email,ip_address\n",
    "1,Jennine,Kohnert,jkohnert0@disqus.com,45.55.73.106\n",
    "2,Katalin,Nolda,knolda1@123-reg.co.uk,223.30.112.215\n",
    "3,Atalanta,Kaming,akaming2@gmpg.org,254.219.7.208\n",
    "4,Kassie,Covell,kcovell3@cafepress.com,150.145.187.71\n",
    "5,Vonni,Dignam,vdignam4@cafepress.com,138.219.98.53\n",
    "6,Billie,Neubigging,bneubigging5@addthis.org,180.79.192.175\n",
    "7,Etan,Peers,epeers6@cafepress.com,199.1.3.70\n",
    "8,Pail,Walcher,pwalcher7@cafepress.com,199.170.155.126\n",
    "9,Edlin,Kosel,ekosel8@columbia.edu,217.59.107.252\n",
    "10,Jennifer,Tibalt,jtibalt9@sun.com,73.29.190.227\n",
    "11,Douglas,Howe,dhowea@cafepress.com,93.94.19.71\n",
    "12,Galina,Antoniewski,gantoniewskib@freewebs.com,69.177.160.104\n",
    "13,Emelita,Pauer,epauerc@house.gov,178.243.169.131\n",
    "14,Edmon,Cleugh,POTATOKING.2000@furl.net,100.219.252.98\n",
    "15,kyo,zipulimakkarakeitto,kz@guardian.com,78.226.120.240\n",
    "16,Harlin,Goodrich,hgoodrichf@guardian.com,232.242.92.122\n",
    "17,Paddie,Brittain,pbrittaing@jigsy.com,230.116.80.29\n",
    "18,Blisse,Barbrook,bbarbrookh@nytimes.com,153.237.126.205\n",
    "19,Latia,Roughey,lrougheyi@guardian.co.uk,184.128.166.8\n",
    "20,Gregoire,Castelow,gcastelowj@51.la,87.181.120.134\n",
    "21,lorenza,kurn,ljurnk@nsw.gov.au,192.238.146.135\n",
    "22,Dulciana,Wilce,dwilcel@noaa.gov,234.245.232.7\n",
    "23,Boyd,Sponton,bspontonm@guardian.com,106.75.217.74\n",
    "24,Lenora,Issard,lissardn@guardian.com,167.91.15.190\n",
    "25,Lissi,Davidovitz,ldavidovitzo@guardian.com,48.7.220.5\"\"\"\n",
    "lines = data.splitlines()\n",
    "\n",
    "domains = []\n",
    "\n",
    "for i in range(1, len(lines)):\n",
    "    line = lines[i].split(',')\n",
    "    email=line[3]\n",
    "    domain = email.split('@')[1]\n",
    "\n"
   ]
  },
  {
   "attachments": {},
   "cell_type": "markdown",
   "metadata": {},
   "source": [
    "### Methods to solve Exercise (DAY 1)\n",
    "\n",
    "- 1. Text: https://github.com/dci-python-course/Python-Texts-Basics-1 (upper, capitalize, concat, isalpha, replace)\n",
    "- 2. https://github.com/dci-python-course/Python-Text-len (len, modulo)\n",
    "- 3. https://github.com/dci-python-course/Python-Text-case (upper, lower)\n",
    "- 4. https://github.com/dci-python-course/Python-Text-find (find)\n",
    "- 5. https://github.com/dci-python-course/Python-Text-replace (replace)\n",
    "\n"
   ]
  },
  {
   "attachments": {},
   "cell_type": "markdown",
   "metadata": {},
   "source": [
    "### Index\n",
    "\n",
    "Hello World --> 0,1,2,3,4,5..... draw picture"
   ]
  },
  {
   "cell_type": "code",
   "execution_count": 47,
   "metadata": {},
   "outputs": [
    {
     "data": {
      "text/plain": [
       "'d'"
      ]
     },
     "execution_count": 47,
     "metadata": {},
     "output_type": "execute_result"
    }
   ],
   "source": [
    "my_string = 'Hello world'\n",
    "my_string[0]\n",
    "my_string[-1]"
   ]
  },
  {
   "attachments": {},
   "cell_type": "markdown",
   "metadata": {},
   "source": [
    "### Slice\n",
    "my_string[start:end:steps] # end is excluded"
   ]
  },
  {
   "cell_type": "code",
   "execution_count": 46,
   "metadata": {},
   "outputs": [
    {
     "data": {
      "text/plain": [
       "'Hlowrd'"
      ]
     },
     "execution_count": 46,
     "metadata": {},
     "output_type": "execute_result"
    }
   ],
   "source": [
    "my_string[0:1]\n",
    "my_string[2:]\n",
    "my_string[::2]\n"
   ]
  },
  {
   "attachments": {},
   "cell_type": "markdown",
   "metadata": {},
   "source": [
    "### Encoding"
   ]
  },
  {
   "attachments": {},
   "cell_type": "markdown",
   "metadata": {},
   "source": [
    "### Immutable\n"
   ]
  },
  {
   "cell_type": "code",
   "execution_count": 49,
   "metadata": {},
   "outputs": [
    {
     "name": "stdout",
     "output_type": "stream",
     "text": [
      "140150829952240\n",
      "140150829952240\n"
     ]
    }
   ],
   "source": [
    "str1 = \"hello\"\n",
    "str2 = \"hello\"\n",
    "print(id(str1))\n",
    "print(id(str2))"
   ]
  },
  {
   "attachments": {},
   "cell_type": "markdown",
   "metadata": {},
   "source": [
    "### Exercises (Text DAY 2)\n",
    "6. https://github.com/dci-python-course/Python-Texts-Basics-2 (len, index, slice, upper, count(), strip)\n",
    "7. https://github.com/dci-python-course/Python-Texts-Secret_of_Love (len, [::-1], concatenate)\n",
    "8. https://github.com/dci-python-course/Python-Text-inator (str(), index)\n",
    "9. https://github.com/dci-python-course/Python-Text-substring (slice)\n",
    "10. https://github.com/dci-python-course/Python-Text-capslockday (capitalize(), txt.isupper())\n",
    "11. https://github.com/dci-python-course/Python-Text-join (join)"
   ]
  }
 ],
 "metadata": {
  "kernelspec": {
   "display_name": "Python 3",
   "language": "python",
   "name": "python3"
  },
  "language_info": {
   "codemirror_mode": {
    "name": "ipython",
    "version": 3
   },
   "file_extension": ".py",
   "mimetype": "text/x-python",
   "name": "python",
   "nbconvert_exporter": "python",
   "pygments_lexer": "ipython3",
   "version": "3.8.10"
  },
  "orig_nbformat": 4
 },
 "nbformat": 4,
 "nbformat_minor": 2
}
