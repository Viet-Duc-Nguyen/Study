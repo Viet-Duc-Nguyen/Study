{
 "cells": [
  {
   "attachments": {},
   "cell_type": "markdown",
   "metadata": {},
   "source": [
    "## Consistency\n",
    "\n",
    "- Consistency is the property of a transaction \n",
    "- that guarantees that the changes done will be following all the defined rules."
   ]
  },
  {
   "attachments": {},
   "cell_type": "markdown",
   "metadata": {},
   "source": [
    "### Database Transaction\n",
    "\n",
    "- a single change in database\n",
    "- a transaction can involve multiple operations\n",
    "- e.g. money transfer (**transaction**):\n",
    "1. subtraction from buyer\n",
    "2. addition to seller\n",
    "- e.g. item transfer\n",
    "\n",
    "- money and item transfer could be also one transfer\n",
    "\n",
    "What is a transaction/operation depends on the nature of the application."
   ]
  },
  {
   "attachments": {},
   "cell_type": "markdown",
   "metadata": {},
   "source": [
    "## ACID\n",
    "- The properties \n",
    "1. atomic \n",
    "2. consistent\n",
    "3. isolated\n",
    "4. durable \n",
    "are commonly known as the ACID properties transactions."
   ]
  },
  {
   "cell_type": "markdown",
   "metadata": {},
   "source": [
    "1. Setup"
   ]
  },
  {
   "cell_type": "code",
   "execution_count": null,
   "metadata": {
    "vscode": {
     "languageId": "sql"
    }
   },
   "outputs": [],
   "source": [
    "-- Drop the table if it exists\n",
    "DROP TABLE IF EXISTS bank_accounts;\n",
    "\n",
    "-- Create the example table with the constraint for non-negative balance\n",
    "CREATE TABLE bank_accounts (\n",
    "    account_id SERIAL PRIMARY KEY,\n",
    "    account_name TEXT,\n",
    "    account_balance DECIMAL DEFAULT 0 CHECK (account_balance >= 0)  -- Constraint added here\n",
    ");\n",
    "\n",
    "-- Insert sample data for the exercises\n",
    "INSERT INTO bank_accounts (account_name, account_balance) VALUES ('A', 100), ('B', 200);\n"
   ]
  },
  {
   "attachments": {},
   "cell_type": "markdown",
   "metadata": {},
   "source": [
    "### Atomicity:\n",
    "\n",
    "A database transaction must be done as a whole or not done at all."
   ]
  },
  {
   "cell_type": "markdown",
   "metadata": {},
   "source": [
    "- Ask two students (let's call them A and B) to simultaneously attempt a money transfer operation. However, in student B's query, intentionally create a scenario that would result in a negative balance (violating our constraint)."
   ]
  },
  {
   "cell_type": "code",
   "execution_count": null,
   "metadata": {
    "vscode": {
     "languageId": "sql"
    }
   },
   "outputs": [],
   "source": [
    "BEGIN;\n",
    "UPDATE bank_accounts SET account_balance = account_balance - 50 WHERE account_name = 'A';\n",
    "UPDATE bank_accounts SET account_balance = account_balance + 50 WHERE account_name = 'B';\n",
    "COMMIT;\n"
   ]
  },
  {
   "cell_type": "code",
   "execution_count": null,
   "metadata": {
    "vscode": {
     "languageId": "sql"
    }
   },
   "outputs": [],
   "source": [
    "BEGIN;\n",
    "UPDATE bank_accounts SET account_balance = account_balance - 150 WHERE account_name = 'A'; -- This will violate our non-negative constraint\n",
    "UPDATE bank_accounts SET account_balance = account_balance + 150 WHERE account_name = 'B';\n",
    "COMMIT; --will not work\n",
    "ROLLBACK; -- Due to the constraint violation above\n"
   ]
  },
  {
   "cell_type": "markdown",
   "metadata": {},
   "source": [
    "Observation: The constraint violation in Student B's transaction should cause the entire transaction to roll back, demonstrating Atomicity."
   ]
  },
  {
   "attachments": {},
   "cell_type": "markdown",
   "metadata": {},
   "source": [
    "### Consistency\n",
    "- Data is in a consistent state when a transaction starts and when it ends.\n",
    "e.g.an application that transfers funds from one account to another:\n",
    "the consistency property ensures that\n",
    "\n",
    "the *total value of funds in both the accounts* is the same at the start and end of each transaction.\n"
   ]
  },
  {
   "cell_type": "code",
   "execution_count": null,
   "metadata": {
    "vscode": {
     "languageId": "sql"
    }
   },
   "outputs": [],
   "source": [
    "SELECT sum(account_balance) FROM bank_accounts;"
   ]
  },
  {
   "attachments": {},
   "cell_type": "markdown",
   "metadata": {},
   "source": [
    "### Isolation\n",
    "\n",
    "- A database transaction must also be isolated.\n",
    "- A higher level of isolation has higher chances of one transaction blocking another.\n",
    "- A lower level of isolation has higher chances of producing concurrency undesired effects."
   ]
  },
  {
   "cell_type": "markdown",
   "metadata": {},
   "source": [
    "Instructions:\n",
    "- Ask two students (let's call them C and D) to begin a transaction simultaneously. Student C will update an account balance, but will delay the commit. Student D will try to read the same account.\n",
    "\n",
    "Student C:\n",
    "```sql\n",
    "BEGIN;\n",
    "UPDATE bank_accounts SET account_balance = account_balance + 100 WHERE account_name = 'C';\n",
    "-- Ask the student to wait before committing\n",
    "```\n",
    "\n",
    "Student D (run this immediately after student C runs their update):\n",
    "```sql\n",
    "SELECT account_balance FROM bank_accounts WHERE account_name = 'C';\n",
    "```\n",
    "\n",
    "After a few seconds, Student C:\n",
    "```sql\n",
    "COMMIT;\n",
    "```\n",
    "\n",
    "Now, Student D:\n",
    "```sql\n",
    "SELECT account_balance FROM bank_accounts WHERE account_name = 'C';\n",
    "```\n",
    "\n",
    "**Observation**: Student D will first see the old balance and then the updated balance after Student C commits the transaction. This demonstrates Isolation."
   ]
  },
  {
   "attachments": {},
   "cell_type": "markdown",
   "metadata": {},
   "source": [
    "### Durability\n",
    "- A database transaction must also be durable.\n",
    "- The changes should be persistent.\n",
    "- Once a change is done, it is written on the file system\n",
    "- only another change will remove that change."
   ]
  },
  {
   "attachments": {},
   "cell_type": "markdown",
   "metadata": {},
   "source": [
    "### ACID COMPLIANCE\n",
    "- postgres\n",
    "- mysql\n",
    "- sqlite\n",
    "\n",
    "All Relational DBMS are, or can be, ACID compliant.\n",
    "\n",
    "Some NoSQL DBMS can be ACID compliant:\n",
    "\n",
    "- MongoDB\n",
    "- CouchDB\n",
    "- Db2\n",
    "\n",
    "But ACID is a relational concept and most NoSQL use the BASE properties\n",
    "- BASE properties focus on availability rather than consistency\n"
   ]
  },
  {
   "cell_type": "markdown",
   "metadata": {},
   "source": [
    "### BASE Model\n",
    "\n",
    "The BASE model is an alternative transaction model to the traditional ACID model.\n",
    "\n",
    "The need for an alternative arose from the challenges faced when trying to achieve **high availability, fault tolerance, and scalability** in distributed and NoSQL databases. \n",
    "\n",
    "BASE emphasizes a looser, more scalable approach, which is a fit for many modern web and cloud-based applications.\n",
    "\n",
    "Here's a breakdown of the BASE acronym:\n",
    "\n",
    "1. **Basically Available**: \n",
    "    - This suggests that the system does guarantee availability, but might not guarantee up-to-the-moment data accuracy across the entire system. \n",
    "    - Data might be stale or might not be synchronized across all nodes or replicas. \n",
    "    - In practice, this means that the system continues to function even if a portion of its infrastructure is offline or has failed.\n",
    "\n",
    "2. **Soft State**: \n",
    "    - The state of the system might change over time, even without any input. This is due to the eventual consistency model.\n",
    "    - The \"soft\" nature indicates that the system's state may not remain consistent at all times. As opposed to \"hard state\" systems, where a change leads to an immediate and consistent new state everywhere, \"soft state\" systems recognize and allow temporary inconsistencies.\n",
    "\n",
    "3. **Eventually Consistent**: \n",
    "    - While the system may not always reflect a consistent state to all users at all times, it promises that, given a certain amount of time without new updates, it will eventually converge towards a consistent state.\n",
    "    - This contrasts with the immediate consistency seen in ACID systems. \n",
    "    - when an update is made in a distributed database, that update will be reflected in all database nodes\n",
    "    (Horizontal scaling: add nodes)\n",
    "    (vs. vertical scaling: increase the resources of a single machine) \n",
    "\n",
    "The trade-offs between ACID and BASE depend on the specific use case. \n",
    "\n",
    "- **ACID** guarantees strict consistency, atomicity, and isolation, making it a fit for systems where correctness and consistency are paramount (e.g., banking transactions).\n",
    "  \n",
    "- **BASE**, on the other hand, trades consistency for availability and fault tolerance. It is more suitable for systems where high availability is essential, and where the application can tolerate temporary inconsistencies (e.g., social media posts, caching systems).\n",
    "\n",
    "In real-world scenarios, many systems don't strictly adhere to just ACID or BASE but find a balance between them, depending on the specific requirements of various parts of the system."
   ]
  },
  {
   "attachments": {},
   "cell_type": "markdown",
   "metadata": {},
   "source": [
    "#### Eventually Consistent\n",
    "![](event_consistent.png)\n"
   ]
  },
  {
   "attachments": {},
   "cell_type": "markdown",
   "metadata": {},
   "source": [
    "ACID versus BASE\n",
    "\n",
    "- NoSQL databases provide so-called BASE guarantees\n",
    "- sacrifice a degree of consistency in order to increase availability\n",
    "- Rather than providing strong consistency, they provide eventual consistency\n",
    "- a datastore that provides BASE guarantees can occasionally fail to return the result of the latest WRITE\n",
    "\n",
    "In a typical example, an eventual consistency NoSQL database might permit a hotel room to be reserved on the same night by two different customers, one in Hong Kong and the other in New York City.\n",
    "\n",
    "For many business applications, this is not a problem.\n",
    "\n",
    "The resilience, availability, and low-latency afforded by NoSQL are well worth the tradeoff. \n",
    "\n",
    "The hotel can provide perks to a disgruntled customer, but, by contrast, a regional outage could create significant churn.\n",
    "\n",
    "\n"
   ]
  },
  {
   "attachments": {},
   "cell_type": "markdown",
   "metadata": {},
   "source": [
    "## Database Concurrency\n",
    "- is the ability to execute two or more transactions at the same time.\n",
    "\n",
    "\n"
   ]
  },
  {
   "attachments": {},
   "cell_type": "markdown",
   "metadata": {},
   "source": [
    "### READ vs. write\n",
    "- Reading transactions can be executed simultaneously.\n",
    "- Writing transactions very often cannot be executed simultaneously.\n",
    "\n",
    "The nature of the transactions determines how the concurrent transactions are managed."
   ]
  },
  {
   "attachments": {},
   "cell_type": "markdown",
   "metadata": {},
   "source": [
    "### Concurrency Issues\n",
    "The isolation property prevents the occurrence of some undesired behavior due to concurrent writing transactions.\n",
    "\n",
    "1. Dirty reads\n",
    "- A transaction reads data written by concurrent uncommitted transactions.\n",
    "- we are not sure about the consistency of the data that is read because we don’t know the result of the open transaction\n",
    "2. Non-repeatable reads\n",
    "- A transaction re-reads data it has previously read and finds that data has been modified by another transaction\n",
    "- occurs, when during the course of a transaction, a row is retrieved twice and the values within the row differ between reads.\n",
    "- user b commits between two queries of user a\n",
    "3. Phantom reads\n",
    "- the result changes if executed again, due to another recently-committed transaction.\n",
    "- All the rows in the query have the same value before and after, but different rows are being selected (because B has deleted or inserted some)\n",
    "- when reading from committed INSERTS and/or DELETES from another transaction.\n"
   ]
  },
  {
   "attachments": {},
   "cell_type": "markdown",
   "metadata": {},
   "source": [
    "### Concurrent Writing Transactions\n",
    "\n",
    "- Concurrent writing transactions are executed sequentially to prevent isolation issues.\n",
    "- While the system executes the first transaction the rest stays “on hold”, waiting for the first to finish."
   ]
  },
  {
   "attachments": {},
   "cell_type": "markdown",
   "metadata": {},
   "source": [
    "- So how do Write Transaction 2 & 3 know they need to wait?\n",
    "1. A writing transaction request arrives. It checks if it has access to the data. It does, so it executes.\n",
    "2. When the transaction is executed, a **lock** is added to the database.\n",
    "3. A second transaction request arrives. It checks if it has access to the data. It finds the lock, so it waits.\n",
    "4. When the first transaction finishes, the lock is released and the next transaction checks again.\n",
    "5. A COMMIT; and a ROLLBACK; will release the lock.\n"
   ]
  },
  {
   "attachments": {},
   "cell_type": "markdown",
   "metadata": {},
   "source": [
    "### Some writing transactions can be done simultaneously.\n",
    "\n",
    "- Each new transaction has a lock and a key. \n",
    "- Checks if the key fits in the current lock.\n",
    "- If the key fits, adds its own lock and executes.\n",
    "- A third transaction will try to open every lock it finds on its way to the data. \n",
    "- If it succeeds, adds a new lock and executes."
   ]
  },
  {
   "cell_type": "code",
   "execution_count": null,
   "metadata": {
    "vscode": {
     "languageId": "shellscript"
    }
   },
   "outputs": [],
   "source": [
    "psql -h host_name_or_ip -p port_number -U myuser mydb"
   ]
  },
  {
   "cell_type": "markdown",
   "metadata": {},
   "source": [
    "### Locks in PostgreSQL\n",
    "In databases, a lock is a mechanism employed to control access to a database resource by multiple transactions. \n",
    "\n",
    "The primary objective of locks is to ensure data integrity in concurrent access scenarios.\n",
    "\n",
    "By using locks, PostgreSQL ensures that two transactions don't interfere with each other,\n",
    "especially in scenarios that could compromise the integrity of the database."
   ]
  },
  {
   "cell_type": "markdown",
   "metadata": {},
   "source": [
    "- to see thr locks, run:\n",
    "```sql\n",
    "SELECT relation::regclass, mode, granted \n",
    "FROM pg_locks \n",
    "WHERE relation = 'my_table'::regclass;\n",
    "```\n"
   ]
  },
  {
   "cell_type": "markdown",
   "metadata": {},
   "source": [
    "1. try to do a select transaction (sessionA) and a drop transaction(session B)\n",
    "\n",
    "2. then do select (A) and insert (B) (non conflicting locks)\n",
    "\n",
    "3. create index (A) and insert (B) conflicting"
   ]
  },
  {
   "cell_type": "markdown",
   "metadata": {},
   "source": [
    "\n",
    "\n",
    "1. **ACCESS SHARE**\n",
    "   - **Typically Acquired By**: `SELECT ...`\n",
    "   - **Conflicts with**: ACCESS EXCLUSIVE\n",
    "   - **SQL Example**:\n",
    "     ```sql\n",
    "     SELECT * FROM my_table;\n",
    "     ```\n",
    "\n",
    "2. **ROW EXCLUSIVE**\n",
    "   - **Typically Acquired By**: `INSERT`, `UPDATE`, `DELETE`\n",
    "   - **Conflicts with**: SHARE, SHARE ROW EXCLUSIVE, EXCLUSIVE, ACCESS EXCLUSIVE\n",
    "   - **SQL Example**:\n",
    "     ```sql\n",
    "     INSERT INTO my_table VALUES (1, 'data');\n",
    "     UPDATE my_table SET column_name = 'new_value' WHERE condition;\n",
    "     DELETE FROM my_table WHERE condition;\n",
    "     ```\n",
    "\n",
    "3. **SHARE**\n",
    "   - **Typically Acquired By**: `CREATE INDEX` (not concurrently)\n",
    "   - **Conflicts with**: ROW EXCLUSIVE, SHARE ROW EXCLUSIVE, EXCLUSIVE, ACCESS EXCLUSIVE\n",
    "   - **SQL Example**:\n",
    "     ```sql\n",
    "     CREATE INDEX idx_column_name ON my_table(column_name);\n",
    "     ```\n",
    "\n",
    "4. **ACCESS EXCLUSIVE**\n",
    "   - **Typically Acquired By**: `ALTER TABLE`, `DROP TABLE`, etc.\n",
    "   - **Conflicts with**: All other locks (ACCESS SHARE, ROW SHARE, ROW EXCLUSIVE, SHARE UPDATE EXCLUSIVE, SHARE, SHARE ROW EXCLUSIVE, EXCLUSIVE)\n",
    "   - **SQL Example**:\n",
    "     ```sql\n",
    "     ALTER TABLE my_table ADD COLUMN new_column INT;\n",
    "     DROP TABLE my_table;\n",
    "     ```\n"
   ]
  }
 ],
 "metadata": {
  "language_info": {
   "name": "python"
  },
  "orig_nbformat": 4
 },
 "nbformat": 4,
 "nbformat_minor": 2
}
