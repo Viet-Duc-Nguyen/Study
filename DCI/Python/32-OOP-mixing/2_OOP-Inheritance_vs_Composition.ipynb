{
 "cells": [
  {
   "attachments": {},
   "cell_type": "markdown",
   "metadata": {},
   "source": [
    "## Inheritance vs. Composition\n",
    "\n",
    "- Inheritance models what is called an **is-a*"
   ]
  },
  {
   "cell_type": "code",
   "execution_count": 11,
   "metadata": {},
   "outputs": [
    {
     "name": "stdout",
     "output_type": "stream",
     "text": [
      "ID: 101\n",
      "Name: Bob\n",
      "Address: Randomstreet 1 Buxtehude 33123\n"
     ]
    }
   ],
   "source": [
    "class Address:            # Component\n",
    "    def __init__(self, street, city, zipcode) -> None:\n",
    "        self.street = street\n",
    "        self.city = city\n",
    "        self.zipcode = zipcode\n",
    "\n",
    "    def __str__(self):\n",
    "        '''\n",
    "        Street Zipcode City\n",
    "        '''\n",
    "        return f\"{self.street} {self.zipcode} {self.city}\"\n",
    "    \n",
    "\n",
    "address_obj = Address('Randomstreet 1', 33123, 'Buxtehude')\n",
    "# print(address_obj)\n",
    "\n",
    "\n",
    "class  Employee:          # Composite\n",
    "    def __init__(self, id, name, address) -> None:\n",
    "        self.id = id\n",
    "        self.name = name\n",
    "        self.address = address\n",
    "\n",
    "    def get_employee(self):\n",
    "        print(f'ID: {self.id}')\n",
    "        print(f'Name: {self.name}')\n",
    "        print(f'Address: {self.address}')\n",
    "\n",
    "emp1 = Employee(101, 'Bob', address_obj)\n",
    "emp1.get_employee()"
   ]
  },
  {
   "cell_type": "code",
   "execution_count": null,
   "metadata": {},
   "outputs": [],
   "source": []
  },
  {
   "cell_type": "code",
   "execution_count": null,
   "metadata": {},
   "outputs": [],
   "source": []
  }
 ],
 "metadata": {
  "kernelspec": {
   "display_name": "Python 3",
   "language": "python",
   "name": "python3"
  },
  "language_info": {
   "codemirror_mode": {
    "name": "ipython",
    "version": 3
   },
   "file_extension": ".py",
   "mimetype": "text/x-python",
   "name": "python",
   "nbconvert_exporter": "python",
   "pygments_lexer": "ipython3",
   "version": "3.11.2"
  },
  "orig_nbformat": 4
 },
 "nbformat": 4,
 "nbformat_minor": 2
}
