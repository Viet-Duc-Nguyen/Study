{
 "cells": [
  {
   "attachments": {},
   "cell_type": "markdown",
   "metadata": {},
   "source": [
    "#### 20.06.23\n",
    "### Today's Topic:\n",
    "1. Mixins\n",
    "2. Inheritance vs. Composition\n",
    "3. Private and protected variables"
   ]
  },
  {
   "cell_type": "code",
   "execution_count": 6,
   "metadata": {},
   "outputs": [
    {
     "name": "stdout",
     "output_type": "stream",
     "text": [
      "ping in LeafUA\n",
      "ping in U\n",
      "ping in A\n",
      "ping in root\n",
      "[<class '__main__.LeafUA'>, <class '__main__.U'>, <class '__main__.A'>, <class '__main__.Root'>, <class 'object'>]\n"
     ]
    }
   ],
   "source": [
    "### MIXINS ###\n",
    "\n",
    "class Root:\n",
    "    def ping(self):\n",
    "        print('ping in root')\n",
    "\n",
    "class A(Root):\n",
    "    def ping(self):\n",
    "        print('ping in A')\n",
    "        super().ping()\n",
    "\n",
    "class U:\n",
    "    def ping(self):\n",
    "        print('ping in U')\n",
    "        super().ping()\n",
    "\n",
    "class LeafUA(U, A):                #mro: Leaf, U, A, object\n",
    "    def ping(self):\n",
    "        print('ping in LeafUA')\n",
    "        super().ping()\n",
    "\n",
    "u = U()\n",
    "# u.ping() \n",
    "        # Why can't call ping without an error?\n",
    "        # Because U has no parent\n",
    "\n",
    "leafua = LeafUA()\n",
    "leafua.ping()\n",
    "print(LeafUA.mro())"
   ]
  },
  {
   "cell_type": "code",
   "execution_count": 9,
   "metadata": {},
   "outputs": [],
   "source": [
    "class StrMixin:\n",
    "    def __str__(self):\n",
    "        return f\"{(super().__str__())} extended by Mixin\"\n",
    "    \n",
    "    def __len__(self):\n",
    "        total= sum(self.values())\n",
    "        return total\n",
    "    \n",
    "import collections\n",
    "\n",
    "class StrDict(StrMixin, collections.UserDict):\n",
    "    pass\n",
    "\n",
    "class StrCounter(collections.Counter, StrMixin):\n",
    "    pass\n",
    "\n",
    "d = StrDict({'a': 1, 'b': 2})\n"
   ]
  },
  {
   "cell_type": "code",
   "execution_count": null,
   "metadata": {},
   "outputs": [],
   "source": []
  }
 ],
 "metadata": {
  "kernelspec": {
   "display_name": "Python 3",
   "language": "python",
   "name": "python3"
  },
  "language_info": {
   "codemirror_mode": {
    "name": "ipython",
    "version": 3
   },
   "file_extension": ".py",
   "mimetype": "text/x-python",
   "name": "python",
   "nbconvert_exporter": "python",
   "pygments_lexer": "ipython3",
   "version": "3.11.2"
  },
  "orig_nbformat": 4
 },
 "nbformat": 4,
 "nbformat_minor": 2
}
