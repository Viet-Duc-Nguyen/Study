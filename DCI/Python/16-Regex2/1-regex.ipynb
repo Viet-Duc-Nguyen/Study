{
 "cells": [
  {
   "cell_type": "code",
   "execution_count": 9,
   "metadata": {},
   "outputs": [
    {
     "name": "stdout",
     "output_type": "stream",
     "text": [
      "['John', 'John']\n",
      "REPLACED_STR old; John     Smith, 25 year old\n",
      "First name: John Smith, 25 years old; First name: John     Smith, 25 year old\n",
      "First name: John, surname: Smith, 25 years old; First name: John, surname: Smith, 25 year old\n"
     ]
    }
   ],
   "source": [
    "import re\n",
    "\n",
    "input_str = 'John Smith, 25 years old; John     Smith, 25 year old'\n",
    "\n",
    "matches_str = re.findall('(John)', input_str)\n",
    "print(matches_str)\n",
    "\n",
    "output_str = re.sub('John Smith, 25 years', r\"REPLACED_STR\", input_str)\n",
    "# matches the whole string and replaces it with REPLACE_STR\n",
    "print(output_str)\n",
    "\n",
    "output_str = re.sub('(John)', r\"First name: \\1\", input_str)\n",
    "print(output_str)\n",
    "\n",
    "output_str = re.sub('(John)\\s*(Smith)', r\"First name: \\1, surname: \\2\", input_str)\n",
    "print(output_str)"
   ]
  },
  {
   "cell_type": "code",
   "execution_count": 14,
   "metadata": {},
   "outputs": [
    {
     "name": "stdout",
     "output_type": "stream",
     "text": [
      "PLACEHOLDER 25 years old; PLACEHOLDER 30 year old\n"
     ]
    }
   ],
   "source": [
    "input_str = 'John Smith, 25 years old; Bob     Doe, 30 year old'\n",
    "\n",
    "output_str = re.sub(r'[A-Za-z]+\\s+[A-Za-z]+,', 'PLACEHOLDER', input_str)\n",
    "\n",
    "print(output_str)"
   ]
  },
  {
   "cell_type": "code",
   "execution_count": 26,
   "metadata": {},
   "outputs": [
    {
     "name": "stdout",
     "output_type": "stream",
     "text": [
      "FIRST_N: John SUR_N: Smith 25 years old; FIRST_N: Bob SUR_N: Doe 30 year old\n"
     ]
    }
   ],
   "source": [
    "input_str = 'John Smith, 25 years old; Bob     Doe, 30 year old'\n",
    "\n",
    "# output_str = re.sub(r'([A-Za-z]+)\\s+[A-Za-z]+,', r'FIRST_N: \\1 SUR_N: \\2', input_str) # missing ()\n",
    "output_str = re.sub(r'([A-Za-z]+)\\s+([A-Za-z]+),', r'FIRST_N: \\1 SUR_N: \\2', input_str)\n",
    "\n",
    "print(output_str)"
   ]
  },
  {
   "cell_type": "code",
   "execution_count": 28,
   "metadata": {},
   "outputs": [
    {
     "name": "stdout",
     "output_type": "stream",
     "text": [
      "FIRST_N: JOHN SUR_N: SMITH 25 years old; FIRST_N: BOB SUR_N: DOE 30 year old\n"
     ]
    }
   ],
   "source": [
    "def regex_group_helper(match):\n",
    "    return f\"FIRST_N: {match.group(1).upper()} SUR_N: {match.group(2).upper()}\"\n",
    "\n",
    "\n",
    "output_str = re.sub(r'([A-Za-z]+)\\s+([A-Za-z]+),', regex_group_helper, input_str)\n",
    "\n",
    "print(output_str)\n"
   ]
  },
  {
   "cell_type": "code",
   "execution_count": 29,
   "metadata": {},
   "outputs": [
    {
     "name": "stdout",
     "output_type": "stream",
     "text": [
      "F_N: JOHN, S_N: SMITH 25 years old; F_N: BOB, S_N: DOE 30 year old\n"
     ]
    }
   ],
   "source": [
    "output_str = re.sub(r'([A-Za-z]+)\\s+([A-Za-z]+),', lambda match: f\"F_N: {match.group(1).upper()}, S_N: {match.group(2).upper()}\", input_str)\n",
    "\n",
    "print(output_str)"
   ]
  },
  {
   "cell_type": "code",
   "execution_count": 50,
   "metadata": {},
   "outputs": [
    {
     "name": "stdout",
     "output_type": "stream",
     "text": [
      "BLA BLA BLA\n"
     ]
    }
   ],
   "source": [
    "my_dates_str = '01.02.2012 11.3.13 14.2.2023'   \n",
    "formated_str = re.sub(r\"\\d{2}\\.\\d{1,2}\\.\\d{2,4}\", \"BLA\", my_dates_str)\n",
    "print(formated_str)"
   ]
  },
  {
   "cell_type": "code",
   "execution_count": 73,
   "metadata": {},
   "outputs": [
    {
     "name": "stdout",
     "output_type": "stream",
     "text": [
      "02-01-2012 3-11-13 2-14-2023\n"
     ]
    }
   ],
   "source": [
    "my_dates_str = '01.02.2012 11.3.13 14.2.2023'     # 02/01/2012 .....\n",
    "#year from 2 to 4 digits\n",
    "formatted_str1 = re.sub(r\"(\\d{2})\\.(\\d{1,2})\\.(\\d{2,4})\", r\"\\2-\\1-\\3\", my_dates_str)\n",
    "print(formatted_str1)"
   ]
  },
  {
   "cell_type": "code",
   "execution_count": 88,
   "metadata": {},
   "outputs": [
    {
     "name": "stdout",
     "output_type": "stream",
     "text": [
      "02-01-2012 3-11-13 2-14-2023 14.3.333\n"
     ]
    }
   ],
   "source": [
    "my_dates_str = '01.02.2012 11.3.13 14.2.2023 14.3.333'     # 02/01/2012 .....\n",
    "#year 2 or 4 digits (|)\n",
    "formatted_str1 = re.sub(r\"(\\d{2})\\.(\\d{1,2})\\.(\\d{2}\\b|\\d{4}\\b)\", r\"\\2-\\1-\\3\", my_dates_str)\n",
    "print(formatted_str1)"
   ]
  },
  {
   "cell_type": "code",
   "execution_count": 74,
   "metadata": {},
   "outputs": [
    {
     "name": "stdout",
     "output_type": "stream",
     "text": [
      "d(2, 4): 02-01-2012 3-11-13 2-14-2023\n"
     ]
    }
   ],
   "source": [
    "my_dates_str = '01.02.2012 11.3.13 14.2.2023'     # 02/01/2012 .....\n",
    "#year from 2 to 4 digits\n",
    "formatted_str1 = re.sub(r\"(\\d{2})\\.(\\d{1,2})\\.(\\d{2,4})\", r\"\\2-\\1-\\3\", my_dates_str)\n",
    "print(f'd{2,4}:', formatted_str1)"
   ]
  }
 ],
 "metadata": {
  "kernelspec": {
   "display_name": "Python 3",
   "language": "python",
   "name": "python3"
  },
  "language_info": {
   "codemirror_mode": {
    "name": "ipython",
    "version": 3
   },
   "file_extension": ".py",
   "mimetype": "text/x-python",
   "name": "python",
   "nbconvert_exporter": "python",
   "pygments_lexer": "ipython3",
   "version": "3.11.2"
  },
  "orig_nbformat": 4
 },
 "nbformat": 4,
 "nbformat_minor": 2
}
