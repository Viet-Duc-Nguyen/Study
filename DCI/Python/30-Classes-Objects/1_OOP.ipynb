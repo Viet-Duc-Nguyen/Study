{
 "cells": [
  {
   "cell_type": "code",
   "execution_count": 11,
   "metadata": {
    "collapsed": true
   },
   "outputs": [
    {
     "name": "stdout",
     "output_type": "stream",
     "text": [
      "122345\n",
      "<function MyClass.f at 0x000001C4186276A0>\n",
      "A simple class\n",
      "\n",
      "\n",
      "<class 'int'>\n",
      "<class 'function'>\n",
      "<class 'str'>\n"
     ]
    }
   ],
   "source": [
    "# attribute references\n",
    "\n",
    "class MyClass:\n",
    "    \"\"\"A simple class\"\"\"\n",
    "    i = 122345\n",
    "\n",
    "    def f(self):\n",
    "        return \"Hello World\"\n",
    "\n",
    "    \n",
    "\n",
    "print(MyClass.i)\n",
    "print(MyClass.f)\n",
    "print(MyClass.__doc__)\n",
    "\n",
    "print('\\n')\n",
    "\n",
    "print(type(MyClass.i))\n",
    "print(type(MyClass.f))\n",
    "print(type(MyClass.__doc__))\n"
   ]
  },
  {
   "cell_type": "code",
   "execution_count": null,
   "metadata": {},
   "outputs": [],
   "source": []
  }
 ],
 "metadata": {
  "kernelspec": {
   "display_name": "Python 3",
   "language": "python",
   "name": "python3"
  },
  "language_info": {
   "codemirror_mode": {
    "name": "ipython",
    "version": 3
   },
   "file_extension": ".py",
   "mimetype": "text/x-python",
   "name": "python",
   "nbconvert_exporter": "python",
   "pygments_lexer": "ipython3",
   "version": "3.11.2"
  }
 },
 "nbformat": 4,
 "nbformat_minor": 0
}
