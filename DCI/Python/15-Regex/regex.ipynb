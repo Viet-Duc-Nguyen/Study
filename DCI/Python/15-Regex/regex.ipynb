{
 "cells": [
  {
   "attachments": {},
   "cell_type": "markdown",
   "metadata": {},
   "source": [
    "## Regex\n",
    "\n",
    "- Regular expressions (regex) are a powerful tool for pattern matching and string manipulation in Python.\n",
    "- In regex:\n",
    "\n",
    "1. characters are used to match literal characters in a string\n",
    "2. metacharacters and special sequences are used to match more complex patterns\n"
   ]
  },
  {
   "attachments": {},
   "cell_type": "markdown",
   "metadata": {},
   "source": [
    "### Regex methods\n",
    "\n",
    "| Method       | Description                                                                                                                          |\n",
    "| ------------ | ------------------------------------------------------------------------------------------------------------------------------------ |\n",
    "| re.search()  | Searches the string for a match to the regex pattern and returns the first match found.                                              |\n",
    "| re.findall() | Returns a list of all non-overlapping matches of the regex pattern in the string.                                                    |\n",
    "| re.match()   | Returns a match object if the pattern is found at the beginning of the string. If the pattern is not found, the method returns None. |\n",
    "| re.sub()     | Substitutes all occurrences of the regex pattern in the string with a replacement string.                                            |\n",
    "| re.split()   | Splits the string at each occurrence of the regex pattern and returns a list of the resulting substrings.                            |\n"
   ]
  },
  {
   "attachments": {},
   "cell_type": "markdown",
   "metadata": {},
   "source": [
    "**Characters**: These are literal characters that match themselves.\n",
    "For example, the regex **a** matches the character \"a\" in a string.\n"
   ]
  },
  {
   "cell_type": "code",
   "execution_count": 7,
   "metadata": {},
   "outputs": [
    {
     "name": "stdout",
     "output_type": "stream",
     "text": [
      "<re.Match object; span=(1, 2), match='a'>\n"
     ]
    }
   ],
   "source": [
    "import re\n",
    "matches = re.search('a', 'Ham')\n",
    "print(matches)\n"
   ]
  },
  {
   "attachments": {},
   "cell_type": "markdown",
   "metadata": {},
   "source": [
    "**Metacharacters**: These are special characters that have a special meaning in regex.\n",
    "Some common metacharacters include:\n"
   ]
  },
  {
   "attachments": {},
   "cell_type": "markdown",
   "metadata": {},
   "source": [
    "| Character          | Description                                                     |\n",
    "| ------------------ | --------------------------------------------------------------- |\n",
    "| . (dot):           | Matches any character except newline.                           |\n",
    "| ^ (caret):         | Matches the beginning of a string.                              |\n",
    "| $ (dollar sign):   | Matches the end of a string.                                    |\n",
    "| \\* (asterisk):     | Matches zero or more occurrences of the preceding character.    |\n",
    "| + (plus sign):     | Matches one or more occurrences of the preceding character.     |\n",
    "| ? (question mark): | Matches zero or one occurrence of the preceding character.      |\n",
    "| {m}:               | Matches exactly m occurrences of the preceding character.       |\n",
    "| {m,n}:             | Matches between m and n occurrences of the preceding character. |\n"
   ]
  },
  {
   "cell_type": "code",
   "execution_count": 9,
   "metadata": {},
   "outputs": [
    {
     "name": "stdout",
     "output_type": "stream",
     "text": [
      "<re.Match object; span=(0, 2), match='ab'>\n",
      "None\n",
      "<re.Match object; span=(0, 1), match='a'>\n",
      "None\n",
      "None\n",
      "None\n",
      "<re.Match object; span=(0, 3), match='aaa'>\n",
      "<re.Match object; span=(0, 0), match=''>\n",
      "<re.Match object; span=(0, 3), match='aaa'>\n",
      "None\n",
      "<re.Match object; span=(0, 1), match='a'>\n",
      "<re.Match object; span=(0, 0), match=''>\n",
      "<re.Match object; span=(0, 2), match='aa'>\n",
      "None\n",
      "<re.Match object; span=(0, 4), match='aaaa'>\n",
      "None\n",
      "<re.Match object; span=(0, 4), match='aaaa'>\n"
     ]
    }
   ],
   "source": [
    "# Dot (.)\n",
    "match_obj = re.match('a.', 'abc')\n",
    "print(match_obj)  # <re.Match object; span=(0, 2), match='ab'>\n",
    "# The regex 'a.' matches the first 'a' character and any character after it, so the match object contains 'ab'.\n",
    "\n",
    "match_obj = re.match('a.', 'a')\n",
    "print(match_obj)  # None\n",
    "# The regex 'a.' requires at least two characters in the string to match, so None is returned.\n",
    "\n",
    "# Caret (^)\n",
    "match_obj = re.match('^a', 'abc')\n",
    "print(match_obj)  # <re.Match object; span=(0, 1), match='a'>\n",
    "# The regex '^a' matches the first character of the string 'abc', so a match object is returned.\n",
    "\n",
    "match_obj = re.match('^b', 'abc')\n",
    "print(match_obj)  # None\n",
    "# The regex '^b' does not match the beginning of the string 'abc', so None is returned.\n",
    "\n",
    "# Dollar Sign ($)\n",
    "match_obj = re.match('c$', 'abc')\n",
    "print(match_obj)  # <re.Match object; span=(2, 3), match='c'>\n",
    "# The regex 'c$' matches the last character of the string 'abc', so a match object is returned.\n",
    "\n",
    "match_obj = re.match('a$', 'abc')\n",
    "print(match_obj)  # None\n",
    "# The regex 'a$' does not match the end of the string 'abc', so None is returned.\n",
    "\n",
    "# Asterisk (*)\n",
    "match_obj = re.match('a*', 'aaa')\n",
    "print(match_obj)  # <re.Match object; span=(0, 3), match='aaa'>\n",
    "# The regex 'a*' matches zero or more 'a' characters at the beginning of the string 'aaa', so a match object is returned.\n",
    "\n",
    "match_obj = re.match('a*', 'bbb')\n",
    "print(match_obj)  # <re.Match object; span=(0, 0), match=''>\n",
    "# The regex 'a*' matches zero 'a' characters in the string 'bbb', so an empty match object is returned.\n",
    "\n",
    "# Plus Sign (+)\n",
    "match_obj = re.match('a+', 'aaa')\n",
    "print(match_obj)  # <re.Match object; span=(0, 3), match='aaa'>\n",
    "# The regex 'a+' matches one or more 'a' characters at the beginning of the string 'aaa', so a match object is returned.\n",
    "\n",
    "match_obj = re.match('a+', 'bbb')\n",
    "print(match_obj)  # None\n",
    "# The regex 'a+' does not match any character in the string 'bbb', so None is returned.\n",
    "\n",
    "# Question Mark (?)\n",
    "match_obj = re.match('a?', 'aaa')\n",
    "print(match_obj)  # <re.Match object; span=(0, 1), match='a'>\n",
    "# The regex 'a?' matches zero or one 'a' character at the beginning of the string 'aaa', so a match object is returned.\n",
    "\n",
    "match_obj = re.match('a?', 'bbb')\n",
    "print(match_obj)  # <re.Match object; span=(0, 0), match=''>\n",
    "# The regex 'a?' matches zero 'a' characters in the string 'bbb', so an empty match object is returned.\n",
    "\n",
    "# {m}\n",
    "match_obj = re.match('a{2}', 'aaa')\n",
    "print(match_obj)  # <re.Match object; span=(0, 2), match='aa'>\n",
    "# The regex 'a{2}' matches exactly two 'a' characters at the beginning of the string 'aaa', so a match object is returned.\n",
    "\n",
    "match_obj = re.match('a{2}', 'a')\n",
    "print(match_obj)  # None\n",
    "# The regex 'a{2}' requires at least two 'a' characters to match, so None is returned.\n",
    "\n",
    "# {m,n}\n",
    "match_obj = re.match('a{2,4}', 'aaaaa')\n",
    "print(match_obj)  # <re.Match object; span=(0, 4), match='aaaa'>\n",
    "# The regex 'a{2,4}' matches between two and four 'a' characters at the beginning of the string 'aaaaa', so a match object is returned.\n",
    "\n",
    "match_obj = re.match('a{2,4}', 'a')\n",
    "print(match_obj)  # None\n",
    "# The regex 'a{2,4}' requires at least two 'a' characters to match, so None is returned.\n",
    "\n",
    "match_obj = re.match('a{2,4}', 'aaaaaaa')\n",
    "print(match_obj)  # <re.Match object; span=(0, 4), match='aaaa'>\n",
    "# The regex 'a{2,4}' matches only the first four 'a' characters at the beginning of the string 'aaaaaaa', so a match object is returned.\n"
   ]
  },
  {
   "attachments": {},
   "cell_type": "markdown",
   "metadata": {},
   "source": [
    "**Special sequences**: These are shorthand codes for commonly used patterns. Some common special sequences include:\n"
   ]
  },
  {
   "attachments": {},
   "cell_type": "markdown",
   "metadata": {},
   "source": [
    "![image.png](character_classes.png)\n"
   ]
  },
  {
   "cell_type": "code",
   "execution_count": 18,
   "metadata": {},
   "outputs": [
    {
     "name": "stdout",
     "output_type": "stream",
     "text": [
      "<re.Match object; span=(0, 1), match='1'>\n",
      "None\n",
      "<re.Match object; span=(0, 1), match=' '>\n",
      "None\n",
      "<re.Match object; span=(0, 1), match='h'>\n",
      "None\n"
     ]
    }
   ],
   "source": [
    "import re\n",
    "\n",
    "# \\d\n",
    "match_obj = re.match('\\d', '123')\n",
    "print(match_obj)  # <re.Match object; span=(0, 1), match='1'>\n",
    "# The regex '\\d' matches any digit character, so the first digit '1' at the beginning of the string '123' is matched\n",
    "# and returned as a match object.\n",
    "\n",
    "match_obj = re.match('\\d', 'abc')\n",
    "print(match_obj)  # None\n",
    "# The regex '\\d' matches only digit characters, so None is returned because there are no digit characters at the beginning of the string 'abc'.\n",
    "\n",
    "# \\s\n",
    "match_obj = re.match('\\s', ' hello')\n",
    "print(match_obj)  # <re.Match object; span=(0, 1), match=' '>\n",
    "# The regex '\\s' matches any whitespace character, so the first whitespace character at the beginning of the string ' hello' is matched and returned as a match object.\n",
    "\n",
    "match_obj = re.match('\\s', 'hello')\n",
    "print(match_obj)  # None\n",
    "# The regex '\\s' matches only whitespace characters, so None is returned because there are no whitespace characters at the beginning of the string 'hello'.\n",
    "\n",
    "# \\w\n",
    "match_obj = re.match('\\w', 'hello')\n",
    "print(match_obj)  # <re.Match object; span=(0, 1), match='h'>\n",
    "# The regex '\\w' matches any alphanumeric character, so the first alphanumeric character 'h' at the beginning of the string 'hello' is matched and returned as a match object.\n",
    "\n",
    "match_obj = re.match('\\w', '$hello')\n",
    "print(match_obj)  # None\n",
    "# The regex '\\w' matches only alphanumeric characters, so None is returned because there are no alphanumeric characters at the beginning of the string '$hello'.\n",
    "\n"
   ]
  },
  {
   "cell_type": "code",
   "execution_count": 19,
   "metadata": {},
   "outputs": [
    {
     "name": "stdout",
     "output_type": "stream",
     "text": [
      "['x', 'y', 'z']\n",
      "['1', '2', '3']\n",
      "['a', 'b', 'c', 'd', 'e']\n",
      "['1', '2', '3', '4', '5']\n",
      "['h', 'e', 'l', 'l', 'o', ' ', ' ', 'w', 'o', 'r', 'l', 'd']\n",
      "['a', 'b', 'c', 'D', 'E']\n",
      "['12', '34', '56']\n",
      "['+']\n"
     ]
    }
   ],
   "source": [
    "# \\[...]\n",
    "# Match any single character that is 'x', 'y', or 'z'\n",
    "pattern1 = '[xyz]'\n",
    "text1 = 'hello xyz world'\n",
    "\n",
    "# Find all matches of pattern1 in text1\n",
    "matches1 = re.findall(pattern1, text1)\n",
    "print(matches1)  # Output: ['x', 'y', 'z']\n",
    "\n",
    "# Match any single digit that is either 0, 1, 2, or 3\n",
    "pattern2 = '[0123]'\n",
    "text2 = '12345'\n",
    "\n",
    "# Find all matches of pattern2 in text2\n",
    "matches2 = re.findall(pattern2, text2)\n",
    "print(matches2)  # Output: ['1', '2', '3']\n",
    "\n",
    "# Match any single alphabetic character that is between 'a' and 'e', inclusive\n",
    "pattern3 = '[a-e]'\n",
    "text3 = 'abcdefg12345'\n",
    "\n",
    "# Find all matches of pattern3 in text3\n",
    "matches3 = re.findall(pattern3, text3)\n",
    "print(matches3)  # Output: ['a', 'b', 'c', 'd', 'e']\n",
    "\n",
    "# Match any single digit that is between 0 and 5, inclusive\n",
    "pattern4 = '[0-5]'\n",
    "text4 = '12345'\n",
    "\n",
    "# Find all matches of pattern4 in text4\n",
    "matches4 = re.findall(pattern4, text4)\n",
    "print(matches4)  # Output: ['1', '2', '3', '4', '5']\n",
    "\n",
    "# Match any single character that is not 'x', 'y', or 'z'\n",
    "pattern5 = '[^xyz]'\n",
    "text5 = 'hello xyz world'\n",
    "\n",
    "# Find all matches of pattern5 in text5\n",
    "matches5 = re.findall(pattern5, text5)\n",
    "print(matches5)  # Output: ['h', 'e', 'l', 'o', ' ', 'w', 'r', 'l', 'd']\n",
    "\n",
    "# Match any single alphabetic character that is between 'a' and 'e', inclusive, or between 'A' and 'E', inclusive\n",
    "pattern6 = '[a-eA-E]'\n",
    "text6 = 'abcDEFG12345'\n",
    "\n",
    "# Find all matches of pattern6 in text6\n",
    "matches6 = re.findall(pattern6, text6)\n",
    "print(matches6)  # Output: ['a', 'b', 'c', 'D', 'E']\n",
    "\n",
    "# Match any two-digit number that is between 00 and 59, inclusive\n",
    "pattern7 = '[0-5][0-9]'\n",
    "text7 = '12 34 56 78 90'\n",
    "\n",
    "# Find all matches of pattern7 in text7\n",
    "matches7 = re.findall(pattern7, text7)\n",
    "print(matches7)  # Output: ['12', '34', '56']\n",
    "\n",
    "# Match the plus sign (+) character\n",
    "pattern8 = '[+]'\n",
    "text8 = '1+2=3'\n",
    "\n",
    "# Find all matches of pattern8 in text8\n",
    "matches8 = re.findall(pattern8, text8)\n",
    "print(matches8)  # Output: ['+']\n"
   ]
  },
  {
   "attachments": {},
   "cell_type": "markdown",
   "metadata": {},
   "source": [
    "![image.png](Repetition_char.png)\n"
   ]
  },
  {
   "attachments": {},
   "cell_type": "markdown",
   "metadata": {},
   "source": [
    "![image.png](groups.png)\n"
   ]
  },
  {
   "attachments": {},
   "cell_type": "markdown",
   "metadata": {},
   "source": [
    "To replace a regex group in Python, you can use the re.sub() method from the re module. Here's an example that demonstrates how to use this method to replace a regex group:"
   ]
  },
  {
   "cell_type": "code",
   "execution_count": 42,
   "metadata": {},
   "outputs": [
    {
     "name": "stdout",
     "output_type": "stream",
     "text": [
      "John, 25 years old (Smith)\n"
     ]
    }
   ],
   "source": [
    "import re\n",
    "\n",
    "# Define the input string\n",
    "input_str = \"John Smith, 25 years old\"\n",
    "\n",
    "# Define the regex pattern with a group\n",
    "regex_pattern = r\"(\\w+)\\s(\\w+),\\s(\\d+)\\syears\\sold\"\n",
    "\n",
    "# Replace the second group with a new value\n",
    "output_str = re.sub(regex_pattern, r\"\\1, \\3 years old (\\2)\", input_str)\n",
    "\n",
    "# Print the output string\n",
    "print(output_str)\n"
   ]
  },
  {
   "cell_type": "code",
   "execution_count": 43,
   "metadata": {},
   "outputs": [
    {
     "name": "stdout",
     "output_type": "stream",
     "text": [
      "JOHN, 25 years old (Smith)\n"
     ]
    }
   ],
   "source": [
    "import re\n",
    "\n",
    "# Define the input string\n",
    "input_str = \"John Smith, 25 years old\"\n",
    "\n",
    "# Define the regex pattern with a group\n",
    "regex_pattern = r\"(\\w+)\\s(\\w+),\\s(\\d+)\\syears\\sold\"\n",
    "\n",
    "# Use lambda and re.sub() to replace the second group with a new value\n",
    "output_str = re.sub(regex_pattern, lambda match: f\"{match.group(1).upper()}, {match.group(3)} years old ({match.group(2)})\", input_str)\n",
    "\n",
    "# Print the output string\n",
    "print(output_str)\n"
   ]
  },
  {
   "attachments": {},
   "cell_type": "markdown",
   "metadata": {},
   "source": [
    "![image.png](anchor_char.png)\n"
   ]
  },
  {
   "cell_type": "code",
   "execution_count": 17,
   "metadata": {},
   "outputs": [
    {
     "name": "stdout",
     "output_type": "stream",
     "text": [
      "<re.Match object; span=(6, 11), match='world'>\n",
      "None\n"
     ]
    }
   ],
   "source": [
    "# \\b\n",
    "match_obj = re.search(r'\\bworld', 'hello world')\n",
    "print(match_obj)  # <re.Match object; span=(6, 11), match='world'>\n",
    "# The regex '\\b' matches a word boundary,\n",
    "# which is the empty string between a word character (\\w) and a non-word character.\n",
    "# In this case, it matches the empty string between the space character and the 'w' character in the string 'hello world',\n",
    "# and returns the match object for the word 'world'.\n",
    "\n",
    "match_obj = re.search(r'\\bworld', 'helloworld')\n",
    "print(match_obj)  # None\n",
    "# The regex '\\b' matches only at a word boundary, \n",
    "# so None is returned because there is no word boundary before the 'w' character in the string 'helloworld'.\n"
   ]
  },
  {
   "attachments": {},
   "cell_type": "markdown",
   "metadata": {},
   "source": [
    "## Lookahead & Lookbehind"
   ]
  },
  {
   "cell_type": "code",
   "execution_count": 52,
   "metadata": {},
   "outputs": [
    {
     "name": "stdout",
     "output_type": "stream",
     "text": [
      "Positive Lookahead: ['eating ']\n",
      "Positive Lookbehind: ['sushi', 'wasabi']\n"
     ]
    }
   ],
   "source": [
    "import re\n",
    "\n",
    "text = \"I love eating sushi, but I hate eating wasabi with it.\"\n",
    "\n",
    "# Positive Lookahead\n",
    "#pattern = r'(\\w+)(?:\\s+)(?=sushi)'\n",
    "pattern = r'\\w+\\s+(?=sushi)' # A(?=B) Find expression A where expression B follows\n",
    "matches = re.findall(pattern, text)\n",
    "print(\"Positive Lookahead:\", matches)  # Output: Positive Lookahead: ['eating']\n",
    "# Positive Lookahead (?=sushi): This regex pattern matches any word character \n",
    "# that is followed by the string 'sushi'. In the given text, the only word character that is followed by the string 'sushi' is 'eating', which is why it is the only match.\n",
    "\n",
    "# Positive Lookbehind\n",
    "pattern = r'(?<=eating )\\w+' # (?<=B)A Find expression A where expression B precedes\n",
    "matches = re.findall(pattern, text)\n",
    "print(\"Positive Lookbehind:\", matches)  # Output: Positive Lookbehind: ['sushi', 'wasabi']\n",
    "# Positive Lookbehind (?<=eating): This regex pattern matches any word character that is preceded by the string 'eating'. \n",
    "# In the given text, 'sushi' and 'wasabi' both follow the word 'eating', which is why they are both matches.\n"
   ]
  },
  {
   "cell_type": "code",
   "execution_count": 63,
   "metadata": {},
   "outputs": [
    {
     "name": "stdout",
     "output_type": "stream",
     "text": [
      "negative Lookahead: ['I ', 'love ', 'but ', 'I ', 'hate ', 'eating ', 'wasabi ', 'with ']\n"
     ]
    }
   ],
   "source": [
    "text = \"I love eating sushi, but I hate eating wasabi with it.\"\n",
    "pattern = r'\\w+\\s+(?!sushi)' # A(?!B) Find expression A where expression B does not follow\n",
    "matches = re.findall(pattern, text)\n",
    "print(\"negative Lookahead:\", matches)"
   ]
  },
  {
   "cell_type": "code",
   "execution_count": 60,
   "metadata": {},
   "outputs": [
    {
     "data": {
      "text/plain": [
       "[]"
      ]
     },
     "execution_count": 60,
     "metadata": {},
     "output_type": "execute_result"
    }
   ],
   "source": [
    "# possitive lookbehind\n",
    "address = 'DE 33333'\n",
    "pattern = r'(?<=[A-Z]{2} )\\d{5}' # (?<=B)A Find expression A where expression B precedes:\n",
    "re.findall(pattern, address)"
   ]
  },
  {
   "attachments": {},
   "cell_type": "markdown",
   "metadata": {},
   "source": [
    "#raw string"
   ]
  },
  {
   "cell_type": "code",
   "execution_count": 66,
   "metadata": {},
   "outputs": [
    {
     "name": "stdout",
     "output_type": "stream",
     "text": [
      "C:\\Users\\John\n"
     ]
    }
   ],
   "source": [
    "# Using a regular string\n",
    "# str1 = \"C:\\Users\\John\"\n",
    "\n",
    "# Using a raw string\n",
    "str2 = r\"C:\\Users\\John\"\n",
    "\n",
    "# print(str1)  # Output: C:\\Users\\John\n",
    "print(str2)  # Output: C:\\Users\\John\n"
   ]
  }
 ],
 "metadata": {
  "kernelspec": {
   "display_name": "Python 3",
   "language": "python",
   "name": "python3"
  },
  "language_info": {
   "codemirror_mode": {
    "name": "ipython",
    "version": 3
   },
   "file_extension": ".py",
   "mimetype": "text/x-python",
   "name": "python",
   "nbconvert_exporter": "python",
   "pygments_lexer": "ipython3",
   "version": "3.11.3"
  },
  "orig_nbformat": 4
 },
 "nbformat": 4,
 "nbformat_minor": 2
}
