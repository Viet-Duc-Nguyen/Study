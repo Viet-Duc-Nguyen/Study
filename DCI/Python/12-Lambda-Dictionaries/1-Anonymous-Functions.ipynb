{
 "cells": [
  {
   "attachments": {},
   "cell_type": "markdown",
   "metadata": {},
   "source": [
    "### Teacher Piet\n",
    "### 05.05.2023\n",
    "### Py Intro day 12\n",
    "\n",
    "#######################################\n",
    "######### Anonymous Functions #########\n",
    "#######################################"
   ]
  },
  {
   "cell_type": "code",
   "execution_count": 3,
   "metadata": {},
   "outputs": [
    {
     "name": "stdout",
     "output_type": "stream",
     "text": [
      "yrrebwarts\n",
      "gif\n",
      "elppa\n",
      "yrrehc\n",
      "yrrebpsar\n"
     ]
    },
    {
     "data": {
      "text/plain": [
       "['apple', 'fig', 'raspberry', 'strawberry', 'cherry']"
      ]
     },
     "execution_count": 3,
     "metadata": {},
     "output_type": "execute_result"
    }
   ],
   "source": [
    "fruits = ['strawberry', 'fig', 'apple', 'cherry', 'raspberry']\n",
    "\n",
    "def sort_helper(word):\n",
    "    return word[::-1]\n",
    "\n",
    "for fruit in fruits:\n",
    "    print(sort_helper(fruit))\n",
    "\n",
    "sorted(fruits, key=sort_helper)"
   ]
  },
  {
   "cell_type": "code",
   "execution_count": 4,
   "metadata": {},
   "outputs": [
    {
     "name": "stdout",
     "output_type": "stream",
     "text": [
      "yrrebwarts\n",
      "gif\n",
      "elppa\n",
      "yrrehc\n",
      "yrrebpsar\n"
     ]
    }
   ],
   "source": [
    "sort_helper = lambda word: word[::-1]\n",
    "\n",
    "for fruit in fruits:\n",
    "    print(sort_helper(fruit))"
   ]
  },
  {
   "cell_type": "code",
   "execution_count": 5,
   "metadata": {},
   "outputs": [
    {
     "data": {
      "text/plain": [
       "['apple', 'fig', 'raspberry', 'strawberry', 'cherry']"
      ]
     },
     "execution_count": 5,
     "metadata": {},
     "output_type": "execute_result"
    }
   ],
   "source": [
    "sorted(fruits, key=lambda word: word[::-1])"
   ]
  },
  {
   "cell_type": "code",
   "execution_count": 7,
   "metadata": {},
   "outputs": [
    {
     "name": "stdout",
     "output_type": "stream",
     "text": [
      "5\n"
     ]
    },
    {
     "data": {
      "text/plain": [
       "[(6, 1), (4, 3), (2, 5), (1, 7), (3, 8)]"
      ]
     },
     "execution_count": 7,
     "metadata": {},
     "output_type": "execute_result"
    }
   ],
   "source": [
    "tuple_list = [(2, 5), (1, 7), (4, 3), (6, 1), (3, 8)]\n",
    "\n",
    "sort_helper = lambda item: item[1]\n",
    "\n",
    "print(sort_helper((2, 5)))\n",
    "\n",
    "sorted(tuple_list, key=sort_helper)"
   ]
  },
  {
   "cell_type": "code",
   "execution_count": 9,
   "metadata": {},
   "outputs": [
    {
     "data": {
      "text/plain": [
       "3"
      ]
     },
     "execution_count": 9,
     "metadata": {},
     "output_type": "execute_result"
    }
   ],
   "source": [
    "def count_vowels(string):\n",
    "    vowels = \"aeiouAEIOU\"\n",
    "    count = 0\n",
    "    for char in string:\n",
    "        if char in vowels:\n",
    "            count += 1\n",
    "    return count\n",
    "\n",
    "count_vowels('blaaa')"
   ]
  },
  {
   "cell_type": "code",
   "execution_count": 11,
   "metadata": {},
   "outputs": [
    {
     "name": "stdout",
     "output_type": "stream",
     "text": [
      "3\n"
     ]
    },
    {
     "data": {
      "text/plain": [
       "3"
      ]
     },
     "execution_count": 11,
     "metadata": {},
     "output_type": "execute_result"
    }
   ],
   "source": [
    "def count_vowels(word):\n",
    "    result = [letter for letter in word if letter in 'aeiouAEIOU'] # only store vowel letters\n",
    "    print(len(result))\n",
    "    return len(result)\n",
    "\n",
    "count_vowels('blaaa')"
   ]
  },
  {
   "cell_type": "code",
   "execution_count": 15,
   "metadata": {},
   "outputs": [
    {
     "name": "stdout",
     "output_type": "stream",
     "text": [
      "3\n"
     ]
    },
    {
     "data": {
      "text/plain": [
       "['bla', 'blaa', 'blaaa']"
      ]
     },
     "execution_count": 15,
     "metadata": {},
     "output_type": "execute_result"
    }
   ],
   "source": [
    "count_vowels = lambda word: len([char for char in word if char in 'aeiouAEIOU'])\n",
    "\n",
    "print(count_vowels('blaaa'))\n",
    "\n",
    "sorted(['blaa', 'bla', 'blaaa'], key=count_vowels)"
   ]
  },
  {
   "attachments": {},
   "cell_type": "markdown",
   "metadata": {},
   "source": []
  }
 ],
 "metadata": {
  "kernelspec": {
   "display_name": "Python 3",
   "language": "python",
   "name": "python3"
  },
  "language_info": {
   "codemirror_mode": {
    "name": "ipython",
    "version": 3
   },
   "file_extension": ".py",
   "mimetype": "text/x-python",
   "name": "python",
   "nbconvert_exporter": "python",
   "pygments_lexer": "ipython3",
   "version": "3.11.3"
  },
  "orig_nbformat": 4
 },
 "nbformat": 4,
 "nbformat_minor": 2
}
