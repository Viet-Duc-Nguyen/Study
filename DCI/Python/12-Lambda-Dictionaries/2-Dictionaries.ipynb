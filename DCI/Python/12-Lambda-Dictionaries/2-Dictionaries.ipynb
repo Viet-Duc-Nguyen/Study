{
 "cells": [
  {
   "attachments": {},
   "cell_type": "markdown",
   "metadata": {},
   "source": [
    "### Teacher Piet\n",
    "### 05.05.2023\n",
    "### Py Intro day 12\n",
    "\n",
    "#######################################\n",
    "######### DICTIONARIES ################\n",
    "#######################################"
   ]
  },
  {
   "cell_type": "code",
   "execution_count": 4,
   "metadata": {},
   "outputs": [
    {
     "name": "stdout",
     "output_type": "stream",
     "text": [
      "Alice\n",
      "23\n",
      "New York\n"
     ]
    }
   ],
   "source": [
    "my_dict = {'name': 'Alice', 'ages': [12, 18, 23], 'city': 'New York'}\n",
    "\n",
    "print(my_dict['name'])\n",
    "print(my_dict['ages'][-1])\n",
    "print(my_dict['city'])"
   ]
  },
  {
   "cell_type": "code",
   "execution_count": 5,
   "metadata": {},
   "outputs": [
    {
     "data": {
      "text/plain": [
       "'Jeremy'"
      ]
     },
     "execution_count": 5,
     "metadata": {},
     "output_type": "execute_result"
    }
   ],
   "source": [
    "bob_dict = {'name': 'Bob', 'boss': [{'name': 'Jeremy'}, {'name': 'John'}]}\n",
    "bob_dict['boss'][0]['name']"
   ]
  },
  {
   "cell_type": "code",
   "execution_count": 6,
   "metadata": {},
   "outputs": [
    {
     "name": "stdout",
     "output_type": "stream",
     "text": [
      "Jeremy\n",
      "John\n"
     ]
    }
   ],
   "source": [
    "for employee in bob_dict['boss']:\n",
    "    print(employee['name'])"
   ]
  },
  {
   "cell_type": "code",
   "execution_count": 7,
   "metadata": {},
   "outputs": [
    {
     "data": {
      "text/plain": [
       "{'name': 'john', 'age': 21, 'courses': ['Math', 'Bio']}"
      ]
     },
     "execution_count": 7,
     "metadata": {},
     "output_type": "execute_result"
    }
   ],
   "source": [
    "students_entity = {'name': 'bob', 'name': 'john', 'age': 21, 'courses': ['Math', 'Bio']}\n",
    "\n",
    "students_entity"
   ]
  },
  {
   "cell_type": "code",
   "execution_count": 9,
   "metadata": {},
   "outputs": [
    {
     "data": {
      "text/plain": [
       "{'Bob': 'value', 'John': 'value'}"
      ]
     },
     "execution_count": 9,
     "metadata": {},
     "output_type": "execute_result"
    }
   ],
   "source": [
    "my_list = ['Bob', 'Bob', 'John']\n",
    "\n",
    "my_dict = {}\n",
    "\n",
    "my_dict[my_list[0]] = 'value'\n",
    "my_dict[my_list[1]] = 'value'\n",
    "my_dict[my_list[2]] = 'value'\n",
    "\n",
    "my_dict"
   ]
  },
  {
   "cell_type": "code",
   "execution_count": 11,
   "metadata": {},
   "outputs": [
    {
     "data": {
      "text/plain": [
       "{'Bob': 'Second value', 'John': 'Third value'}"
      ]
     },
     "execution_count": 11,
     "metadata": {},
     "output_type": "execute_result"
    }
   ],
   "source": [
    "my_list = ['Bob', 'Bob', 'John']\n",
    "\n",
    "my_dict = {}\n",
    "\n",
    "my_dict['Bob'] = 'First value'\n",
    "my_dict['Bob'] = 'Second value'\n",
    "my_dict['John'] = 'Third value'\n",
    "\n",
    "my_dict"
   ]
  },
  {
   "attachments": {},
   "cell_type": "markdown",
   "metadata": {},
   "source": [
    "### setdefault():\n",
    "\n",
    "The setdefault() method returns the value for the specified key.\n",
    "If the key does not exist, it sets the key with the specified\n",
    "value (or a default value if provided) and returns the value."
   ]
  },
  {
   "cell_type": "code",
   "execution_count": 12,
   "metadata": {},
   "outputs": [
    {
     "data": {
      "text/plain": [
       "{'name': 'Alice', 'age': 25, 'city': 'New York', 'country': 'Germany'}"
      ]
     },
     "execution_count": 12,
     "metadata": {},
     "output_type": "execute_result"
    }
   ],
   "source": [
    "my_dict = {'name': 'Alice', 'age': 25, 'city': 'New York', 'country': 'Germany'}\n",
    "my_dict.setdefault('name', 'Bob')\n",
    "my_dict.setdefault('country', ' USA')\n",
    "my_dict"
   ]
  },
  {
   "attachments": {},
   "cell_type": "markdown",
   "metadata": {},
   "source": [
    "### update():\n",
    "\n",
    "The update() method updates the dictionary with the key-value pairs from another \n",
    "dictionary or an iterable of key-value pairs.M"
   ]
  },
  {
   "cell_type": "code",
   "execution_count": null,
   "metadata": {},
   "outputs": [],
   "source": [
    "my_dict = {'name': 'Alice', 'age': 25, 'city': 'New York', 'country': 'Germany'}\n",
    "\n",
    "new_dict = {'country': 'USA', 'age': 26}\n",
    "\n",
    "my_dict.update(new_dict)"
   ]
  },
  {
   "cell_type": "code",
   "execution_count": 13,
   "metadata": {},
   "outputs": [
    {
     "name": "stdout",
     "output_type": "stream",
     "text": [
      "(1, 2)\n"
     ]
    }
   ],
   "source": [
    "nested_list = [(1,2), (3,4)]\n",
    "a, b = nested_list\n",
    "print(a)"
   ]
  }
 ],
 "metadata": {
  "kernelspec": {
   "display_name": "Python 3",
   "language": "python",
   "name": "python3"
  },
  "language_info": {
   "codemirror_mode": {
    "name": "ipython",
    "version": 3
   },
   "file_extension": ".py",
   "mimetype": "text/x-python",
   "name": "python",
   "nbconvert_exporter": "python",
   "pygments_lexer": "ipython3",
   "version": "3.11.3"
  },
  "orig_nbformat": 4
 },
 "nbformat": 4,
 "nbformat_minor": 2
}
