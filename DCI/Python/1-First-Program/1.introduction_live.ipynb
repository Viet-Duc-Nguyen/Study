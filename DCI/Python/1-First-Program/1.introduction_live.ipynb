{
 "cells": [
  {
   "attachments": {},
   "cell_type": "markdown",
   "metadata": {},
   "source": [
    "## "
   ]
  },
  {
   "attachments": {},
   "cell_type": "markdown",
   "metadata": {},
   "source": [
    "# 0.1 Organisation and setup\n",
    "\n",
    "- Get to know each other\n",
    "- Slack workspace\n",
    "- github organisation: here we will save all our work and exercises\n",
    "\n",
    "## 0.2 Install different python versions\n",
    ">\n",
    "> sudo add-apt-repository ppa:deadsnakes/ppa           \\\n",
    "> sudo apt update   \\\n",
    "> sudo apt install python3.8 \\\n",
    "> sudo apt install python3.9  \\\n",
    "> sudo apt install python3.10\n",
    "\n",
    "- to manage different versions run :\n",
    "> sudo update-alternatives --install /usr/bin/python python /usr/bin/python3.8 3  \\\n",
    "> sudo update-alternatives --install /usr/bin/python python /usr/bin/python3.9 2  \\\n",
    "> sudo update-alternatives --install /usr/bin/python python /usr/bin/python3.9 1 \n",
    "- change python version\n",
    "> sudo update-alternatives --config python\n",
    "\n",
    "## 0.2 Install pip (package installer)\n",
    "> sudo apt update \\\n",
    "> sudo apt install python3-venv python3-pip\n"
   ]
  },
  {
   "attachments": {},
   "cell_type": "markdown",
   "metadata": {},
   "source": [
    "\n",
    "## 0.3 Install pip (package installer)\n",
    "> (sudo apt install python3.8-distutils)\n",
    "> sudo apt install python3-pip\n",
    "\n",
    "installing python packages:\n",
    "- python -m pip install ipython\n",
    "- python3.8 -m pip install ipython\n",
    "- python3.9 -m pip install ipython"
   ]
  },
  {
   "attachments": {},
   "cell_type": "markdown",
   "metadata": {},
   "source": [
    "##  04 How to run python code?\n",
    "- 1. using a file ending with .py\n",
    "> python3 main.py\n",
    "- 2. in terminal by starting the python interpreter, which enters into python's interactive mode:\n",
    "> python3\n",
    "- 3. When a script file is used, enter interactive mode afterwards by passing -i before the file:\n",
    "> python3 -i main.py\n",
    "- 4. using ipython (enhanced interactive python); but we have to install ipython:\n",
    "> ipython\n",
    "or\n",
    "> python3.8 -m IPython\n",
    "- 5. using jupyter notebook"
   ]
  },
  {
   "attachments": {},
   "cell_type": "markdown",
   "metadata": {},
   "source": [
    "# 1. Whetting Your Appetite\n",
    "\n",
    "If you do much work on computers you may find that there’s some task you’d like to automate:\n",
    "- perform a search-and-replace over a large number of text files\n",
    "- rename and rearrange a bunch of photo files\n",
    "- you’d like to write a specialized GUI application\n",
    "- or a simple game\n",
    "\n",
    "1. Python is simpler to use than for example C/C++.\n",
    "2. It is available on Windows, macOS and Unix systems.\n",
    "3. It will help you get the job done more quickly."
   ]
  },
  {
   "attachments": {},
   "cell_type": "markdown",
   "metadata": {},
   "source": [
    "# Recap\n",
    "\n",
    "1. print\n",
    "- how to print out 'hello world'?"
   ]
  },
  {
   "cell_type": "code",
   "execution_count": 3,
   "metadata": {},
   "outputs": [
    {
     "name": "stdout",
     "output_type": "stream",
     "text": [
      "hello world\n"
     ]
    }
   ],
   "source": [
    "print('hello world') # 1 argument and this is one string with the value of 'hello world"
   ]
  },
  {
   "attachments": {},
   "cell_type": "markdown",
   "metadata": {},
   "source": [
    "- what is print? # it is a function\n",
    "- we can pass a string as an argument to the print function\n",
    "- we can als pass an unlimited number of string arguments to the print function:"
   ]
  },
  {
   "cell_type": "code",
   "execution_count": 5,
   "metadata": {},
   "outputs": [
    {
     "name": "stdout",
     "output_type": "stream",
     "text": [
      "hello world again\n"
     ]
    }
   ],
   "source": [
    "print('hello', 'world', 'again')"
   ]
  },
  {
   "attachments": {},
   "cell_type": "markdown",
   "metadata": {},
   "source": [
    "- The print() function can take multiple arguments, separated by commas, and it can also include optional keyword arguments\n",
    "1. end with the default value '\\n'\n",
    "2. sep with the default value ' '\n",
    "3. file"
   ]
  },
  {
   "attachments": {},
   "cell_type": "markdown",
   "metadata": {},
   "source": [
    "**Example 1**"
   ]
  },
  {
   "cell_type": "code",
   "execution_count": 6,
   "metadata": {},
   "outputs": [
    {
     "name": "stdout",
     "output_type": "stream",
     "text": [
      "hello world!!!"
     ]
    }
   ],
   "source": [
    "print('hello', 'world', end='!!!')"
   ]
  },
  {
   "attachments": {},
   "cell_type": "markdown",
   "metadata": {},
   "source": [
    "**Example 2**"
   ]
  },
  {
   "cell_type": "code",
   "execution_count": 9,
   "metadata": {},
   "outputs": [
    {
     "name": "stdout",
     "output_type": "stream",
     "text": [
      "hello;world\n"
     ]
    }
   ],
   "source": [
    "print('hello', 'world', sep=';')"
   ]
  },
  {
   "cell_type": "markdown",
   "metadata": {},
   "source": [
    "**Example 3**"
   ]
  },
  {
   "cell_type": "code",
   "execution_count": 12,
   "metadata": {},
   "outputs": [
    {
     "name": "stdout",
     "output_type": "stream",
     "text": [
      "Hello world\n"
     ]
    }
   ],
   "source": [
    "with open('output2.txt', \"w\") as bla:\n",
    "    print('Hello world', file=bla)\n",
    "    print('Hello world')"
   ]
  },
  {
   "attachments": {},
   "cell_type": "markdown",
   "metadata": {},
   "source": [
    "- This code will write the text \"Hello, World!\" to a file named \"output.txt\" instead of the console."
   ]
  },
  {
   "attachments": {},
   "cell_type": "markdown",
   "metadata": {},
   "source": [
    "## Nested Quotes\n",
    "\n",
    "- Nested quotes in Python refer to situations where a string contains both single and double quotes. \n",
    "- how to handle nested quotes:\n"
   ]
  },
  {
   "cell_type": "code",
   "execution_count": 13,
   "metadata": {},
   "outputs": [
    {
     "data": {
      "text/plain": [
       "'Hello world'"
      ]
     },
     "execution_count": 13,
     "metadata": {},
     "output_type": "execute_result"
    }
   ],
   "source": [
    "my_string = \"Hello world\"\n",
    "my_string"
   ]
  },
  {
   "attachments": {},
   "cell_type": "markdown",
   "metadata": {},
   "source": [
    "**1. Use backslashes (\\) to escape the quotes that are nested inside the string.**"
   ]
  },
  {
   "cell_type": "code",
   "execution_count": 15,
   "metadata": {},
   "outputs": [
    {
     "data": {
      "text/plain": [
       "'She said, \"It is a beatiful day\"  '"
      ]
     },
     "execution_count": 15,
     "metadata": {},
     "output_type": "execute_result"
    }
   ],
   "source": [
    "my_string = \"She said, \\\"It is a beautiful day\\\"  \"\n",
    "my_string"
   ]
  },
  {
   "attachments": {},
   "cell_type": "markdown",
   "metadata": {},
   "source": [
    "**2. Use single quotes inside double quotes**"
   ]
  },
  {
   "cell_type": "code",
   "execution_count": 16,
   "metadata": {},
   "outputs": [
    {
     "data": {
      "text/plain": [
       "\"She said, 'It is a beautiful day'\""
      ]
     },
     "execution_count": 16,
     "metadata": {},
     "output_type": "execute_result"
    }
   ],
   "source": [
    "my_string = \"She said, 'It is a beautiful day'\"\n",
    "my_string"
   ]
  },
  {
   "attachments": {},
   "cell_type": "markdown",
   "metadata": {},
   "source": [
    "**3. Use double quotes inside single quotes**"
   ]
  },
  {
   "cell_type": "code",
   "execution_count": 17,
   "metadata": {},
   "outputs": [
    {
     "data": {
      "text/plain": [
       "'She said, \"It is a beautiful day\"'"
      ]
     },
     "execution_count": 17,
     "metadata": {},
     "output_type": "execute_result"
    }
   ],
   "source": [
    "my_string = 'She said, \"It is a beautiful day\"'\n",
    "my_string"
   ]
  },
  {
   "attachments": {},
   "cell_type": "markdown",
   "metadata": {},
   "source": [
    "**4. Use triple quotes (either single or double) to create a multi-line string.**"
   ]
  },
  {
   "cell_type": "code",
   "execution_count": 18,
   "metadata": {},
   "outputs": [
    {
     "data": {
      "text/plain": [
       "' She said, \"It is a beautiful day\" '"
      ]
     },
     "execution_count": 18,
     "metadata": {},
     "output_type": "execute_result"
    }
   ],
   "source": [
    "my_string = ''' She said, \"It is a beautiful day\" '''\n",
    "my_string"
   ]
  },
  {
   "attachments": {},
   "cell_type": "markdown",
   "metadata": {},
   "source": [
    "DataTypes:\n",
    "- In Python, there are several built-in data types, including:\n",
    "\n",
    "1. Integers - whole numbers; can be negative or positive (e.g.: 1, 3, -2, 0)\n",
    "2. floating point number - numbers with a fractional part (1.2, -2.4, 0.0)\n",
    "3. Boolean - either True or False\n",
    "4. String - Strings are sequences of characters, enclosed in quotes ('Hello World')\n",
    "5. complex numbers - a number consisting of two parts (imaginary part and real part)\n",
    "- (e.g.: 3+4j ---> 3 the real part and 4 is the imaginary) \n",
    "6. None - None is a special Python object that represents the absence of a value."
   ]
  },
  {
   "cell_type": "code",
   "execution_count": 19,
   "metadata": {},
   "outputs": [
    {
     "data": {
      "text/plain": [
       "int"
      ]
     },
     "execution_count": 19,
     "metadata": {},
     "output_type": "execute_result"
    }
   ],
   "source": [
    "# Integers\n",
    "\n",
    "x = 10\n",
    "y = -5\n",
    "z = 0\n",
    "\n",
    "type(x)"
   ]
  },
  {
   "cell_type": "code",
   "execution_count": 20,
   "metadata": {},
   "outputs": [
    {
     "data": {
      "text/plain": [
       "float"
      ]
     },
     "execution_count": 20,
     "metadata": {},
     "output_type": "execute_result"
    }
   ],
   "source": [
    "# Floating Point Numbers\n",
    "a = 3.14\n",
    "b = -2.5\n",
    "c = 0.0\n",
    "\n",
    "type(0.0)"
   ]
  },
  {
   "cell_type": "code",
   "execution_count": 22,
   "metadata": {},
   "outputs": [
    {
     "data": {
      "text/plain": [
       "complex"
      ]
     },
     "execution_count": 22,
     "metadata": {},
     "output_type": "execute_result"
    }
   ],
   "source": [
    "# Complex Number\n",
    "d = 2 + 3j # 2 is the real part and the 3 is the imaginary part\n",
    "e = -4j # 0 is the real part and -4 is the imaginary part\n",
    "\n",
    "type(e)"
   ]
  },
  {
   "cell_type": "code",
   "execution_count": 30,
   "metadata": {},
   "outputs": [
    {
     "data": {
      "text/plain": [
       "float"
      ]
     },
     "execution_count": 30,
     "metadata": {},
     "output_type": "execute_result"
    }
   ],
   "source": [
    "type(e.real)\n",
    "type(e.imag)\n"
   ]
  },
  {
   "cell_type": "code",
   "execution_count": 31,
   "metadata": {},
   "outputs": [
    {
     "data": {
      "text/plain": [
       "bool"
      ]
     },
     "execution_count": 31,
     "metadata": {},
     "output_type": "execute_result"
    }
   ],
   "source": [
    "# Boolean\n",
    "\n",
    "h = True\n",
    "i = False\n",
    "\n",
    "type(h)"
   ]
  },
  {
   "cell_type": "code",
   "execution_count": 32,
   "metadata": {},
   "outputs": [
    {
     "data": {
      "text/plain": [
       "str"
      ]
     },
     "execution_count": 32,
     "metadata": {},
     "output_type": "execute_result"
    }
   ],
   "source": [
    "f = 'Python is awesome'\n",
    "\n",
    "type(f)"
   ]
  },
  {
   "cell_type": "code",
   "execution_count": 33,
   "metadata": {},
   "outputs": [
    {
     "data": {
      "text/plain": [
       "NoneType"
      ]
     },
     "execution_count": 33,
     "metadata": {},
     "output_type": "execute_result"
    }
   ],
   "source": [
    "# None \n",
    "\n",
    "j = None\n",
    "type(j)"
   ]
  },
  {
   "attachments": {},
   "cell_type": "markdown",
   "metadata": {},
   "source": [
    "- We can use the type() and isinstance() functions to check the data type"
   ]
  },
  {
   "cell_type": "code",
   "execution_count": 38,
   "metadata": {},
   "outputs": [
    {
     "name": "stdout",
     "output_type": "stream",
     "text": [
      "True\n",
      "True\n",
      "True\n"
     ]
    }
   ],
   "source": [
    "x = 5\n",
    "y = 3.14\n",
    "z = 'hello world'\n",
    "\n",
    "print(isinstance(x, int))\n",
    "#print(type(isinstance(x, int)))\n",
    "print(isinstance(y, float))\n",
    "print(isinstance(z, str))"
   ]
  }
 ],
 "metadata": {
  "kernelspec": {
   "display_name": "Python 3",
   "language": "python",
   "name": "python3"
  },
  "language_info": {
   "codemirror_mode": {
    "name": "ipython",
    "version": 3
   },
   "file_extension": ".py",
   "mimetype": "text/x-python",
   "name": "python",
   "nbconvert_exporter": "python",
   "pygments_lexer": "ipython3",
   "version": "3.9.16"
  },
  "orig_nbformat": 4,
  "vscode": {
   "interpreter": {
    "hash": "e7370f93d1d0cde622a1f8e1c04877d8463912d04d973331ad4851f04de6915a"
   }
  }
 },
 "nbformat": 4,
 "nbformat_minor": 2
}
