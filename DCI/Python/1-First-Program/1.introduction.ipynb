{
 "cells": [
  {
   "attachments": {},
   "cell_type": "markdown",
   "metadata": {},
   "source": [
    "# 0.1 Organisation and setup\n",
    "\n",
    "- Get to know each other\n",
    "- Slack workspace\n",
    "- github organisation: here we will save all our work and exercises\n",
    "\n",
    "## 0.2 Install different python versions\n",
    ">\n",
    "> sudo add-apt-repository ppa:deadsnakes/ppa           \\\n",
    "> sudo apt update   \\\n",
    "> sudo apt install python3.8 \\\n",
    "> sudo apt install python3.9  \\\n",
    "> sudo apt install python3.10\n",
    "\n",
    "- to manage different versions run :\n",
    "> sudo update-alternatives --install /usr/bin/python python /usr/bin/python3.8 3  \\\n",
    "> sudo update-alternatives --install /usr/bin/python python /usr/bin/python3.9 2  \\\n",
    "> sudo update-alternatives --install /usr/bin/python python /usr/bin/python3.9 1 \n",
    "\n",
    "## 0.2 Install pip (package installer)\n",
    "> sudo apt update \\\n",
    "> sudo apt install python3-venv python3-pip\n",
    "\n",
    "## 0.3 How to run python code?\n",
    "1. in terminal by starting the python interpreter, which enters into python's interactive mode: \n",
    "> python3\n",
    "2. using a file ending with .py\n",
    "> python3 main.py\n",
    "3. When a script file is used, enter interactive mode afterwards by passing -i before the file:\n",
    "> python3 -i main.py\n",
    "4. using ipython; but we have to install ipython:\n",
    "> python3 -m pip install ipython\n",
    "> python3 -m IPython\n",
    "5. using jupyter notebook\n",
    "- install:\n",
    "> python3.8 -m pip install notebook"
   ]
  },
  {
   "attachments": {},
   "cell_type": "markdown",
   "metadata": {},
   "source": [
    "# 1. Whetting Your Appetite\n",
    "\n",
    "If you do much work on computers you may find that there’s some task you’d like to automate:\n",
    "- perform a search-and-replace over a large number of text files\n",
    "- rename and rearrange a bunch of photo files\n",
    "- you’d like to write a specialized GUI application\n",
    "- or a simple game\n",
    "\n",
    "1. Python is simpler to use than for example C/C++.\n",
    "2. It is available on Windows, macOS and Unix systems.\n",
    "3. It will help you get the job done more quickly.\n",
    "\n"
   ]
  },
  {
   "attachments": {},
   "cell_type": "markdown",
   "metadata": {},
   "source": [
    "# Recap\n",
    "**1. Print**\n",
    "\n",
    "- how to print out 'hello world'?"
   ]
  },
  {
   "cell_type": "code",
   "execution_count": 1,
   "metadata": {},
   "outputs": [
    {
     "name": "stdout",
     "output_type": "stream",
     "text": [
      "Hello world\n"
     ]
    }
   ],
   "source": [
    "print('Hello world')"
   ]
  },
  {
   "attachments": {},
   "cell_type": "markdown",
   "metadata": {},
   "source": [
    "- what is kind of entity is print() in Python?\n",
    "- what are functions arguments # excalidraw f(x) = x**2\n",
    "- how many arguments can the print function take?\n"
   ]
  },
  {
   "attachments": {},
   "cell_type": "markdown",
   "metadata": {},
   "source": [
    "**2. Variables**\n",
    "- What are variables? Variables are containers for storing data values.\n",
    "- When a variable is created in Python? "
   ]
  },
  {
   "cell_type": "code",
   "execution_count": null,
   "metadata": {},
   "outputs": [],
   "source": [
    "x = 3 # What is the variable and what is the value?"
   ]
  },
  {
   "attachments": {},
   "cell_type": "markdown",
   "metadata": {},
   "source": [
    "- what is the naming convention of a variable in Python? #snake_case"
   ]
  },
  {
   "attachments": {},
   "cell_type": "markdown",
   "metadata": {},
   "source": [
    "**3. What types do you know?**\n",
    "- integer\n",
    "- float\n",
    "- boolean\n",
    "- string"
   ]
  },
  {
   "attachments": {},
   "cell_type": "markdown",
   "metadata": {},
   "source": [
    "## Go to Python Notes"
   ]
  },
  {
   "attachments": {},
   "cell_type": "markdown",
   "metadata": {},
   "source": [
    "## Exercises\n",
    "\n",
    "-  https://github.com/dci-python-course/Python-Introduction-hello_world_and_comments \n",
    "(#print, type, isinstance)\n",
    "-  https://github.com/dci-python-course/Python-Introduction-math_operators \n",
    "(ceil, floor, max(True, False), abs())"
   ]
  }
 ],
 "metadata": {
  "kernelspec": {
   "display_name": "Python 3",
   "language": "python",
   "name": "python3"
  },
  "language_info": {
   "codemirror_mode": {
    "name": "ipython",
    "version": 3
   },
   "file_extension": ".py",
   "mimetype": "text/x-python",
   "name": "python",
   "nbconvert_exporter": "python",
   "pygments_lexer": "ipython3",
   "version": "3.8.10"
  },
  "orig_nbformat": 4
 },
 "nbformat": 4,
 "nbformat_minor": 2
}
