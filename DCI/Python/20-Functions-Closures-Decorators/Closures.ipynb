{
 "cells": [
  {
   "attachments": {},
   "cell_type": "markdown",
   "metadata": {},
   "source": [
    "Where does the *avg* function find the series?\n",
    "\n",
    "Note that **series** is a local variable of *make_averager* because the assignment **series** = [] happens in the body of that function.\n",
    "\n",
    "But when *avg(10)* is calledm, *make_averager* has already returned, and its local scope is long gone.\n",
    "\n",
    "Within *averager*, **series** is a *free variable*.\n",
    "\n",
    "![closure](free_)var.png\n",
    "\n",
    "*The closure of the average extends the scope of that function to include the binding for the free variable series.*"
   ]
  },
  {
   "cell_type": "code",
   "execution_count": 3,
   "metadata": {},
   "outputs": [
    {
     "name": "stdout",
     "output_type": "stream",
     "text": [
      "('new_value', 'total')\n",
      "('series',)\n"
     ]
    }
   ],
   "source": [
    "def make_averager():\n",
    "    series = []                     ## LOCAL VARIABLE FOR MAKE_AVERAGER\n",
    "\n",
    "    def averager(new_value):\n",
    "        series.append(new_value)    ## SERIES IS A FREE VARIABLE\n",
    "        total = sum(series)\n",
    "\n",
    "        return total / len(series)\n",
    "    \n",
    "    return averager\n",
    "\n",
    "avg = make_averager()\n",
    "\n",
    "print(avg.__code__.co_varnames)\n",
    "print(avg.__code__.co_freevars)"
   ]
  },
  {
   "cell_type": "code",
   "execution_count": 2,
   "metadata": {},
   "outputs": [
    {
     "name": "stdout",
     "output_type": "stream",
     "text": [
      "('new_value', 'total')\n",
      "()\n"
     ]
    }
   ],
   "source": [
    "#### closure II ####\n",
    "\n",
    "series = []                       ## GLOBAL VARIABLE\n",
    "\n",
    "def make_averager(): \n",
    "    # series = []\n",
    "\n",
    "    def averager(new_value):\n",
    "        series.append(new_value)\n",
    "        total = sum(series)\n",
    "        \n",
    "        return total / len(series)\n",
    "    \n",
    "    return averager\n",
    "\n",
    "avg = make_averager()\n",
    "\n",
    "print(avg.__code__.co_varnames)\n",
    "print(avg.__code__.co_freevars)"
   ]
  },
  {
   "attachments": {},
   "cell_type": "markdown",
   "metadata": {},
   "source": [
    "The __code__ attribute of a function represents the compiled body of the function"
   ]
  },
  {
   "attachments": {},
   "cell_type": "markdown",
   "metadata": {},
   "source": [
    "The body of a function is evaluated in the environment where the function is defined, not the environment where the func is called."
   ]
  },
  {
   "cell_type": "code",
   "execution_count": 22,
   "metadata": {},
   "outputs": [
    {
     "name": "stdout",
     "output_type": "stream",
     "text": [
      "10.0\n",
      "5.5\n"
     ]
    }
   ],
   "source": [
    "######## non local ########\n",
    "\n",
    "def make_averager():\n",
    "    count = 0\n",
    "    total = 0\n",
    "\n",
    "    def averager(new_value):\n",
    "        # count = 1             # error because local need 'nonlocal' # Or use 'global' \n",
    "        nonlocal count, total\n",
    "        count += +1\n",
    "        total += new_value\n",
    "        return total / count\n",
    "    \n",
    "    return averager\n",
    "\n",
    "avg = make_averager()\n",
    "print(avg(10))\n",
    "print(avg(1))\n"
   ]
  },
  {
   "cell_type": "code",
   "execution_count": 24,
   "metadata": {},
   "outputs": [
    {
     "name": "stdout",
     "output_type": "stream",
     "text": [
      "bla\n"
     ]
    }
   ],
   "source": [
    "import time\n",
    "\n",
    "def snooze(s):\n",
    "    time.sleep(s)\n",
    "    print('bla')\n",
    "    return 'wake up'\n",
    "\n",
    "snooze(5)"
   ]
  },
  {
   "cell_type": "code",
   "execution_count": 45,
   "metadata": {},
   "outputs": [
    {
     "name": "stdout",
     "output_type": "stream",
     "text": [
      "TIME START 1685015424.6574364\n",
      "2 seconds to sleep\n",
      "bla\n",
      "It took 2.0005409717559814s.\n"
     ]
    }
   ],
   "source": [
    "import time\n",
    "\n",
    "def snooze(s):\n",
    "    print(f'{s} seconds to sleep')\n",
    "    time.sleep(s)\n",
    "    print('bla')\n",
    "    return 'wake up'\n",
    "\n",
    "def clock(fun):\n",
    "    def clocked(n):\n",
    "        start_time = time.time()\n",
    "        print('TIME START', start_time)\n",
    "\n",
    "        result = fun(n)\n",
    "\n",
    "        end_time = time.time()\n",
    "\n",
    "        elapsed = end_time - start_time\n",
    "        print(f'It took {elapsed}s.')\n",
    "\n",
    "\n",
    "    return clocked\n",
    "\n",
    "\n",
    "snooze1 = clock(snooze)\n",
    "\n",
    "snooze1(2)\n",
    "\n",
    "snooze = clock(snooze)"
   ]
  },
  {
   "cell_type": "code",
   "execution_count": 43,
   "metadata": {},
   "outputs": [
    {
     "name": "stdout",
     "output_type": "stream",
     "text": [
      "TIME START 1685015364.3129835\n",
      "0.5\n",
      "bla\n",
      "It took 0.50113844871521s.\n",
      "TIME START 1685015364.814122\n",
      "1\n",
      "test\n",
      "It took 1.000375509262085s.\n"
     ]
    },
    {
     "data": {
      "text/plain": [
       "'wake up BOB'"
      ]
     },
     "execution_count": 43,
     "metadata": {},
     "output_type": "execute_result"
    }
   ],
   "source": [
    "@clock\n",
    "def snooze(s):\n",
    "    print(s)\n",
    "    time.sleep(s)\n",
    "    print('bla')\n",
    "    return 'Wake up'\n",
    "\n",
    "snooze(0.5)\n",
    "\n",
    "@clock\n",
    "def test(s):\n",
    "    print(s)\n",
    "    time.sleep(s)\n",
    "    print('test')\n",
    "    return 'wake up'\n",
    "\n",
    "test(1)\n"
   ]
  },
  {
   "cell_type": "code",
   "execution_count": 55,
   "metadata": {},
   "outputs": [
    {
     "name": "stdout",
     "output_type": "stream",
     "text": [
      "TIME START 1685015492.8028848\n",
      "It took 0.0s.\n",
      "None\n"
     ]
    }
   ],
   "source": [
    "@clock\n",
    "def fac(n):   # 1*\n",
    "    result = 1\n",
    "    while n >= 1:\n",
    "        result = result * n\n",
    "        n -= 1\n",
    "    return result\n",
    "\n",
    "print(fac(10))"
   ]
  },
  {
   "cell_type": "code",
   "execution_count": 84,
   "metadata": {},
   "outputs": [
    {
     "data": {
      "text/plain": [
       "'deco works HELLO WORLD'"
      ]
     },
     "execution_count": 84,
     "metadata": {},
     "output_type": "execute_result"
    }
   ],
   "source": [
    "def decorator(func):\n",
    "    def inner(*args, **kwargs):\n",
    "        return 'deco works ' + func(*args, **kwargs)\n",
    "    return inner\n",
    "\n",
    "@decorator\n",
    "def test(word1, word2 = 'WORLD'):\n",
    "    return f'{word1} {word2}'\n",
    "\n",
    "test('HELLO')    "
   ]
  },
  {
   "cell_type": "code",
   "execution_count": 87,
   "metadata": {},
   "outputs": [
    {
     "name": "stdout",
     "output_type": "stream",
     "text": [
      "<strong> Hello World </strong>\n"
     ]
    }
   ],
   "source": [
    "def make_bold(func):\n",
    "    def inner():\n",
    "        return f'<strong> {func()} </strong>'\n",
    "    return inner\n",
    "\n",
    "def get_html_greetings():\n",
    "    return f'Hello World'\n",
    "\n",
    "get_html_greetings = make_bold(get_html_greetings) # Type Function\n",
    "print(get_html_greetings())"
   ]
  },
  {
   "cell_type": "code",
   "execution_count": 91,
   "metadata": {},
   "outputs": [
    {
     "name": "stdout",
     "output_type": "stream",
     "text": [
      "<strong><strong> Hello World </strong></strong>\n"
     ]
    }
   ],
   "source": [
    "def wrap_with(tag='div'):\n",
    "    def decorator(func):\n",
    "        def inner():\n",
    "            return f'<{tag}>{func()}</{tag}>'\n",
    "        return inner\n",
    "    return decorator\n",
    "\n",
    "def test(w1, w2='world'):\n",
    "    return f'{w1} {w2}'\n",
    "test = wrap_with(tag='strong')(get_html_greetings)\n",
    "print(test())"
   ]
  },
  {
   "cell_type": "code",
   "execution_count": 95,
   "metadata": {},
   "outputs": [
    {
     "name": "stdout",
     "output_type": "stream",
     "text": [
      "<strong><p>Hello world</p></strong>\n"
     ]
    }
   ],
   "source": [
    "@wrap_with('strong')\n",
    "@wrap_with('p')\n",
    "def get_html_greetings():\n",
    "    return f'Hello world'\n",
    "\n",
    "print(get_html_greetings())"
   ]
  }
 ],
 "metadata": {
  "kernelspec": {
   "display_name": "Python 3",
   "language": "python",
   "name": "python3"
  },
  "language_info": {
   "codemirror_mode": {
    "name": "ipython",
    "version": 3
   },
   "file_extension": ".py",
   "mimetype": "text/x-python",
   "name": "python",
   "nbconvert_exporter": "python",
   "pygments_lexer": "ipython3",
   "version": "3.11.2"
  },
  "orig_nbformat": 4
 },
 "nbformat": 4,
 "nbformat_minor": 2
}
