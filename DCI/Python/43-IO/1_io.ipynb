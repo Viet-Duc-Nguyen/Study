{
 "cells": [
  {
   "cell_type": "markdown",
   "source": [
    "# Introduction to Class Variables\n",
    "\n",
    "1. Concept of Class Variables:\n",
    "\n",
    "- Class variables are variables that are defined within a class but outside any methods or the constructor.\n",
    "- They are associated with the class itself rather than individual instances of the class.\n",
    "- Class variables are shared among all instances of the class.\n"
   ],
   "metadata": {
    "collapsed": false
   }
  },
  {
   "cell_type": "code",
   "execution_count": null,
   "outputs": [],
   "source": [
    "class Circle:\n",
    "    pi = 3.14159  # Class variable\n",
    "\n",
    "    def __init__(self, radius):\n",
    "        self.radius = radius  # Instance variable\n",
    "\n",
    "\n",
    "# Accessing the class variable using the class name\n",
    "print(Circle.pi)  # Output: 3.14159\n"
   ],
   "metadata": {
    "collapsed": false
   }
  },
  {
   "cell_type": "markdown",
   "source": [],
   "metadata": {
    "collapsed": false
   }
  },
  {
   "cell_type": "markdown",
   "source": [],
   "metadata": {
    "collapsed": false
   }
  }
 ],
 "metadata": {
  "kernelspec": {
   "display_name": "Python 3",
   "language": "python",
   "name": "python3"
  },
  "language_info": {
   "codemirror_mode": {
    "name": "ipython",
    "version": 2
   },
   "file_extension": ".py",
   "mimetype": "text/x-python",
   "name": "python",
   "nbconvert_exporter": "python",
   "pygments_lexer": "ipython2",
   "version": "2.7.6"
  }
 },
 "nbformat": 4,
 "nbformat_minor": 0
}
