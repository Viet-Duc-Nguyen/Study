{
 "cells": [
  {
   "cell_type": "markdown",
   "source": [
    "### When a List is not the answer\n",
    "\n",
    "- The list type is flexible and easy to use\n",
    "- But depending on specific requirements\n",
    "- there are better options\n",
    "\n",
    "#### For example\n",
    "if you are constantly adding and removing items from opposite ends of a list, it's good to know that a *deque* (double-ended queue) is more efficient FIFO (First in, first out) data structure.\n",
    "\n",
    "### Deque\n",
    "\n",
    "The *.append* and *.pop* methods make a list usable as a queue.\n",
    "\n",
    "But inserting and removing from the head of a list (0-index end) is costly because the entire list must be shifted in memory.\n",
    "\n",
    "The class *collection.deque* is a queue designed for fast inserting and removing from both ends."
   ],
   "metadata": {
    "collapsed": false
   }
  },
  {
   "cell_type": "code",
   "execution_count": 15,
   "outputs": [
    {
     "name": "stdout",
     "output_type": "stream",
     "text": [
      "deque([10, 9, 8, 7, 6, 5, 4, 3, 2, 1])\n",
      "[2.6699970476329327e-05, 2.450007013976574e-05, 2.4400069378316402e-05]\n",
      "2.5200036664803822e-05 6.856664549559355e-05\n"
     ]
    }
   ],
   "source": [
    "### Deque ###\n",
    "\n",
    "from collections import deque\n",
    "\n",
    "dq = deque(range(9, 0, -1))\n",
    "\n",
    "dq.appendleft(10) # append to the left\n",
    "\n",
    "print(dq)\n",
    "\n",
    "import timeit\n",
    "\n",
    "N = 1000\n",
    "setup_queue = f'from collections import deque; dq=deque(range({N}, 0, -1))'\n",
    "fifo_queue = 'dq.appendleft(None); dq.pop()'\n",
    "\n",
    "queue_time = timeit.repeat(setup=setup_queue,\n",
    "                           stmt=fifo_queue,\n",
    "                           repeat=3,\n",
    "                           number=1000)\n",
    "\n",
    "print(queue_time)\n",
    "queue_mean = sum(queue_time) / len(queue_time)\n",
    "\n",
    "setup_list = f'num = [num for num in range({N}, 0, -1)]'\n",
    "# noinspection PyRedeclaration\n",
    "setup_list = f'num = list(range({N}, 0, -1))'\n",
    "\n",
    "fifo_list = 'num.append(None); num.pop(0)'\n",
    "\n",
    "list_time = timeit.repeat(setup=setup_list,\n",
    "                          stmt=fifo_list,\n",
    "                          repeat=3,\n",
    "                          number=1000)\n",
    "\n",
    "list_mean = sum(list_time) / len(list_time)\n",
    "print(queue_mean, list_mean)\n",
    "\n"
   ],
   "metadata": {
    "collapsed": false,
    "ExecuteTime": {
     "end_time": "2023-06-09T09:51:13.311102100Z",
     "start_time": "2023-06-09T09:51:13.307592900Z"
    }
   }
  },
  {
   "cell_type": "code",
   "execution_count": 16,
   "outputs": [
    {
     "name": "stdout",
     "output_type": "stream",
     "text": [
      "[2.4500000290572643e-05, 2.3769994731992484e-05, 2.5469984393566847e-05, 2.4930003564804793e-05, 2.6900006923824547e-05]\n",
      "\n",
      "[3.353335584203402e-05, 3.696663770824671e-05, 7.429998368024826e-05, 0.015347100018213192, 0.1600416333337004]\n"
     ]
    }
   ],
   "source": [
    "import timeit\n",
    "\n",
    "def time_it(N):\n",
    "    setup_queue = f\"from collections import deque; dq=deque(range({N}, 0, -1))\"\n",
    "    fifo_queue = \"dq.appendleft(None); dq.pop()\"\n",
    "\n",
    "    queue_time = timeit.repeat(setup=setup_queue,\n",
    "                            stmt= fifo_queue,\n",
    "                            repeat=10,\n",
    "                            number= 1000)\n",
    "\n",
    "    queue_mean = sum(queue_time) / len(queue_time)\n",
    "\n",
    "    setup_list = f\"num = list(range({N}, 0, -1))\"\n",
    "    fifo_list = \"num.append(None); num.pop(0)\"\n",
    "\n",
    "    list_time = timeit.repeat(setup=setup_list,\n",
    "                            stmt= fifo_list,\n",
    "                            repeat = 3,\n",
    "                            number = 1000)\n",
    "\n",
    "    list_mean = sum(list_time) / len(list_time)\n",
    "\n",
    "    return queue_mean, list_mean\n",
    "\n",
    "\n",
    "X = [10, 100, 1000, 10000, 100000]\n",
    "Y_queue = [time_it(num)[0] for num in X]\n",
    "Y_list = [time_it(num)[1] for num in X]\n",
    "\n",
    "print(Y_queue)\n",
    "print()\n",
    "print(Y_list)"
   ],
   "metadata": {
    "collapsed": false,
    "ExecuteTime": {
     "end_time": "2023-06-09T10:53:12.994771300Z",
     "start_time": "2023-06-09T10:53:11.913213500Z"
    }
   }
  },
  {
   "cell_type": "code",
   "execution_count": null,
   "outputs": [],
   "source": [
    "\n"
   ],
   "metadata": {
    "collapsed": false
   }
  }
 ],
 "metadata": {
  "kernelspec": {
   "display_name": "Python 3",
   "language": "python",
   "name": "python3"
  },
  "language_info": {
   "codemirror_mode": {
    "name": "ipython",
    "version": 2
   },
   "file_extension": ".py",
   "mimetype": "text/x-python",
   "name": "python",
   "nbconvert_exporter": "python",
   "pygments_lexer": "ipython2",
   "version": "2.7.6"
  }
 },
 "nbformat": 4,
 "nbformat_minor": 0
}
