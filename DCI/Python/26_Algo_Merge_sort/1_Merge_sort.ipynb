{
 "cells": [
  {
   "cell_type": "markdown",
   "source": [
    "#### 09.06.2023\n",
    "### Today's topics:\n",
    "- merge sort\n",
    "- LIFO and FIFO Behavior\n",
    "- Deque"
   ],
   "metadata": {
    "collapsed": false
   }
  },
  {
   "cell_type": "markdown",
   "source": [
    "## Merge Sort\n",
    "- Merge sort is a **divide-and*conquer** sorting algo\n",
    "- it works by recursively dividing an input array into smaller sub-arrays\n",
    "- sorting those sub-arrays\n",
    "- and then merging them back together\n",
    "\n",
    "#### The algorithm works as follows:\n",
    "- Divide the input array into 2 halves\n",
    "- Recursively sort each half using merge sort\n",
    "- Merge the two sorted halves into a single sorted output array\n",
    "- The merge operation is the key step of the algo\n",
    "- It works by comparing the 1st element of each subarray and selecting the smaller one"
   ],
   "metadata": {
    "collapsed": false
   }
  },
  {
   "cell_type": "markdown",
   "source": [
    "![merge_sort](img.png)"
   ],
   "metadata": {
    "collapsed": false
   }
  },
  {
   "cell_type": "markdown",
   "source": [],
   "metadata": {
    "collapsed": false
   }
  },
  {
   "cell_type": "code",
   "execution_count": 9,
   "outputs": [
    {
     "name": "stdout",
     "output_type": "stream",
     "text": [
      "left_half: [2, 6, 5]\n",
      "right_half: [1, 7, 4, 3]\n",
      "\n",
      "left_half: [2]\n",
      "right_half: [6, 5]\n",
      "\n",
      "left_half: [6]\n",
      "right_half: [5]\n",
      "\n",
      "left: [6]\n",
      "right: [5]\n",
      "\n",
      "left: [2]\n",
      "right: [5, 6]\n",
      "\n",
      "left_half: [1, 7]\n",
      "right_half: [4, 3]\n",
      "\n",
      "left_half: [1]\n",
      "right_half: [7]\n",
      "\n",
      "left: [1]\n",
      "right: [7]\n",
      "\n",
      "left_half: [4]\n",
      "right_half: [3]\n",
      "\n",
      "left: [4]\n",
      "right: [3]\n",
      "\n",
      "left: [1, 7]\n",
      "right: [3, 4]\n",
      "\n",
      "left: [2, 5, 6]\n",
      "right: [1, 3, 4, 7]\n",
      "\n"
     ]
    },
    {
     "data": {
      "text/plain": "[1, 2, 3, 4, 5, 6, 7]"
     },
     "execution_count": 9,
     "metadata": {},
     "output_type": "execute_result"
    }
   ],
   "source": [
    "def merge(left, right):\n",
    "    merged = []\n",
    "    left_index = 0\n",
    "    right_index = 0\n",
    "\n",
    "    while left_index < len(left) and right_index < len(right):\n",
    "        if left[left_index] < right[right_index]:\n",
    "            merged.append(left[left_index])\n",
    "            left_index += 1\n",
    "        else:\n",
    "            merged.append(right[right_index])\n",
    "            right_index += 1\n",
    "\n",
    "# left = [2, 6] ; left[left_index] = 2\n",
    "\n",
    "    merged.extend(left[left_index:])\n",
    "    merged.extend(right[right_index:])\n",
    "\n",
    "    return merged\n",
    "\n",
    "\n",
    "\n",
    "def merge_sort(lst):\n",
    "    # exit condition: if length of the list is 1 or less, return list\n",
    "    if len(lst) <= 1:\n",
    "        return lst\n",
    "\n",
    "    # divide the list into two halves\n",
    "    mid = len(lst) // 2\n",
    "    left = lst[:mid]\n",
    "    right = lst[mid:]\n",
    "    print(f'left_half: {left}')\n",
    "    print(f\"right_half: {right}\\n\")\n",
    "\n",
    "    # recursively sort the left and right halves\n",
    "    left = merge_sort(left)\n",
    "    right = merge_sort(right)\n",
    "    print(f'left: {left}')\n",
    "    print(f\"right: {right}\\n\")\n",
    "\n",
    "    return merge(left, right)\n",
    "\n",
    "\n",
    "merge_sort([2, 6, 5, 1, 7, 4, 3])"
   ],
   "metadata": {
    "collapsed": false,
    "ExecuteTime": {
     "end_time": "2023-06-09T09:23:52.937754500Z",
     "start_time": "2023-06-09T09:23:52.936184700Z"
    }
   }
  },
  {
   "cell_type": "code",
   "execution_count": null,
   "outputs": [],
   "source": [],
   "metadata": {
    "collapsed": false
   }
  }
 ],
 "metadata": {
  "kernelspec": {
   "display_name": "Python 3",
   "language": "python",
   "name": "python3"
  },
  "language_info": {
   "codemirror_mode": {
    "name": "ipython",
    "version": 2
   },
   "file_extension": ".py",
   "mimetype": "text/x-python",
   "name": "python",
   "nbconvert_exporter": "python",
   "pygments_lexer": "ipython2",
   "version": "2.7.6"
  }
 },
 "nbformat": 4,
 "nbformat_minor": 0
}
