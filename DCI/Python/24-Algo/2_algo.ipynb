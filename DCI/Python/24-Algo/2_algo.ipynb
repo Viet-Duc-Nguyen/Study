{
 "cells": [
  {
   "cell_type": "markdown",
   "source": [
    "## Introduction to Algorithms\n",
    "- search algorithm (binary search)\n",
    "- run time of an algorithm (binary search)\n",
    "- run time of a algorithms (Big O notation)"
   ],
   "metadata": {
    "collapsed": false
   }
  },
  {
   "cell_type": "markdown",
   "source": [
    "## Introduction\n",
    "- an algorithm (algo) is a set of instructions for accomplishing a task\n",
    "- there are different algos for the same task\n",
    "- each algo has trade-off\n",
    "- we will compare these trade offs (for example: merge sort vs. quick sort)\n",
    "\n",
    "Problem:\n",
    "Suppose We search the number 100 in a sorted list of 100 elements ranging from 1 to 100: We could either search from the start until the end of the list:\n",
    "\n",
    "[1,2,3,4,....100]\n",
    "[2,3,4,...,100] 1.step (to low, go on)\n",
    "[3,4,...,100] 2.step (to low, go on)\n",
    "[4,...,100] 3.step (to low, go on)\n",
    ".....\n",
    "....\n",
    "....\n",
    "[99, 100] 99.step (FOUND!)\n",
    "We have a algorithm with a time complexity of O(N): The algo would take 100 steps if we would search for 100"
   ],
   "metadata": {
    "collapsed": false
   }
  },
  {
   "cell_type": "markdown",
   "source": [
    "## A better way to search - Binary Search\n",
    "- suppose we have a list of ```[1,2,3,4,..,49,50,51,..100]``` and we want to search for the number 57:\n",
    "\n",
    "1. start at the middle: Guess: 50; Too low, but you just eliminated half the numbers! Now you know that 1 - 50 are all too low. ```\n",
    "[51,52,53,54,55,56,57,58,59,60,61,62,63,64,65,66,67,68,69,70,71,72,73,74,75,76,77,78,79,80,81,82,83,84,85,86,87,88,89,90,91,92,93,94,95,96,97,98,99,100] ```\n",
    "2. Next guess: 75. Too high, but you cut down half of the remaining numbers!```[51,52,53,54,55,55,56,57,58,59,60,61,62,63,64,65,66,67,68,69,70,71,72,73,74]``` With binary search, you guess the middle number and eliminate half the remaining numbers every time.\n",
    "3. Next guess:"
   ],
   "metadata": {
    "collapsed": false
   }
  },
  {
   "cell_type": "code",
   "execution_count": 1,
   "metadata": {
    "collapsed": true,
    "ExecuteTime": {
     "end_time": "2023-06-06T13:30:59.057709600Z",
     "start_time": "2023-06-06T13:30:59.054460Z"
    }
   },
   "outputs": [
    {
     "data": {
      "text/plain": "50"
     },
     "execution_count": 1,
     "metadata": {},
     "output_type": "execute_result"
    }
   ],
   "source": [
    "l1 = [51,52,53,54,55,56,57,58,59,60,61,62,63,64,65,66,67,68,69,70,71,72,73,74,75,76,77,78,79,80,81,82,83,84,85,86,87,88,89,90,91,92,93,94,95,96,97,98,99,100]\n",
    "length_step1 = len(l1)\n",
    "length_step1"
   ]
  },
  {
   "cell_type": "code",
   "execution_count": 2,
   "outputs": [
    {
     "name": "stdout",
     "output_type": "stream",
     "text": [
      "76\n",
      "51 52 53 54 55 56 57 58 59 60 61 62 63 64 65 66 67 68 69 70 71 72 73 74 75\n"
     ]
    },
    {
     "data": {
      "text/plain": "25"
     },
     "execution_count": 2,
     "metadata": {},
     "output_type": "execute_result"
    }
   ],
   "source": [
    "print(l1[len(l1)//2]) #is this higher or lower than my item: 76 > 57 ---> slice this half away\n",
    "l2 = l1[:len(l1)//2]\n",
    "print(*l2)\n",
    "length_step2 = len(l2)\n",
    "length_step2"
   ],
   "metadata": {
    "collapsed": false,
    "ExecuteTime": {
     "end_time": "2023-06-06T13:32:26.653809200Z",
     "start_time": "2023-06-06T13:32:26.650637900Z"
    }
   }
  },
  {
   "cell_type": "code",
   "execution_count": 3,
   "outputs": [
    {
     "name": "stdout",
     "output_type": "stream",
     "text": [
      "63\n",
      "51 52 53 54 55 56 57 58 59 60 61 62\n"
     ]
    },
    {
     "data": {
      "text/plain": "12"
     },
     "execution_count": 3,
     "metadata": {},
     "output_type": "execute_result"
    }
   ],
   "source": [
    "print(l2[len(l2)//2]) #63 > 57\n",
    "l3 = l2[:len(l2)//2]\n",
    "print(*l3)\n",
    "length_step3 = len(l3)\n",
    "length_step3"
   ],
   "metadata": {
    "collapsed": false,
    "ExecuteTime": {
     "end_time": "2023-06-06T13:33:54.719343Z",
     "start_time": "2023-06-06T13:33:54.715832100Z"
    }
   }
  },
  {
   "cell_type": "code",
   "execution_count": 4,
   "outputs": [
    {
     "name": "stdout",
     "output_type": "stream",
     "text": [
      "57\n"
     ]
    }
   ],
   "source": [
    "print(l3[len(l3)//2]) # 57 == 57  #found"
   ],
   "metadata": {
    "collapsed": false,
    "ExecuteTime": {
     "end_time": "2023-06-06T13:34:31.579850200Z",
     "start_time": "2023-06-06T13:34:31.576831200Z"
    }
   }
  },
  {
   "cell_type": "markdown",
   "source": [
    "In total it took us four steps 1Step(100->50), 2.step(50->25), 3.step(25->12), 4.Step(found)! With a simple search it would us take 57 steps.\n",
    "\n",
    "With each step of binary search, you cut the number of numbers in half until you found your number."
   ],
   "metadata": {
    "collapsed": false
   }
  },
  {
   "cell_type": "code",
   "execution_count": null,
   "outputs": [],
   "source": [],
   "metadata": {
    "collapsed": false
   }
  }
 ],
 "metadata": {
  "kernelspec": {
   "display_name": "Python 3",
   "language": "python",
   "name": "python3"
  },
  "language_info": {
   "codemirror_mode": {
    "name": "ipython",
    "version": 2
   },
   "file_extension": ".py",
   "mimetype": "text/x-python",
   "name": "python",
   "nbconvert_exporter": "python",
   "pygments_lexer": "ipython2",
   "version": "2.7.6"
  }
 },
 "nbformat": 4,
 "nbformat_minor": 0
}
