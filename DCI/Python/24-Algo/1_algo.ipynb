{
 "cells": [
  {
   "cell_type": "markdown",
   "source": [
    "## Algorithmic thinking"
   ],
   "metadata": {
    "collapsed": false
   }
  },
  {
   "cell_type": "markdown",
   "source": [
    "### What is an algorithm?\n",
    "   - An algorithm is a set of instructions or steps designed to solve a specific problem or perform a particular task.\n",
    "   - In computer science, algorithms are often used to solve complex problems\n"
   ],
   "metadata": {
    "collapsed": false
   }
  },
  {
   "cell_type": "markdown",
   "source": [
    "### aim:\n",
    "   - efficient\n",
    "   - reliable\n",
    "   - repeatable"
   ],
   "metadata": {
    "collapsed": false
   }
  },
  {
   "cell_type": "markdown",
   "source": [
    "### What is algorithmic thinking?\n",
    "   - Algorithmic thinking is the ability to break down a problem or task into its component parts\n",
    "   - develop a set of instructions or steps that can be used to solve the problem or perform the task.\n",
    "   - It involves the ability to think logically and systematically\n",
    "   - learn to analyze problems and develop solutions using a structured approach."
   ],
   "metadata": {
    "collapsed": false
   }
  },
  {
   "cell_type": "markdown",
   "source": [
    "### Typical algorithms:\n",
    "There are many different types of algorithms, each designed to solve a specific type of problem\n",
    "\n",
    "Some common examples include:\n",
    "\n",
    "   - Sorting algorithms: These algorithms are used to sort data in a specific order, such as alphabetical or numerical.\n",
    "   - Searching algorithms: These algorithms are used to search for specific data in a collection, such as finding a name in a list of contacts.\n",
    "   - Pathfinding algorithms: These algorithms are used to find the shortest path between two points in a graph, such as finding the shortest route between two cities on a map.\n",
    "   - Machine learning algorithms: These algorithms are used to build predictive models and make predictions based on data.\n",
    "   - Overall, algorithms are a fundamental tool for problem-solving in computer science"
   ],
   "metadata": {
    "collapsed": false
   }
  },
  {
   "cell_type": "markdown",
   "source": [
    "### Pseudocode\n",
    "   - Pseudocode is a type of informal language that is used to outline the basic logic of a computer program\n",
    "   - It is not a programming language, but rather a way to express the steps involved in solving a problem\n",
    "   - Pseudocode can be a helpful tool for planning and organizing your code\n",
    "   - communicating your ideas with others.\n",
    "\n",
    "By breaking down a problem into smaller steps you can make it easier to write the actual code\n",
    "```\n",
    "Start\n",
    "    Read number1\n",
    "    Read number2\n",
    "    sum = number1 + number2\n",
    "    Print sum\n",
    "End\n",
    "```"
   ],
   "metadata": {
    "collapsed": false
   }
  },
  {
   "cell_type": "markdown",
   "source": [
    "### Algorithmic Analysis\n",
    "Algorithmic analysis (algorithmic complexity analysis) is the process of evaluating the performance (time/memory).\n",
    "\n",
    "Time complexity refers to the amount of time an algorithm takes to solve a problem space complexity refers to the amount of memory an algorithm requires to solve a problem.\n",
    "\n",
    "   - determines the efficiency of an algorithm and its suitability\n",
    "   - By analyzing the performance, programmers can choose the most efficient algorithm for a particular task.\n",
    "   - This can lead to faster and more efficient code"
   ],
   "metadata": {
    "collapsed": false
   }
  },
  {
   "cell_type": "markdown",
   "source": [
    "#### O-notation\n",
    "O-notation is used to describe the upper bound of the growth rate of an algorithm's complexity. It provides a way to classify algorithms based on their efficiency in terms of time and space.\n",
    "\n",
    "   - The \"O\" in O-notation stands for \"order of\"\n",
    "   - it is used to describe the worst-case scenario of an algorithm's complexity.\n",
    "\n",
    "The notation is written as O(f(n)), where f(n) is a function that represents the upper bound of the growth rate of the algorithm."
   ],
   "metadata": {
    "collapsed": false
   }
  },
  {
   "cell_type": "markdown",
   "source": [
    "| Notation   | Name              | Description                                                                                          | Example                              |\n",
    "|------------|-------------------|------------------------------------------------------------------------------------------------------|--------------------------------------|\n",
    "| O(1)       | Constant time     | Algorithm with a fixed number of operations regardless of input size                                 | Accessing an element in an array     |\n",
    "| O(log n)   | Logarithmic time  | Algorithm that divides the input in half with each step                                              | Binary search                        |\n",
    "| O(n)       | Linear time       | Algorithm with a runtime proportional to the size of the input                                       | Iterating over an array              |\n",
    "| O(n log n) | Linearithmic time | Algorithm with a runtime proportional to the size of the input times the logarithm of the input size | Quicksort                            |\n",
    "| O(n^2)     | Quadratic time    | Algorithm with a runtime proportional to the square of the input size                                | Nested loops iterating over an array |\n",
    "| O(2^n)     | Exponential time  | Algorithm with a runtime that doubles with each additional input element                             | Some recursive algorithms            |\n"
   ],
   "metadata": {
    "collapsed": false
   }
  },
  {
   "cell_type": "markdown",
   "source": [
    "### How to calculate time complexity of an algorithm\n",
    "To calculate the time complexity of an algorithm, you can follow these steps:\n",
    "\n",
    "   - Identify the input size of your algorithm. This is usually denoted by 'n'.\n",
    "   - Determine the number of operations performed by the algorithm as a function of 'n'.\n",
    "   - Express the number of operations as a mathematical function of 'n'.\n",
    "   - Simplify the function using Big-O notation by dropping any lower order terms and constants.\n",
    "   - Finally, identify the time complexity by selecting the largest factor in the simplified function."
   ],
   "metadata": {
    "collapsed": false
   }
  },
  {
   "cell_type": "markdown",
   "source": [
    "Example 1:\n",
    "A function to find the sum of all numbers up to n\n",
    "\n",
    "- In this function, the input size is 'n' and the loop inside the function runs 'n' times.\n",
    "- Therefore, the number of operations performed by the function is proportional to 'n'.\n",
    "- We can express this mathematically as:"
   ],
   "metadata": {
    "collapsed": false
   }
  },
  {
   "cell_type": "code",
   "execution_count": 10,
   "outputs": [
    {
     "data": {
      "text/plain": "55"
     },
     "execution_count": 10,
     "metadata": {},
     "output_type": "execute_result"
    }
   ],
   "source": [
    "# Example 1:\n",
    "\n",
    "def sum_of_numbers(n):\n",
    "    total = 0\n",
    "    for i in range(1, n + 1):\n",
    "        total += i\n",
    "    return total\n",
    "\n",
    "sum_of_numbers(10)"
   ],
   "metadata": {
    "collapsed": false,
    "ExecuteTime": {
     "end_time": "2023-06-06T13:19:16.033137300Z",
     "start_time": "2023-06-06T13:19:16.002824600Z"
    }
   }
  },
  {
   "cell_type": "markdown",
   "source": [
    "T(n) = n + 1\n",
    "\n",
    "- The +1 is for the initialization of the total variable.\n",
    "- Now, we simplify the function using Big-O notation by dropping the lower order term 1:\n",
    "\n",
    "T(n) = O(n)\n",
    "\n",
    "- This means that the time complexity of the function is linear with respect to the input size 'n'.\n",
    "- As the value of 'n' increases, the time taken by the function also increases linearly."
   ],
   "metadata": {
    "collapsed": false
   }
  },
  {
   "cell_type": "code",
   "execution_count": 11,
   "outputs": [
    {
     "name": "stdout",
     "output_type": "stream",
     "text": [
      "1 1\n",
      "1 2\n",
      "1 3\n",
      "2 1\n",
      "2 2\n",
      "2 3\n",
      "3 1\n",
      "3 2\n",
      "3 3\n"
     ]
    }
   ],
   "source": [
    "# Example 2:\n",
    "\n",
    "def nested_loop(arr):\n",
    "    for i in range(len(arr)):\n",
    "        for j in range(len(arr)):\n",
    "            print(arr[i], arr[j])\n",
    "\n",
    "\n",
    "nested_loop([1,2,3])"
   ],
   "metadata": {
    "collapsed": false,
    "ExecuteTime": {
     "end_time": "2023-06-06T13:19:16.033137300Z",
     "start_time": "2023-06-06T13:19:16.008598600Z"
    }
   }
  },
  {
   "cell_type": "markdown",
   "source": [
    "- In this code, the outer loop runs n times and the inner loop runs n times for each iteration of the outer loop.\n",
    "- So the total number of iterations is n * n = n^2.\n",
    "- To express this in O notation, we write O(n^2).\n",
    "- the time required by the algorithm will grow quadratically in relation to the size of the input data.\n",
    "- It's important to note that O(n^2) time complexity is considered a relatively slow algorithm\n",
    "- it may not be suitable for large input data sizes.\n",
    "- In practice, it's often desirable to design algorithms with faster time complexity."
   ],
   "metadata": {
    "collapsed": false
   }
  },
  {
   "cell_type": "markdown",
   "source": [
    "In computer science and mathematics, log₂(n) denotes the base-2 logarithm of n. It is the power to which the number 2 must be raised to obtain\n",
    "the value n. For example, log₂(8) = 3, because 2³ = 8. In the context of algorithmic complexity, log₂(n) is often used to measure the number of times an algorithm can divide a problem into halves before reaching the smallest possible subproblem.\n",
    "\n"
   ],
   "metadata": {
    "collapsed": false
   }
  },
  {
   "cell_type": "code",
   "execution_count": 11,
   "outputs": [],
   "source": [],
   "metadata": {
    "collapsed": false,
    "ExecuteTime": {
     "end_time": "2023-06-06T13:19:16.052164700Z",
     "start_time": "2023-06-06T13:19:16.026612100Z"
    }
   }
  }
 ],
 "metadata": {
  "kernelspec": {
   "display_name": "Python 3",
   "language": "python",
   "name": "python3"
  },
  "language_info": {
   "codemirror_mode": {
    "name": "ipython",
    "version": 2
   },
   "file_extension": ".py",
   "mimetype": "text/x-python",
   "name": "python",
   "nbconvert_exporter": "python",
   "pygments_lexer": "ipython2",
   "version": "2.7.6"
  }
 },
 "nbformat": 4,
 "nbformat_minor": 0
}
