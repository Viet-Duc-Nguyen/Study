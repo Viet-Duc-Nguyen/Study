{
 "cells": [
  {
   "cell_type": "code",
   "execution_count": 2,
   "metadata": {},
   "outputs": [
    {
     "name": "stdout",
     "output_type": "stream",
     "text": [
      "{'__module__': '__main__', '_School__School': <class '__main__.School.__School'>, '_School__instance': <__main__.School.__School object at 0x0000020722DF9590>, '__new__': <staticmethod(<function School.__new__ at 0x0000020722DF51C0>)>, '__dict__': <attribute '__dict__' of 'School' objects>, '__weakref__': <attribute '__weakref__' of 'School' objects>, '__doc__': None}\n"
     ]
    }
   ],
   "source": [
    "class School:\n",
    "    class __School:\n",
    "        def __init__(self, population) -> None:\n",
    "            self.population = population\n",
    "\n",
    "        def __str__(self) -> str:\n",
    "            return f\"School({self.population})\"\n",
    "        \n",
    "        def add_popu(self, population):\n",
    "            self.population += population\n",
    "    \n",
    "    __instance = None\n",
    "\n",
    "    def __new__(cls, population):\n",
    "        if cls.__instance is None:\n",
    "            cls.__instance = cls.__School(population)\n",
    "        return cls.__instance\n",
    "        \n",
    "\n",
    "# asdfasdf\n",
    "\n",
    "obj1 = School(10)\n",
    "print(School.__dict__)"
   ]
  },
  {
   "cell_type": "markdown",
   "metadata": {
    "collapsed": false
   },
   "source": [
    "sadf"
   ]
  },
  {
   "cell_type": "code",
   "execution_count": null,
   "metadata": {
    "collapsed": false
   },
   "outputs": [],
   "source": []
  },
  {
   "cell_type": "code",
   "execution_count": null,
   "metadata": {},
   "outputs": [],
   "source": []
  }
 ],
 "metadata": {
  "kernelspec": {
   "display_name": "Python 3",
   "language": "python",
   "name": "python3"
  },
  "language_info": {
   "codemirror_mode": {
    "name": "ipython",
    "version": 3
   },
   "file_extension": ".py",
   "mimetype": "text/x-python",
   "name": "python",
   "nbconvert_exporter": "python",
   "pygments_lexer": "ipython3",
   "version": "3.11.2"
  },
  "orig_nbformat": 4
 },
 "nbformat": 4,
 "nbformat_minor": 2
}
