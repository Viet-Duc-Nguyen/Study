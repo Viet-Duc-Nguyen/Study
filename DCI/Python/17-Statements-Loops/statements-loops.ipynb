{
 "cells": [
  {
   "attachments": {},
   "cell_type": "markdown",
   "metadata": {},
   "source": [
    "# Statemets an Loops\n"
   ]
  },
  {
   "attachments": {},
   "cell_type": "markdown",
   "metadata": {},
   "source": [
    "# Statement:\n",
    "\n",
    "- A statement is an instruction in Py which performs some action\n",
    "- It is the basic unit of execution in Py\n",
    "\n",
    "Examples in Py:\n",
    "\n",
    "1. Assigment statements\n",
    "2. Print statements\n",
    "3. Loop statements\n",
    "\n",
    "- A program is formed by a sequence of one or more statements\n",
    "- A statement will have internal components (expressions)\n"
   ]
  },
  {
   "cell_type": "code",
   "execution_count": null,
   "metadata": {},
   "outputs": [],
   "source": [
    "a = 5             # assign statement\n",
    "print(5, 'bla')   # print statement"
   ]
  },
  {
   "attachments": {},
   "cell_type": "markdown",
   "metadata": {},
   "source": [
    "# Expression:\n",
    "\n",
    "- Combination of values, variables, and operators that provide a result\n",
    "- Expressions can be used in statements\n",
    "- A collection of symbols that jointly express a quantity"
   ]
  },
  {
   "attachments": {},
   "cell_type": "markdown",
   "metadata": {},
   "source": [
    "1. Arithmetic Operators:\n",
    "\n",
    "Addition: +\n",
    "Subtraction: -\n",
    "Multiplication: *\n",
    "Division: /\n",
    "Floor Division: //\n",
    "Modulus (Remainder): %\n",
    "Exponentiation: **\n",
    "\n",
    "2. Assignment Operators:\n",
    "\n",
    "Assignment: =\n",
    "Addition Assignment: +=\n",
    "Subtraction Assignment: -=\n",
    "Multiplication Assignment: *=\n",
    "Division Assignment: /=\n",
    "Modulus Assignment: %=\n",
    "Floor Division Assignment: //=\n",
    "Exponentiation Assignment: **=\n",
    "\n",
    "3. Comparison Operators:\n",
    "\n",
    "Equal to: ==\n",
    "Not equal to: !=\n",
    "Greater than: >\n",
    "Less than: <\n",
    "Greater than or equal to: >=\n",
    "Less than or equal to: <=\n",
    "\n",
    "4. Logical Operators:\n",
    "\n",
    "Logical AND: and\n",
    "Logical OR: or\n",
    "Logical NOT: not\n",
    "Bitwise Operators:\n",
    "\n",
    "Bitwise AND: &\n",
    "Bitwise OR: |\n",
    "Bitwise XOR: ^\n",
    "Bitwise NOT: ~\n",
    "Left Shift: <<\n",
    "Right Shift: >>\n",
    "\n",
    "5. Membership Operators:\n",
    "\n",
    "in: Evaluates if a value is present in a sequence\n",
    "not in: Evaluates if a value is not present in a sequence\n",
    "\n",
    "6. Identity Operators:\n",
    "\n",
    "is: Evaluates if two variables refer to the same object\n",
    "is not: Evaluates if two variables do not refer to the same object"
   ]
  },
  {
   "attachments": {},
   "cell_type": "markdown",
   "metadata": {},
   "source": [
    "# Iteration:\n",
    "\n",
    "- Iteration is the process or repeating a set of instructions multiple times\n",
    "- In Py, iteration is implemented using loops"
   ]
  },
  {
   "cell_type": "code",
   "execution_count": 2,
   "metadata": {},
   "outputs": [
    {
     "name": "stdout",
     "output_type": "stream",
     "text": [
      "1\n",
      "2\n",
      "4\n",
      "5\n"
     ]
    }
   ],
   "source": [
    "i = 1\n",
    "while i <=5:\n",
    "    if i == 3:\n",
    "        i += 1\n",
    "        continue\n",
    "    print(i)\n",
    "    i +=1"
   ]
  }
 ],
 "metadata": {
  "kernelspec": {
   "display_name": "Python 3",
   "language": "python",
   "name": "python3"
  },
  "language_info": {
   "codemirror_mode": {
    "name": "ipython",
    "version": 3
   },
   "file_extension": ".py",
   "mimetype": "text/x-python",
   "name": "python",
   "nbconvert_exporter": "python",
   "pygments_lexer": "ipython3",
   "version": "3.11.2"
  },
  "orig_nbformat": 4
 },
 "nbformat": 4,
 "nbformat_minor": 2
}
