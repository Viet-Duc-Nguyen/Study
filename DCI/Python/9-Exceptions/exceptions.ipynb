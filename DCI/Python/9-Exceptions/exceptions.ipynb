{
 "cells": [
  {
   "attachments": {},
   "cell_type": "markdown",
   "metadata": {},
   "source": [
    "\n",
    "## Exceptions\n",
    "\n",
    "- **Exceptions** are a way of handling errors that occur during program execution in Python. \n",
    "- When an error occurs in Python, an exception is raised, which interrupts the normal flow of the program. \n",
    "- It transfers control to an exception handler.\n",
    "- If there is no exception handler present, the program terminates with an error message.\n",
    "\n",
    "- Python also provides built-in exceptions that are raised for specific errors. \n",
    " - (Python provides a built-in Exception class that can be used to create custom exceptions. We will talk about it after the OOP Module)\n",
    "\n",
    "Some of the built-in exceptions in Python include:\n",
    "\n",
    "| Exception          | Description                                                                                              |\n",
    "|--------------------|----------------------------------------------------------------------------------------------------------|\n",
    "| SyntaxError:       | raised when there is a syntax error in the code                                                          |\n",
    "| NameError:         | raised when a variable is not defined                                                                    |\n",
    "| TypeError:         | raised when an operation or function is applied to an object of inappropriate type                       |\n",
    "| ValueError:        | raised when an operation or function receives an argument of the correct type but an inappropriate value |\n",
    "| ZeroDivisionError: | raised when division by zero occurs                                                                      |\n",
    "\n",
    "### Scenarios when Exception might occur\n",
    "* A file does not exist, and you want to read data from the file.\n",
    "* You want to convert a string to an integer, but the string is not a valid integer.\n",
    "* You want to access an element of a list or dictionary that does not exist.\n",
    "* You want to divide a number by zero.\n",
    "* You want to open a network connection, but the connection fails.\n",
    "* You want to access a database, but the database is not available.\n",
    "* You want to access a website, but the website is down.\n",
    "* You want to access a resource that requires authentication, but you are not authenticated.\n",
    "* You want to perform an operation that is not supported on a particular platform or operating system.\n",
    "* You want to access a resource that does not have the necessary permissions or access rights."
   ]
  },
  {
   "cell_type": "markdown",
   "metadata": {},
   "source": [
    "# Errors and Exceptions\n",
    "\n",
    "There are (at least) two distinguishable kinds of errors: syntax errors and exceptions."
   ]
  },
  {
   "cell_type": "markdown",
   "metadata": {},
   "source": [
    "## Syntax Errors\n",
    "\n",
    "- also called parsing errors "
   ]
  },
  {
   "cell_type": "markdown",
   "metadata": {},
   "source": [
    "## Exceptions\n",
    "Even if a statement or expression is syntactically correct, it may cause an error.\n",
    "\n",
    "\n",
    "An exception in python is an event that occurs during the execution of\n",
    "programs that disrupt the normal flow of execution. \n",
    "\n",
    "- Exceptions help developers to debug their code (Standardized error handling)\n",
    "- Cleaner code\n",
    "- Robust application\n"
   ]
  },
  {
   "cell_type": "markdown",
   "metadata": {},
   "source": [
    "exceptions are object and contain:\n",
    "- Error type (exception name)\n",
    "- An error message describing the error event"
   ]
  },
  {
   "cell_type": "markdown",
   "metadata": {},
   "source": [
    "Unhandled exceptions result in error messages consisting of:\n",
    "- exception type\n",
    "- error message\n",
    "- error message showing the context where the exception occurred, in the form of a stack traceback"
   ]
  },
  {
   "cell_type": "code",
   "execution_count": 6,
   "metadata": {},
   "outputs": [
    {
     "ename": "ZeroDivisionError",
     "evalue": "division by zero",
     "output_type": "error",
     "traceback": [
      "\u001b[0;31m---------------------------------------------------------------------------\u001b[0m",
      "\u001b[0;31mZeroDivisionError\u001b[0m                         Traceback (most recent call last)",
      "\u001b[1;32m/home/dci-student/PYDCI/p23_e02_live-code/PYTHON/2.04_EXCEPTION/exceptions.ipynb Cell 7\u001b[0m in \u001b[0;36m3\n\u001b[1;32m      <a href='vscode-notebook-cell:/home/dci-student/PYDCI/p23_e02_live-code/PYTHON/2.04_EXCEPTION/exceptions.ipynb#Y102sZmlsZQ%3D%3D?line=0'>1</a>\u001b[0m a\u001b[39m=\u001b[39m\u001b[39m10\u001b[39m\n\u001b[1;32m      <a href='vscode-notebook-cell:/home/dci-student/PYDCI/p23_e02_live-code/PYTHON/2.04_EXCEPTION/exceptions.ipynb#Y102sZmlsZQ%3D%3D?line=1'>2</a>\u001b[0m b\u001b[39m=\u001b[39m\u001b[39m0\u001b[39m\n\u001b[0;32m----> <a href='vscode-notebook-cell:/home/dci-student/PYDCI/p23_e02_live-code/PYTHON/2.04_EXCEPTION/exceptions.ipynb#Y102sZmlsZQ%3D%3D?line=2'>3</a>\u001b[0m c\u001b[39m=\u001b[39ma\u001b[39m/\u001b[39;49mb\n\u001b[1;32m      <a href='vscode-notebook-cell:/home/dci-student/PYDCI/p23_e02_live-code/PYTHON/2.04_EXCEPTION/exceptions.ipynb#Y102sZmlsZQ%3D%3D?line=3'>4</a>\u001b[0m \u001b[39mprint\u001b[39m(c)\n",
      "\u001b[0;31mZeroDivisionError\u001b[0m: division by zero"
     ]
    }
   ],
   "source": [
    "a=10\n",
    "b=0\n",
    "c=a/b\n",
    "print(c)"
   ]
  },
  {
   "attachments": {},
   "cell_type": "markdown",
   "metadata": {},
   "source": [
    "The error message will contain the following information:\n",
    "\n",
    "* The type of the exception: ZeroDivisionError\n",
    "* A brief description of the error: division by zero\n",
    "* The line number where the error occurred: c=a/b\n",
    "\n",
    "1. The first line of the error message (**Traceback (most recent call last)**) indicates the start of the traceback. \n",
    "\n",
    "\n",
    "2. The second line of the error message **(File \"/home/dci-student/PYDCI/p23_e02_live-code/PYTHON/2.04_EXCEPTION/except.py\")** indicates the file name and line number where the error occurred. **(line 3, in module)**\n",
    "\n",
    "\n",
    "3. The third line of the error message **(c = a/b)** shows the line of code that raised the exception.\n",
    "\n",
    "\n",
    "4. The fourth line of the error message **(ZeroDivisionError: division by zero)** indicates the type of the exception (\n",
    "   ZeroDivisionError) and a brief description of the error (division by zero)."
   ]
  },
  {
   "attachments": {},
   "cell_type": "markdown",
   "metadata": {},
   "source": [
    "## Handling Exceptions\n",
    "\n",
    "You can handle selected Exceptions:\n",
    "\n",
    "```\n",
    "try:\n",
    "    x = int(input('Please give a number.'))\n",
    "except ValueError:\n",
    "    print('Wrong type)\n",
    "```\n"
   ]
  },
  {
   "cell_type": "code",
   "execution_count": 5,
   "metadata": {},
   "outputs": [
    {
     "ename": "ZeroDivisionError",
     "evalue": "division by zero",
     "output_type": "error",
     "traceback": [
      "\u001b[0;31m---------------------------------------------------------------------------\u001b[0m",
      "\u001b[0;31mZeroDivisionError\u001b[0m                         Traceback (most recent call last)",
      "Cell \u001b[0;32mIn [5], line 3\u001b[0m\n\u001b[1;32m      1\u001b[0m \u001b[39mtry\u001b[39;00m:\n\u001b[1;32m      2\u001b[0m     x \u001b[39m=\u001b[39m \u001b[39mint\u001b[39m(\u001b[39minput\u001b[39m(\u001b[39m'\u001b[39m\u001b[39mPlease give a number.\u001b[39m\u001b[39m'\u001b[39m))\n\u001b[0;32m----> 3\u001b[0m     \u001b[39mprint\u001b[39m(x\u001b[39m/\u001b[39;49m\u001b[39m0\u001b[39;49m)\n\u001b[1;32m      4\u001b[0m \u001b[39mexcept\u001b[39;00m \u001b[39mValueError\u001b[39;00m:\n\u001b[1;32m      5\u001b[0m     \u001b[39mprint\u001b[39m(\u001b[39m'\u001b[39m\u001b[39mWrong type\u001b[39m\u001b[39m'\u001b[39m)\n",
      "\u001b[0;31mZeroDivisionError\u001b[0m: division by zero"
     ]
    }
   ],
   "source": [
    "\n",
    "try:\n",
    "    x = int(input('Please give a number.'))\n",
    "    #print(x/0)\n",
    "except ValueError:\n",
    "    print('Wrong type')"
   ]
  },
  {
   "cell_type": "markdown",
   "metadata": {},
   "source": [
    "The try statement works as follows:\n",
    "- First, the try clause is executed.\n",
    "- If no exception occurs, the except clause is skipped and execution of the try statement is finished.\n",
    "- If an exception occurs during execution of the try clause, the rest of the try clause is skipped and the except clause is executed\n",
    "- If an exception occurs which does not match the exception named in the except clause, it is an unhandled exception and execution stops"
   ]
  },
  {
   "cell_type": "markdown",
   "metadata": {},
   "source": [
    "An except clause may name multiple exceptions as a parenthesized tuple, for example:"
   ]
  },
  {
   "cell_type": "code",
   "execution_count": 7,
   "metadata": {},
   "outputs": [
    {
     "name": "stdout",
     "output_type": "stream",
     "text": [
      "Error\n"
     ]
    }
   ],
   "source": [
    "try:\n",
    "    x = int(input('Please give a number.'))\n",
    "    print(x/0)\n",
    "except (ValueError, ZeroDivisionError):\n",
    "    print('Error')"
   ]
  },
  {
   "cell_type": "code",
   "execution_count": 10,
   "metadata": {},
   "outputs": [
    {
     "name": "stdout",
     "output_type": "stream",
     "text": [
      "give me the right value\n"
     ]
    }
   ],
   "source": [
    "try:\n",
    "    x = int(input('Please give a number.'))\n",
    "    print(x/0)\n",
    "except ValueError:\n",
    "    print('give me the right value')\n",
    "except ZeroDivisionError:\n",
    "    print('do not divide by zero')"
   ]
  },
  {
   "cell_type": "markdown",
   "metadata": {},
   "source": [
    "You can also catch all errors at once, but this considered as bad practice."
   ]
  },
  {
   "cell_type": "code",
   "execution_count": 8,
   "metadata": {},
   "outputs": [
    {
     "name": "stdout",
     "output_type": "stream",
     "text": [
      "Error\n"
     ]
    }
   ],
   "source": [
    "try:\n",
    "    x = int(input('Please give a number.'))\n",
    "    print(x/0)\n",
    "except:\n",
    "    print('Error')"
   ]
  },
  {
   "cell_type": "code",
   "execution_count": 21,
   "metadata": {},
   "outputs": [
    {
     "name": "stdout",
     "output_type": "stream",
     "text": [
      "Error invalid literal for int() with base 10: 'a'\n"
     ]
    }
   ],
   "source": [
    "try:\n",
    "    x = int(input('Please give a number.'))\n",
    "    print(x/0)\n",
    "except Exception as e:\n",
    "    print('Error', e)"
   ]
  },
  {
   "cell_type": "markdown",
   "metadata": {},
   "source": [
    "# Defining Clean-up Actions (finally)\n",
    "\n",
    "The try statement has another optional clause which is intended to define clean-up actions that must be executed under all circumstances. "
   ]
  },
  {
   "cell_type": "code",
   "execution_count": 12,
   "metadata": {},
   "outputs": [
    {
     "name": "stdout",
     "output_type": "stream",
     "text": [
      "Goodbye, world!\n"
     ]
    },
    {
     "ename": "TypeError",
     "evalue": "unsupported operand type(s) for +: 'int' and 'str'",
     "output_type": "error",
     "traceback": [
      "\u001b[0;31m---------------------------------------------------------------------------\u001b[0m",
      "\u001b[0;31mTypeError\u001b[0m                                 Traceback (most recent call last)",
      "Cell \u001b[0;32mIn [12], line 2\u001b[0m\n\u001b[1;32m      1\u001b[0m \u001b[39mtry\u001b[39;00m:\n\u001b[0;32m----> 2\u001b[0m     \u001b[39m1\u001b[39;49m \u001b[39m+\u001b[39;49m \u001b[39m'\u001b[39;49m\u001b[39mHello\u001b[39;49m\u001b[39m'\u001b[39;49m\n\u001b[1;32m      3\u001b[0m \u001b[39mfinally\u001b[39;00m:\n\u001b[1;32m      4\u001b[0m     \u001b[39mprint\u001b[39m(\u001b[39m'\u001b[39m\u001b[39mGoodbye, world!\u001b[39m\u001b[39m'\u001b[39m)\n",
      "\u001b[0;31mTypeError\u001b[0m: unsupported operand type(s) for +: 'int' and 'str'"
     ]
    }
   ],
   "source": [
    "try:\n",
    "    1 + 'Hello'\n",
    "finally:\n",
    "    print('Goodbye, world!')"
   ]
  },
  {
   "cell_type": "markdown",
   "metadata": {},
   "source": [
    "- The finally clause runs whether or not the try statement produces an exception. \n",
    "- If a finally clause includes a return statement, the returned value will be the one from the finally clause’s return statement."
   ]
  },
  {
   "cell_type": "code",
   "execution_count": 13,
   "metadata": {},
   "outputs": [
    {
     "data": {
      "text/plain": [
       "False"
      ]
     },
     "execution_count": 13,
     "metadata": {},
     "output_type": "execute_result"
    }
   ],
   "source": [
    "def bool_return():\n",
    "    try:\n",
    "        return True\n",
    "    finally:\n",
    "        return False\n",
    "\n",
    "bool_return()"
   ]
  },
  {
   "cell_type": "markdown",
   "metadata": {},
   "source": [
    "- the else clause can be also be used in try statements\n",
    "- the else block will run only if no exception is raised in the try block.\n",
    "\n"
   ]
  },
  {
   "cell_type": "markdown",
   "metadata": {},
   "source": [
    "Consider the following code:"
   ]
  },
  {
   "cell_type": "code",
   "execution_count": 16,
   "metadata": {},
   "outputs": [
    {
     "name": "stdout",
     "output_type": "stream",
     "text": [
      "Type error\n"
     ]
    }
   ],
   "source": [
    "def dangerous_call(num):\n",
    "    print(1+num)\n",
    "\n",
    "def after_call():\n",
    "    print('everything alright')\n",
    "\n",
    "try:\n",
    "    dangerous_call('2')\n",
    "    after_call()\n",
    "except TypeError:\n",
    "    print('Type error')"
   ]
  },
  {
   "cell_type": "markdown",
   "metadata": {},
   "source": [
    "For clarity, the body of a try block should only have the statements that may generate the expected exceptions. This is better "
   ]
  },
  {
   "cell_type": "code",
   "execution_count": 18,
   "metadata": {},
   "outputs": [
    {
     "name": "stdout",
     "output_type": "stream",
     "text": [
      "3\n",
      "everything alright\n"
     ]
    }
   ],
   "source": [
    "try:\n",
    "    dangerous_call(2)\n",
    "except TypeError:\n",
    "    print('Type error')\n",
    "else:\n",
    "    after_call()"
   ]
  },
  {
   "cell_type": "markdown",
   "metadata": {},
   "source": [
    "the try block is guarding against possible errors in dangerous_call"
   ]
  },
  {
   "cell_type": "markdown",
   "metadata": {},
   "source": [
    "## Raising exceptions\n",
    "\n",
    "The raise statement allows the programmer to force a specified exception to occur.\n",
    "\n",
    "```\n",
    "raise SomeExceptionClass(<value>)\n",
    "```"
   ]
  },
  {
   "cell_type": "code",
   "execution_count": 22,
   "metadata": {},
   "outputs": [
    {
     "ename": "NameError",
     "evalue": "HiThere",
     "output_type": "error",
     "traceback": [
      "\u001b[0;31m---------------------------------------------------------------------------\u001b[0m",
      "\u001b[0;31mNameError\u001b[0m                                 Traceback (most recent call last)",
      "Cell \u001b[0;32mIn [22], line 1\u001b[0m\n\u001b[0;32m----> 1\u001b[0m \u001b[39mraise\u001b[39;00m \u001b[39mNameError\u001b[39;00m(\u001b[39m'\u001b[39m\u001b[39mHiThere\u001b[39m\u001b[39m'\u001b[39m)\n",
      "\u001b[0;31mNameError\u001b[0m: HiThere"
     ]
    }
   ],
   "source": [
    "raise NameError('HiThere')"
   ]
  },
  {
   "cell_type": "code",
   "execution_count": 24,
   "metadata": {},
   "outputs": [
    {
     "ename": "NameError",
     "evalue": "",
     "output_type": "error",
     "traceback": [
      "\u001b[0;31m---------------------------------------------------------------------------\u001b[0m",
      "\u001b[0;31mNameError\u001b[0m                                 Traceback (most recent call last)",
      "Cell \u001b[0;32mIn [24], line 2\u001b[0m\n\u001b[1;32m      1\u001b[0m \u001b[39m# raise NameError()\u001b[39;00m\n\u001b[0;32m----> 2\u001b[0m \u001b[39mraise\u001b[39;00m \u001b[39mNameError\u001b[39;00m\n",
      "\u001b[0;31mNameError\u001b[0m: "
     ]
    }
   ],
   "source": [
    "# raise NameError()\n",
    "raise NameError"
   ]
  },
  {
   "cell_type": "markdown",
   "metadata": {},
   "source": [
    "If you need to determine whether an exception was raised but don’t intend to handle it, a simpler form of the raise statement allows you to re-raise the exception:"
   ]
  },
  {
   "cell_type": "code",
   "execution_count": 25,
   "metadata": {},
   "outputs": [
    {
     "name": "stdout",
     "output_type": "stream",
     "text": [
      "An exception flew by!\n"
     ]
    },
    {
     "ename": "NameError",
     "evalue": "HiThere",
     "output_type": "error",
     "traceback": [
      "\u001b[0;31m---------------------------------------------------------------------------\u001b[0m",
      "\u001b[0;31mNameError\u001b[0m                                 Traceback (most recent call last)",
      "Cell \u001b[0;32mIn [25], line 2\u001b[0m\n\u001b[1;32m      1\u001b[0m \u001b[39mtry\u001b[39;00m:\n\u001b[0;32m----> 2\u001b[0m     \u001b[39mraise\u001b[39;00m \u001b[39mNameError\u001b[39;00m(\u001b[39m'\u001b[39m\u001b[39mHiThere\u001b[39m\u001b[39m'\u001b[39m)\n\u001b[1;32m      3\u001b[0m \u001b[39mexcept\u001b[39;00m \u001b[39mNameError\u001b[39;00m:\n\u001b[1;32m      4\u001b[0m     \u001b[39mprint\u001b[39m(\u001b[39m'\u001b[39m\u001b[39mAn exception flew by!\u001b[39m\u001b[39m'\u001b[39m)\n",
      "\u001b[0;31mNameError\u001b[0m: HiThere"
     ]
    }
   ],
   "source": [
    "try:\n",
    "    raise NameError('HiThere')\n",
    "except NameError:\n",
    "    print('An exception flew by!')\n",
    "    raise\n"
   ]
  },
  {
   "attachments": {},
   "cell_type": "markdown",
   "metadata": {},
   "source": [
    "## Exercise 1\n",
    "\n",
    "- Write a program that prompts the user for a number. The number should divide the number 1. Handle the ZeroDivisionError exception and print an error message.\n",
    "- The program will keep prompting the user to enter a number until a non-zero number is entered.\n",
    "Hint:\n",
    "- use a while loop\n",
    "- research on the keyword: *break*\n",
    "\n"
   ]
  },
  {
   "cell_type": "code",
   "execution_count": 2,
   "metadata": {},
   "outputs": [
    {
     "name": "stdout",
     "output_type": "stream",
     "text": [
      "Error: Cannot divide by 0.\n",
      "1.0\n"
     ]
    }
   ],
   "source": [
    "while True:\n",
    "    try:\n",
    "        num = int(input(\"Enter a number: \"))\n",
    "        result = 1 / num\n",
    "        print(result)\n",
    "    except ZeroDivisionError:\n",
    "        print(\"Error: Cannot divide by 0.\")\n",
    "    else:\n",
    "        break\n"
   ]
  },
  {
   "attachments": {},
   "cell_type": "markdown",
   "metadata": {},
   "source": [
    "## Exercise 2\n",
    "\n",
    "- Write a program that prompts the user to enter two numbers and performs division. \n",
    "- Handle the ValueError exception if the user inputs a non-numeric value.\n",
    "\n",
    "Note: The program will keep prompting the user to enter two numbers until a non-zero numeric value is entered as the second number."
   ]
  },
  {
   "cell_type": "code",
   "execution_count": 3,
   "metadata": {},
   "outputs": [
    {
     "name": "stdout",
     "output_type": "stream",
     "text": [
      "Error: Invalid input. Please enter a numeric value.\n",
      "Error: Invalid input. Please enter a numeric value.\n",
      "Error: Cannot divide by 0.\n",
      "1/1 = 1.0\n"
     ]
    }
   ],
   "source": [
    "while True:\n",
    "    try:\n",
    "        num1 = int(input(\"Enter the first number: \"))\n",
    "        num2 = int(input(\"Enter the second number: \"))\n",
    "        result = num1 / num2\n",
    "        print(f\"{num1}/{num2} = {result}\")\n",
    "    except ValueError:\n",
    "        print(\"Error: Invalid input. Please enter a numeric value.\")\n",
    "    except ZeroDivisionError:\n",
    "        print(\"Error: Cannot divide by 0.\")\n",
    "    else:\n",
    "        break\n"
   ]
  },
  {
   "attachments": {},
   "cell_type": "markdown",
   "metadata": {},
   "source": [
    "## Exercise:\n",
    "- Write a program that prompts the user to enter a list of integers and computes the average. \n",
    "- Handle the ValueError exception if the user inputs a non-numeric value.\n",
    "Note: The program assumes that the user enters a comma-separated list of integers. If the user enters a list with a different separator, the program will not be able to parse the input and may raise other exceptions."
   ]
  },
  {
   "cell_type": "code",
   "execution_count": 5,
   "metadata": {},
   "outputs": [
    {
     "name": "stdout",
     "output_type": "stream",
     "text": [
      "Error: Invalid input. Please enter a list of integers, separated by commas.\n",
      "Error: Invalid input. Please enter a list of integers, separated by commas.\n",
      "Average: 1.0\n"
     ]
    }
   ],
   "source": [
    "while True:\n",
    "    try:\n",
    "        nums = input(\"Enter a list of integers, separated by commas: \").split(',')\n",
    "        nums = [int(num) for num in nums]  #use for loop instead\n",
    "        avg = sum(nums) / len(nums)\n",
    "        print(f\"Average: {avg}\")\n",
    "    except ValueError:\n",
    "        print(\"Error: Invalid input. Please enter a list of integers, separated by commas.\")\n",
    "    else:\n",
    "        break"
   ]
  },
  {
   "attachments": {},
   "cell_type": "markdown",
   "metadata": {},
   "source": [
    "--------------------------------------------------------------------- FOR LATER AFTER THE OOP MODULE ------------"
   ]
  },
  {
   "cell_type": "markdown",
   "metadata": {},
   "source": [
    "## Exception classes: Custom exceptions\n",
    "\n",
    "Sometimes we have to define and raise exceptions that are not provided\n",
    "natively by Python.\n",
    "Such type of exceptions are called user-defined exception or customized\n",
    "exception."
   ]
  },
  {
   "cell_type": "code",
   "execution_count": 26,
   "metadata": {},
   "outputs": [
    {
     "ename": "UnderAgeError",
     "evalue": "Wrong Age",
     "output_type": "error",
     "traceback": [
      "\u001b[0;31m---------------------------------------------------------------------------\u001b[0m",
      "\u001b[0;31mUnderAgeError\u001b[0m                             Traceback (most recent call last)",
      "Cell \u001b[0;32mIn [26], line 4\u001b[0m\n\u001b[1;32m      1\u001b[0m \u001b[39mclass\u001b[39;00m \u001b[39mUnderAgeError\u001b[39;00m(\u001b[39mException\u001b[39;00m):\n\u001b[1;32m      2\u001b[0m     \u001b[39mpass\u001b[39;00m\n\u001b[0;32m----> 4\u001b[0m \u001b[39mraise\u001b[39;00m UnderAgeError(\u001b[39m'\u001b[39m\u001b[39mWrong Age\u001b[39m\u001b[39m'\u001b[39m)\n",
      "\u001b[0;31mUnderAgeError\u001b[0m: Wrong Age"
     ]
    }
   ],
   "source": [
    "class UnderAgeError(Exception):\n",
    "    pass\n",
    "\n",
    "raise UnderAgeError('Wrong Age')"
   ]
  },
  {
   "cell_type": "markdown",
   "metadata": {},
   "source": [
    "- We can customize the classes by accepting arguments as per our requirements.\n",
    "- Exception classes can be defined which do anything any other class can do, but are usually kept simple\n",
    "- Many standard modules define their own exceptions"
   ]
  },
  {
   "cell_type": "code",
   "execution_count": 28,
   "metadata": {},
   "outputs": [
    {
     "ename": "NegativeAgeError",
     "evalue": "Age should not be negative. Age was -23.",
     "output_type": "error",
     "traceback": [
      "\u001b[0;31m---------------------------------------------------------------------------\u001b[0m",
      "\u001b[0;31mNegativeAgeError\u001b[0m                          Traceback (most recent call last)",
      "Cell \u001b[0;32mIn [28], line 6\u001b[0m\n\u001b[1;32m      3\u001b[0m         \u001b[39mself\u001b[39m\u001b[39m.\u001b[39mmessage \u001b[39m=\u001b[39m \u001b[39mf\u001b[39m\u001b[39m\"\u001b[39m\u001b[39mAge should not be negative. Age was \u001b[39m\u001b[39m{\u001b[39;00mage\u001b[39m}\u001b[39;00m\u001b[39m.\u001b[39m\u001b[39m\"\u001b[39m\n\u001b[1;32m      4\u001b[0m         \u001b[39msuper\u001b[39m()\u001b[39m.\u001b[39m\u001b[39m__init__\u001b[39m(\u001b[39mself\u001b[39m\u001b[39m.\u001b[39mmessage)\n\u001b[0;32m----> 6\u001b[0m \u001b[39mraise\u001b[39;00m NegativeAgeError(\u001b[39m-\u001b[39m\u001b[39m23\u001b[39m)\n",
      "\u001b[0;31mNegativeAgeError\u001b[0m: Age should not be negative. Age was -23."
     ]
    }
   ],
   "source": [
    "class NegativeAgeError(Exception):\n",
    "    # def __init__(self, age):\n",
    "    #     self.message = f\"Age should not be negative. Age was {age}.\"\n",
    "    #     super().__init__(self.message)\n",
    "\n",
    "raise NegativeAgeError(-23)"
   ]
  },
  {
   "cell_type": "markdown",
   "metadata": {},
   "source": [
    "### Exception class hierarchy\n",
    "\n",
    "- Python has arranged the built-in exception into a class hierarchy using inheritance.\n",
    "- Therefore, any class of exceptions used in an exception statement will also catch errors from its corresponding sub-class as well."
   ]
  },
  {
   "cell_type": "code",
   "execution_count": 29,
   "metadata": {},
   "outputs": [
    {
     "data": {
      "text/plain": [
       "(IndexError, LookupError, Exception, BaseException, object)"
      ]
     },
     "execution_count": 29,
     "metadata": {},
     "output_type": "execute_result"
    }
   ],
   "source": [
    "IndexError.__mro__"
   ]
  },
  {
   "cell_type": "code",
   "execution_count": 30,
   "metadata": {},
   "outputs": [
    {
     "data": {
      "text/plain": [
       "(KeyError, LookupError, Exception, BaseException, object)"
      ]
     },
     "execution_count": 30,
     "metadata": {},
     "output_type": "execute_result"
    }
   ],
   "source": [
    "KeyError.__mro__"
   ]
  },
  {
   "cell_type": "code",
   "execution_count": 31,
   "metadata": {},
   "outputs": [
    {
     "name": "stdout",
     "output_type": "stream",
     "text": [
      "1.exception TEST\n"
     ]
    }
   ],
   "source": [
    "try:\n",
    "    raise IndexError('TEST')\n",
    "except LookupError as err:\n",
    "    print('1.exception', err)"
   ]
  },
  {
   "cell_type": "code",
   "execution_count": 32,
   "metadata": {},
   "outputs": [
    {
     "name": "stdout",
     "output_type": "stream",
     "text": [
      "1.exception 'TEST'\n"
     ]
    }
   ],
   "source": [
    "try:\n",
    "    raise KeyError('TEST')\n",
    "except LookupError as err:\n",
    "    print('1.exception', err)"
   ]
  },
  {
   "cell_type": "code",
   "execution_count": 33,
   "metadata": {},
   "outputs": [
    {
     "ename": "LookupError",
     "evalue": "TEST",
     "output_type": "error",
     "traceback": [
      "\u001b[0;31m---------------------------------------------------------------------------\u001b[0m",
      "\u001b[0;31mLookupError\u001b[0m                               Traceback (most recent call last)",
      "Cell \u001b[0;32mIn [33], line 2\u001b[0m\n\u001b[1;32m      1\u001b[0m \u001b[39mtry\u001b[39;00m:\n\u001b[0;32m----> 2\u001b[0m     \u001b[39mraise\u001b[39;00m \u001b[39mLookupError\u001b[39;00m(\u001b[39m'\u001b[39m\u001b[39mTEST\u001b[39m\u001b[39m'\u001b[39m)\n\u001b[1;32m      3\u001b[0m \u001b[39mexcept\u001b[39;00m \u001b[39mKeyError\u001b[39;00m \u001b[39mas\u001b[39;00m err:\n\u001b[1;32m      4\u001b[0m     \u001b[39mprint\u001b[39m(\u001b[39m'\u001b[39m\u001b[39m1.exception\u001b[39m\u001b[39m'\u001b[39m, err)\n",
      "\u001b[0;31mLookupError\u001b[0m: TEST"
     ]
    }
   ],
   "source": [
    "try:\n",
    "    raise LookupError('TEST')\n",
    "except KeyError as err:\n",
    "    print('1.exception', err)"
   ]
  }
 ],
 "metadata": {
  "kernelspec": {
   "display_name": "Python 3 (ipykernel)",
   "language": "python",
   "name": "python3"
  },
  "language_info": {
   "codemirror_mode": {
    "name": "ipython",
    "version": 3
   },
   "file_extension": ".py",
   "mimetype": "text/x-python",
   "name": "python",
   "nbconvert_exporter": "python",
   "pygments_lexer": "ipython3",
   "version": "3.8.10"
  },
  "vscode": {
   "interpreter": {
    "hash": "97cc609b13305c559618ec78a438abc56230b9381f827f22d070313b9a1f3777"
   }
  }
 },
 "nbformat": 4,
 "nbformat_minor": 2
}
