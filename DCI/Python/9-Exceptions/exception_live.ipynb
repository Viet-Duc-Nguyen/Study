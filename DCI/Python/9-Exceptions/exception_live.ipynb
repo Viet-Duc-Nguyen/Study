{
 "cells": [
  {
   "attachments": {},
   "cell_type": "markdown",
   "metadata": {},
   "source": [
    "## Exceptions\n",
    "\n",
    "- **Exceptions** are a way of handling errors that occur during program execution in Python.\n",
    "\n",
    "- When an error occurs in Python, an exception is raised, which interrupts the normal flow of the program. \n",
    "- It transfers control to an exception handler.\n",
    "\n",
    "- If there is no exception handler present, the program terminates with an error message.\n",
    "\n",
    "- Python also provides built-in exceptions that are raised for specific errors. \n",
    "\n",
    "- (Python provides a built-in Exception class that can be used to create custom exceptions. We will talk about it after the OOP Module)\n",
    "\n",
    "\n",
    "Some of the built-in exceptions in Python include:\n",
    "\n",
    "| Exception          | Description                                                                                              |\n",
    "|--------------------|----------------------------------------------------------------------------------------------------------|\n",
    "| SyntaxError:       | raised when there is a syntax error in the code                                                          |\n",
    "| NameError:         | raised when a variable is not defined                                                                    |\n",
    "| TypeError:         | raised when an operation or function is applied to an object of inappropriate type                       |\n",
    "| ValueError:        | raised when an operation or function receives an argument of the correct type but an inappropriate value |\n",
    "| ZeroDivisionError: | raised when division by zero occurs                                                                      |"
   ]
  },
  {
   "attachments": {},
   "cell_type": "markdown",
   "metadata": {},
   "source": [
    "An exception in python is an event that occurs during the execution of\n",
    "programs that disrupt the normal flow of execution. \n",
    "\n",
    "- Exceptions help developers to debug their code (Standardized error handling)\n",
    "- Cleaner code\n",
    "- Robust application\n",
    "\n",
    "exceptions are object and contain:\n",
    "- Error type (exception name)\n",
    "- An error message describing the error event"
   ]
  },
  {
   "cell_type": "code",
   "execution_count": 1,
   "metadata": {},
   "outputs": [
    {
     "ename": "ZeroDivisionError",
     "evalue": "division by zero",
     "output_type": "error",
     "traceback": [
      "\u001b[0;31m---------------------------------------------------------------------------\u001b[0m",
      "\u001b[0;31mZeroDivisionError\u001b[0m                         Traceback (most recent call last)",
      "\u001b[1;32m/home/dci-student/PYDCI/p23_e02_live-code/PYTHON/2.04_EXCEPTION/exception_live.ipynb Cell 3\u001b[0m in \u001b[0;36m3\n\u001b[1;32m      <a href='vscode-notebook-cell:/home/dci-student/PYDCI/p23_e02_live-code/PYTHON/2.04_EXCEPTION/exception_live.ipynb#W3sZmlsZQ%3D%3D?line=0'>1</a>\u001b[0m a \u001b[39m=\u001b[39m \u001b[39m10\u001b[39m\n\u001b[1;32m      <a href='vscode-notebook-cell:/home/dci-student/PYDCI/p23_e02_live-code/PYTHON/2.04_EXCEPTION/exception_live.ipynb#W3sZmlsZQ%3D%3D?line=1'>2</a>\u001b[0m b \u001b[39m=\u001b[39m \u001b[39m0\u001b[39m\n\u001b[0;32m----> <a href='vscode-notebook-cell:/home/dci-student/PYDCI/p23_e02_live-code/PYTHON/2.04_EXCEPTION/exception_live.ipynb#W3sZmlsZQ%3D%3D?line=2'>3</a>\u001b[0m c \u001b[39m=\u001b[39m a\u001b[39m/\u001b[39;49mb\n\u001b[1;32m      <a href='vscode-notebook-cell:/home/dci-student/PYDCI/p23_e02_live-code/PYTHON/2.04_EXCEPTION/exception_live.ipynb#W3sZmlsZQ%3D%3D?line=4'>5</a>\u001b[0m \u001b[39mprint\u001b[39m(c)\n",
      "\u001b[0;31mZeroDivisionError\u001b[0m: division by zero"
     ]
    }
   ],
   "source": [
    "a = 10\n",
    "b = 0\n",
    "c = a/b\n",
    "\n",
    "print(c)"
   ]
  },
  {
   "attachments": {},
   "cell_type": "markdown",
   "metadata": {},
   "source": [
    "The error message will contain the following information:\n",
    "\n",
    "* The type of the exception: ZeroDivisionError\n",
    "* A brief description of the error: division by zero\n",
    "* The line number where the error occurred: c=a/b\n",
    "\n",
    "$ 1. The first line of the error message (**Traceback (most recent call last)**) indicates the start of the traceback \n",
    "\n",
    "2. The second line of the error message **(File \"/home/dci-student/PYDCI/p23_e02_live-code/PYTHON/2.04_EXCEPTION/except.py\")** indicates the file name and line number where the error occurred. **(line 3, in module)**\n",
    "\n",
    "\n",
    "3. The third line of the error message **(c = a/b)** shows the line of code that raised the exception.\n",
    "\n",
    "4. The fourth line of the error message **(ZeroDivisionError: division by zero)** indicates the type of the exception (\n",
    "   ZeroDivisionError) and a brief description of the error (division by zero)."
   ]
  },
  {
   "attachments": {},
   "cell_type": "markdown",
   "metadata": {},
   "source": [
    "## Handling Exceptions\n",
    "\n",
    "You can handle selected Exceptions:"
   ]
  },
  {
   "cell_type": "code",
   "execution_count": null,
   "metadata": {},
   "outputs": [],
   "source": []
  },
  {
   "cell_type": "code",
   "execution_count": 10,
   "metadata": {},
   "outputs": [
    {
     "ename": "ValueError",
     "evalue": "invalid literal for int() with base 10: 'd'",
     "output_type": "error",
     "traceback": [
      "\u001b[0;31m---------------------------------------------------------------------------\u001b[0m",
      "\u001b[0;31mValueError\u001b[0m                                Traceback (most recent call last)",
      "\u001b[1;32m/home/dci-student/PYDCI/p23_e02_live-code/PYTHON/2.04_EXCEPTION/exception_live.ipynb Cell 7\u001b[0m in \u001b[0;36m2\n\u001b[1;32m      <a href='vscode-notebook-cell:/home/dci-student/PYDCI/p23_e02_live-code/PYTHON/2.04_EXCEPTION/exception_live.ipynb#W6sZmlsZQ%3D%3D?line=0'>1</a>\u001b[0m \u001b[39mtry\u001b[39;00m:\n\u001b[0;32m----> <a href='vscode-notebook-cell:/home/dci-student/PYDCI/p23_e02_live-code/PYTHON/2.04_EXCEPTION/exception_live.ipynb#W6sZmlsZQ%3D%3D?line=1'>2</a>\u001b[0m     x \u001b[39m=\u001b[39m \u001b[39mint\u001b[39;49m(\u001b[39minput\u001b[39;49m(\u001b[39m'\u001b[39;49m\u001b[39mPlease give a number.\u001b[39;49m\u001b[39m'\u001b[39;49m))\n\u001b[1;32m      <a href='vscode-notebook-cell:/home/dci-student/PYDCI/p23_e02_live-code/PYTHON/2.04_EXCEPTION/exception_live.ipynb#W6sZmlsZQ%3D%3D?line=2'>3</a>\u001b[0m     \u001b[39mprint\u001b[39m(\u001b[39m1\u001b[39m\u001b[39m/\u001b[39mx)\n\u001b[1;32m      <a href='vscode-notebook-cell:/home/dci-student/PYDCI/p23_e02_live-code/PYTHON/2.04_EXCEPTION/exception_live.ipynb#W6sZmlsZQ%3D%3D?line=3'>4</a>\u001b[0m     \u001b[39mprint\u001b[39m(\u001b[39m'\u001b[39m\u001b[39mHello World\u001b[39m\u001b[39m'\u001b[39m)\n",
      "\u001b[0;31mValueError\u001b[0m: invalid literal for int() with base 10: 'd'"
     ]
    }
   ],
   "source": [
    "try:\n",
    "    x = int(input('Please give a number.'))\n",
    "    print(1/x)\n",
    "    print('Hello World')\n",
    "\n",
    "except ZeroDivisionError:\n",
    "    print('Divided by zero')"
   ]
  },
  {
   "attachments": {},
   "cell_type": "markdown",
   "metadata": {},
   "source": [
    "The try statement works as follows:\n",
    "\n",
    "- First, the try clause is executed.\n",
    "- If no exception occurs, the except clause is skipped and execution of the try statement is finished.\n",
    "- If an exception occurs during execution of the try clause, the rest of the try clause is skipped and the except clause is executed\n",
    "- If an exception occurs which does not match the exception named in the except clause, it is an unhandled exception and execution stops\n"
   ]
  },
  {
   "attachments": {},
   "cell_type": "markdown",
   "metadata": {},
   "source": [
    "An except clause may name multiple exceptions as a parenthesized tuple, for example:"
   ]
  },
  {
   "cell_type": "code",
   "execution_count": 12,
   "metadata": {},
   "outputs": [
    {
     "name": "stdout",
     "output_type": "stream",
     "text": [
      "Error\n"
     ]
    }
   ],
   "source": [
    "try:\n",
    "    x = int(input('Please give a number.'))\n",
    "    print(1/x)\n",
    "    print('Hello World')\n",
    "except (ValueError, ZeroDivisionError):\n",
    "    print('Error')"
   ]
  },
  {
   "cell_type": "code",
   "execution_count": 15,
   "metadata": {},
   "outputs": [
    {
     "name": "stdout",
     "output_type": "stream",
     "text": [
      "1.0\n",
      "Hello World\n"
     ]
    }
   ],
   "source": [
    "try:\n",
    "    x = int(input('Please give a number.'))\n",
    "    print(1/x)\n",
    "    print('Hello World')\n",
    "except ValueError:\n",
    "    print('give me the right value with the right type')\n",
    "except ZeroDivisionError:\n",
    "    print('do not divide by zero')"
   ]
  }
 ],
 "metadata": {
  "kernelspec": {
   "display_name": "Python 3",
   "language": "python",
   "name": "python3"
  },
  "language_info": {
   "codemirror_mode": {
    "name": "ipython",
    "version": 3
   },
   "file_extension": ".py",
   "mimetype": "text/x-python",
   "name": "python",
   "nbconvert_exporter": "python",
   "pygments_lexer": "ipython3",
   "version": "3.8.10"
  },
  "orig_nbformat": 4
 },
 "nbformat": 4,
 "nbformat_minor": 2
}
