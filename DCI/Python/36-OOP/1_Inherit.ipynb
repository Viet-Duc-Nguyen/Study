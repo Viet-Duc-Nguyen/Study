{
 "cells": [
  {
   "cell_type": "code",
   "execution_count": 4,
   "metadata": {},
   "outputs": [
    {
     "name": "stdout",
     "output_type": "stream",
     "text": [
      "init of B called\n"
     ]
    }
   ],
   "source": [
    "class A:\n",
    "    def __init__(self):\n",
    "        print(\"init of A called\")\n",
    "class B(A):\n",
    "    def __init__(self):\n",
    "        print(\"init of B called\")\n",
    "b = B()\n",
    "\n"
   ]
  },
  {
   "cell_type": "code",
   "execution_count": 5,
   "metadata": {},
   "outputs": [
    {
     "name": "stdout",
     "output_type": "stream",
     "text": [
      "init of C called\n",
      "init of A called\n"
     ]
    }
   ],
   "source": [
    "# When we override __init__ method we have to explicitly call the __init__ to super class if needed\n",
    "class C(A):\n",
    "    def __init__(self):\n",
    "        print(\"init of C called\")\n",
    "        super().__init__()\n",
    "c = C()\n",
    "\n"
   ]
  },
  {
   "cell_type": "code",
   "execution_count": 6,
   "metadata": {},
   "outputs": [
    {
     "name": "stdout",
     "output_type": "stream",
     "text": [
      "init of C called and second value is 2\n",
      "init of A called and value is 1\n"
     ]
    }
   ],
   "source": [
    "# A case with arguments\n",
    "class A:\n",
    "    def __init__(self,val1):\n",
    "        self.value1 = val1\n",
    "        print(f\"init of A called and value is {self.value1}\")\n",
    "class C(A):\n",
    "    def __init__(self, val1, val2):\n",
    "        self.value2 = val2\n",
    "        print(f\"init of C called and second value is {self.value2}\")\n",
    "        super().__init__(val1)\n",
    "c = C(1,2)\n",
    "\n"
   ]
  },
  {
   "cell_type": "code",
   "execution_count": 7,
   "metadata": {},
   "outputs": [
    {
     "name": "stdout",
     "output_type": "stream",
     "text": [
      "init of D called\n",
      "init of A called\n",
      "init of B called\n",
      "init of C called\n",
      "1\n",
      "2\n",
      "3\n",
      "4\n"
     ]
    },
    {
     "data": {
      "text/plain": [
       "[__main__.D, __main__.A, __main__.B, __main__.C, object]"
      ]
     },
     "execution_count": 7,
     "metadata": {},
     "output_type": "execute_result"
    }
   ],
   "source": [
    "# Multiple Inheritance\n",
    "class A:\n",
    "    def __init__(self, val1 = 1):\n",
    "        print(\"init of A called\")\n",
    "        self.val1 = val1\n",
    "class B:\n",
    "    def __init__(self, val2 = 2):\n",
    "        print(\"init of B called\")\n",
    "        self.val2 = val2\n",
    "class C:\n",
    "    def __init__(self, val3 = 3):\n",
    "        print(\"init of C called\")\n",
    "        self.val3 = val3\n",
    "class D(A,B,C):\n",
    "    def __init__(self, val4 = 4):\n",
    "        print(\"init of D called\")\n",
    "        self.val4 = val4\n",
    "        super().__init__()\n",
    "        super(A, self).__init__()\n",
    "        super(B, self).__init__()\n",
    "obj = D()\n",
    "print(obj.val1)\n",
    "print(obj.val2)\n",
    "print(obj.val3)\n",
    "print(obj.val4)\n",
    "# Call of Method Resolution Order\n",
    "D.mro()"
   ]
  },
  {
   "cell_type": "code",
   "execution_count": 8,
   "metadata": {},
   "outputs": [
    {
     "name": "stdout",
     "output_type": "stream",
     "text": [
      "init of D called\n",
      "init of A called\n",
      "init of B called\n",
      "init of C called\n",
      "10\n",
      "20\n",
      "30\n",
      "40\n"
     ]
    }
   ],
   "source": [
    "# Multiple Inheritance\n",
    "# Now we will pass the arguments\n",
    "class A:\n",
    "    def __init__(self, val1 = 1):\n",
    "        print(\"init of A called\")\n",
    "        self.val1 = val1\n",
    "class B:\n",
    "    def __init__(self, val2 = 2):\n",
    "        print(\"init of B called\")\n",
    "        self.val2 = val2\n",
    "class C:\n",
    "    def __init__(self, val3 = 3):\n",
    "        print(\"init of C called\")\n",
    "        self.val3 = val3\n",
    "class D(A,B,C):\n",
    "    def __init__(self, val4 = 4, val3=3, val2=2, val1=1):\n",
    "        print(\"init of D called\")\n",
    "        self.val4 = val4\n",
    "        super().__init__(val1)\n",
    "        super(A, self).__init__(val2)\n",
    "        super(B, self).__init__(val3)\n",
    "obj = D(40,30,20,10)\n",
    "print(obj.val1)\n",
    "print(obj.val2)\n",
    "print(obj.val3)\n",
    "print(obj.val4)"
   ]
  }
 ],
 "metadata": {
  "kernelspec": {
   "display_name": "Python 3",
   "language": "python",
   "name": "python3"
  },
  "language_info": {
   "codemirror_mode": {
    "name": "ipython",
    "version": 3
   },
   "file_extension": ".py",
   "mimetype": "text/x-python",
   "name": "python",
   "nbconvert_exporter": "python",
   "pygments_lexer": "ipython3",
   "version": "3.11.2"
  },
  "orig_nbformat": 4
 },
 "nbformat": 4,
 "nbformat_minor": 2
}
