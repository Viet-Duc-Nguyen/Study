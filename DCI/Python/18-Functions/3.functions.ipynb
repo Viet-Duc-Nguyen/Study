{
 "cells": [
  {
   "attachments": {},
   "cell_type": "markdown",
   "metadata": {},
   "source": [
    "## Closures\n",
    "\n",
    "A closure is a function *f*  with an extended scope that includes variables referenced in the body of *f* that are not global or local variables of *f*. \n",
    "\n",
    "It can access nonglobal variables defined outside funtions *f* body.\n",
    "\n",
    "Consider an *avg* function that computes the mean of an continuously growing series of values."
   ]
  },
  {
   "cell_type": "code",
   "execution_count": null,
   "metadata": {},
   "outputs": [],
   "source": [
    "def make_averager():\n",
    "    series = []\n",
    "    \n",
    "    def averager(new_value):\n",
    "        series.append(new_value)\n",
    "        total = sum(series)\n",
    "        return total/len(series)\n",
    "    \n",
    "    return averager"
   ]
  },
  {
   "attachments": {},
   "cell_type": "markdown",
   "metadata": {},
   "source": [
    "When invoked, *make_average* returns an *average* function object."
   ]
  },
  {
   "cell_type": "code",
   "execution_count": null,
   "metadata": {},
   "outputs": [],
   "source": [
    "avg = make_averager()\n",
    "avg(10)\n",
    "avg(11)\n",
    "avg(12)"
   ]
  },
  {
   "cell_type": "code",
   "execution_count": 11,
   "id": "7400cb76",
   "metadata": {},
   "outputs": [
    {
     "data": {
      "text/plain": [
       "12.0"
      ]
     },
     "execution_count": 11,
     "metadata": {},
     "output_type": "execute_result"
    }
   ],
   "source": [
    "avg(15)"
   ]
  },
  {
   "cell_type": "markdown",
   "id": "0269445c",
   "metadata": {},
   "source": [
    "Where does the *avg* function find the series? \n",
    "\n",
    "Note that **series** is a local variable of *make_averager* because the assignment **series** = [] happens in the body of that function. But when *avg(10)* is called, *make_averager* has already returned, and its local scope is long gone.\n",
    "\n",
    "Within *averager*, **series** is a *free variable*."
   ]
  },
  {
   "attachments": {},
   "cell_type": "markdown",
   "id": "23dff060",
   "metadata": {},
   "source": [
    "![closure](free_var.png)\n",
    "Figure 1. *The closure of the average extends the scope of that function to include the binding for the free variable series.*"
   ]
  },
  {
   "cell_type": "markdown",
   "id": "51c4721a",
   "metadata": {},
   "source": [
    "We can the return function that we called *avg* by looking at the __ code__ attribute. __ code__ represents the compiled body of the function."
   ]
  },
  {
   "cell_type": "code",
   "execution_count": 12,
   "id": "3c0c6f8d",
   "metadata": {},
   "outputs": [
    {
     "data": {
      "text/plain": [
       "('new_value', 'total')"
      ]
     },
     "execution_count": 12,
     "metadata": {},
     "output_type": "execute_result"
    }
   ],
   "source": [
    "avg.__code__.co_varnames"
   ]
  },
  {
   "cell_type": "code",
   "execution_count": 13,
   "id": "8a71c407",
   "metadata": {},
   "outputs": [
    {
     "data": {
      "text/plain": [
       "('series',)"
      ]
     },
     "execution_count": 13,
     "metadata": {},
     "output_type": "execute_result"
    }
   ],
   "source": [
    "avg.__code__.co_freevars"
   ]
  },
  {
   "cell_type": "code",
   "execution_count": 14,
   "id": "9d88c710",
   "metadata": {},
   "outputs": [
    {
     "data": {
      "text/plain": [
       "(<cell at 0x7f161dd309a0: list object at 0x7f161d505c40>,)"
      ]
     },
     "execution_count": 14,
     "metadata": {},
     "output_type": "execute_result"
    }
   ],
   "source": [
    "avg.__closure__"
   ]
  },
  {
   "cell_type": "code",
   "execution_count": 15,
   "id": "28bd19ea",
   "metadata": {},
   "outputs": [
    {
     "data": {
      "text/plain": [
       "[10, 11, 15]"
      ]
     },
     "execution_count": 15,
     "metadata": {},
     "output_type": "execute_result"
    }
   ],
   "source": [
    "avg.__closure__[0].cell_contents"
   ]
  },
  {
   "cell_type": "markdown",
   "id": "42c7b7c4",
   "metadata": {},
   "source": [
    "The body of a function is evaluated in the environment where the function is defined, not the environment\n",
    "where the function is called. [lexical scope](https://courses.cs.washington.edu/courses/cse341/17au/unit3notes.pdf)\n",
    "The scope where a object was defined we also call *lexical* scope.\n",
    "\n",
    "A closure is a function that retains/keeps the bindings of the free variables that exists when the function is defined, so that they can be used later when the function is invoked and the defining scope is no longer available.\n",
    "    "
   ]
  },
  {
   "cell_type": "markdown",
   "id": "a34c9fb7",
   "metadata": {},
   "source": [
    "Let's try to make *make_averager* more efficient:"
   ]
  },
  {
   "cell_type": "code",
   "execution_count": 16,
   "id": "6901c02d",
   "metadata": {},
   "outputs": [
    {
     "ename": "UnboundLocalError",
     "evalue": "local variable 'count' referenced before assignment",
     "output_type": "error",
     "traceback": [
      "\u001b[0;31m---------------------------------------------------------------------------\u001b[0m",
      "\u001b[0;31mUnboundLocalError\u001b[0m                         Traceback (most recent call last)",
      "Cell \u001b[0;32mIn [16], line 13\u001b[0m\n\u001b[1;32m     10\u001b[0m     \u001b[38;5;28;01mreturn\u001b[39;00m averager\n\u001b[1;32m     12\u001b[0m avg \u001b[38;5;241m=\u001b[39m make_averager()\n\u001b[0;32m---> 13\u001b[0m \u001b[43mavg\u001b[49m\u001b[43m(\u001b[49m\u001b[38;5;241;43m10\u001b[39;49m\u001b[43m)\u001b[49m\n",
      "Cell \u001b[0;32mIn [16], line 6\u001b[0m, in \u001b[0;36mmake_averager.<locals>.averager\u001b[0;34m(new_value)\u001b[0m\n\u001b[1;32m      5\u001b[0m \u001b[38;5;28;01mdef\u001b[39;00m \u001b[38;5;21maverager\u001b[39m(new_value):\n\u001b[0;32m----> 6\u001b[0m     count \u001b[38;5;241m+\u001b[39m\u001b[38;5;241m=\u001b[39m \u001b[38;5;241m1\u001b[39m\n\u001b[1;32m      7\u001b[0m     total \u001b[38;5;241m+\u001b[39m\u001b[38;5;241m=\u001b[39m new_value\n\u001b[1;32m      8\u001b[0m     \u001b[38;5;28;01mreturn\u001b[39;00m total \u001b[38;5;241m/\u001b[39m count\n",
      "\u001b[0;31mUnboundLocalError\u001b[0m: local variable 'count' referenced before assignment"
     ]
    }
   ],
   "source": [
    "def make_averager():\n",
    "    count = 0\n",
    "    total = 0\n",
    "    \n",
    "    def averager(new_value):\n",
    "        count += 1\n",
    "        total += new_value\n",
    "        return total / count\n",
    "    \n",
    "    return averager\n",
    "\n",
    "avg = make_averager()\n",
    "avg(10)"
   ]
  },
  {
   "cell_type": "markdown",
   "id": "d5d427a7",
   "metadata": {},
   "source": [
    "*count* and *total* are immutable and all you can do is read, never update. If you try to rebind them, as in *count = count + 1*, then you are implicitly creating a local variable *count*. Therefore, it's not longer a free variable, but a local variable and will be not saved in the closure.\n",
    "\n",
    "To declare variabl as free variable us the **nonlocal** keyword:"
   ]
  },
  {
   "cell_type": "code",
   "execution_count": 17,
   "id": "92c40a65",
   "metadata": {},
   "outputs": [
    {
     "data": {
      "text/plain": [
       "10.0"
      ]
     },
     "execution_count": 17,
     "metadata": {},
     "output_type": "execute_result"
    }
   ],
   "source": [
    "def make_averager():\n",
    "    count = 0\n",
    "    total = 0\n",
    "    \n",
    "    def averager(new_value):\n",
    "        nonlocal count, total\n",
    "        count += 1\n",
    "        total += new_value\n",
    "        return total / count\n",
    "    \n",
    "    return averager\n",
    "\n",
    "avg = make_averager()\n",
    "avg(10)"
   ]
  },
  {
   "cell_type": "markdown",
   "id": "07175622",
   "metadata": {},
   "source": [
    "## Implementing a Simple Decorator\n",
    "\n"
   ]
  },
  {
   "cell_type": "code",
   "execution_count": 148,
   "id": "a00056eb",
   "metadata": {},
   "outputs": [],
   "source": [
    "import time\n",
    "\n",
    "def clock(fun):\n",
    "    def clocked(n):  #### inner function\n",
    "        t0 = time.time()\n",
    "        result = fun(n)  ### fun is the free variable of the closure\n",
    "        elapsed = time.time() - t0\n",
    "        #print(f\"{elapsed:0.8f}s func({n}) --> {result}\")\n",
    "        print(\"{elapsed: 0.8f}s func({n}) --> {result}\".format(elapsed=elapsed, n=n, result=result))\n",
    "        return result\n",
    "    return clocked ## return the inner function to replace the decorated function"
   ]
  },
  {
   "cell_type": "code",
   "execution_count": 149,
   "id": "dc12e421",
   "metadata": {},
   "outputs": [],
   "source": [
    "\n",
    "def snooze(s):\n",
    "    time.sleep(s)\n",
    "    \n"
   ]
  },
  {
   "cell_type": "code",
   "execution_count": 150,
   "id": "9d2db24f",
   "metadata": {
    "scrolled": true
   },
   "outputs": [],
   "source": [
    "snooze = clock(snooze)\n"
   ]
  },
  {
   "cell_type": "code",
   "execution_count": 151,
   "id": "298955c6",
   "metadata": {},
   "outputs": [
    {
     "name": "stdout",
     "output_type": "stream",
     "text": [
      " 0.50059819s func(0.5) --> None\n"
     ]
    }
   ],
   "source": [
    "snooze(.5)"
   ]
  },
  {
   "cell_type": "markdown",
   "id": "fd307a3d",
   "metadata": {},
   "source": [
    "This is same as writing:"
   ]
  },
  {
   "cell_type": "code",
   "execution_count": 33,
   "id": "fe109581",
   "metadata": {},
   "outputs": [],
   "source": [
    "@clock\n",
    "def snooze(s):\n",
    "    time.sleep(s)"
   ]
  },
  {
   "cell_type": "code",
   "execution_count": 34,
   "id": "56340882",
   "metadata": {},
   "outputs": [
    {
     "name": "stdout",
     "output_type": "stream",
     "text": [
      "0.50062108s func(0.5) --> None\n"
     ]
    }
   ],
   "source": [
    "snooze(.5)"
   ]
  },
  {
   "cell_type": "code",
   "execution_count": 28,
   "id": "5a95b6c3",
   "metadata": {},
   "outputs": [],
   "source": [
    "\n",
    "def fac(n):\n",
    "    result = 1\n",
    "    while n >= 1:\n",
    "        result = result * n\n",
    "        n -= 1\n",
    "    return result"
   ]
  },
  {
   "cell_type": "code",
   "execution_count": 29,
   "id": "a860a74a",
   "metadata": {},
   "outputs": [],
   "source": [
    "fac = clock(fac)\n"
   ]
  },
  {
   "cell_type": "code",
   "execution_count": 32,
   "id": "cc014f6f",
   "metadata": {},
   "outputs": [
    {
     "name": "stdout",
     "output_type": "stream",
     "text": [
      "0.00000648s func(6) --> 720\n"
     ]
    },
    {
     "data": {
      "text/plain": [
       "720"
      ]
     },
     "execution_count": 32,
     "metadata": {},
     "output_type": "execute_result"
    }
   ],
   "source": [
    "fac(6)"
   ]
  },
  {
   "cell_type": "markdown",
   "id": "e32a124d",
   "metadata": {},
   "source": [
    "This is same as writing:"
   ]
  },
  {
   "cell_type": "code",
   "execution_count": 35,
   "id": "cfc6a449",
   "metadata": {},
   "outputs": [],
   "source": [
    "@clock \n",
    "def fac(n):\n",
    "    result = 1\n",
    "    while n >= 1:\n",
    "        result = result * n\n",
    "        n -= 1\n",
    "    return result"
   ]
  },
  {
   "cell_type": "code",
   "execution_count": 36,
   "id": "008f7ebf",
   "metadata": {},
   "outputs": [
    {
     "name": "stdout",
     "output_type": "stream",
     "text": [
      "0.00000215s func(6) --> 720\n"
     ]
    },
    {
     "data": {
      "text/plain": [
       "720"
      ]
     },
     "execution_count": 36,
     "metadata": {},
     "output_type": "execute_result"
    }
   ],
   "source": [
    "fac(6)"
   ]
  },
  {
   "cell_type": "markdown",
   "id": "4cfcf98f",
   "metadata": {},
   "source": [
    "- the decorator replaces the decorated function with a new function (inner)\n",
    "- it accepts the same arguments and \n",
    "- (usually) returns whatever the decorated function was suppose to return\n",
    "- does extra processing\n",
    "- attaches additional responsibilties dynamically"
   ]
  },
  {
   "cell_type": "markdown",
   "id": "15eb5ceb",
   "metadata": {},
   "source": [
    "## Stacked Decorators\n",
    "\n",
    "To make sense of stacked decorators, recall that @ is syntax sugar for applying the decorator function to the function below it. If there's more than one decorator, they behave like nested function calls. This:"
   ]
  },
  {
   "cell_type": "code",
   "execution_count": null,
   "id": "1799543a",
   "metadata": {},
   "outputs": [],
   "source": [
    "@alpha\n",
    "@beta\n",
    "def my_fn():"
   ]
  },
  {
   "cell_type": "markdown",
   "id": "27a41495",
   "metadata": {},
   "source": [
    "is the same as this:\n",
    "\n",
    "```my_fn = alpha(beta(my_fn))```\n",
    "\n",
    "In other words, the *beta* decorator is applied first, and the function it returns is then passed to *alpha*."
   ]
  },
  {
   "cell_type": "code",
   "execution_count": 6,
   "id": "d06dc7cb",
   "metadata": {},
   "outputs": [],
   "source": [
    "def alpha(func):\n",
    "    def inner():\n",
    "        return 'alpha ' + func()\n",
    "    return inner\n",
    "\n",
    "def beta(func):\n",
    "    def inner():\n",
    "        return 'beta ' + func()\n",
    "    return inner"
   ]
  },
  {
   "cell_type": "code",
   "execution_count": 7,
   "id": "dd5e3fbc",
   "metadata": {},
   "outputs": [],
   "source": [
    "@alpha\n",
    "@beta\n",
    "def test():\n",
    "    return 'Hello World'"
   ]
  },
  {
   "cell_type": "code",
   "execution_count": 8,
   "id": "195257e7",
   "metadata": {},
   "outputs": [
    {
     "data": {
      "text/plain": [
       "'alpha beta Hello World'"
      ]
     },
     "execution_count": 8,
     "metadata": {},
     "output_type": "execute_result"
    }
   ],
   "source": [
    "test()"
   ]
  },
  {
   "cell_type": "markdown",
   "id": "f7e09e66",
   "metadata": {},
   "source": [
    "## Unpacking and decorators\n",
    "\n",
    "To make your decorator function more general, use unpacking:"
   ]
  },
  {
   "cell_type": "code",
   "execution_count": 14,
   "id": "87371f49",
   "metadata": {},
   "outputs": [],
   "source": [
    "def decorator(func):\n",
    "    def inner(*args, **kwargs):\n",
    "        return 'deco ' + func(*args, **kwargs)\n",
    "    return inner"
   ]
  },
  {
   "cell_type": "code",
   "execution_count": 17,
   "id": "0297d419",
   "metadata": {},
   "outputs": [],
   "source": [
    "@decorator\n",
    "def test(w1, w2='world'):\n",
    "    return f'{w1} {w2}'"
   ]
  },
  {
   "cell_type": "code",
   "execution_count": 18,
   "id": "ada5e377",
   "metadata": {},
   "outputs": [
    {
     "data": {
      "text/plain": [
       "'deco Hello world'"
      ]
     },
     "execution_count": 18,
     "metadata": {},
     "output_type": "execute_result"
    }
   ],
   "source": [
    "test('Hello')"
   ]
  },
  {
   "cell_type": "markdown",
   "id": "4670dccc",
   "metadata": {},
   "source": [
    "## Parameterized Decorator\n",
    "\n",
    "To pass other parameters than the function to the decorator we need to make a **decorator factory** that takes those arguments and returns a decorator.\n",
    "- A decorator factory is just a callable that produces the actual decorator.\n",
    "In [152]:\n"
   ]
  },
  {
   "cell_type": "code",
   "execution_count": 152,
   "id": "2584242e",
   "metadata": {},
   "outputs": [],
   "source": [
    "def wrap_with(tag='***'):\n",
    "    \"\"\"Wrap the text in an HTML tag.\"\"\"\n",
    "    def decorator(func):\n",
    "        def inner(first, last):\n",
    "            return f\"{tag} {func(first, last)} {tag}\"\n",
    "        return inner\n",
    "    return decorator"
   ]
  },
  {
   "cell_type": "code",
   "execution_count": 153,
   "id": "8d7959fd",
   "metadata": {},
   "outputs": [],
   "source": [
    "@wrap_with('###')\n",
    "def get_full_name(first, last):\n",
    "    \"\"\"Return the full name of a person.\"\"\"\n",
    "    return f\"{first} {last}\""
   ]
  },
  {
   "cell_type": "code",
   "execution_count": 154,
   "id": "8a36a699",
   "metadata": {},
   "outputs": [
    {
     "data": {
      "text/plain": [
       "'### piet pro ###'"
      ]
     },
     "execution_count": 154,
     "metadata": {},
     "output_type": "execute_result"
    }
   ],
   "source": [
    "get_full_name('piet', 'pro')"
   ]
  },
  {
   "cell_type": "markdown",
   "id": "88fdd598",
   "metadata": {},
   "source": [
    "Same as:"
   ]
  },
  {
   "cell_type": "code",
   "execution_count": 155,
   "id": "2640235b",
   "metadata": {},
   "outputs": [],
   "source": [
    "def get_full_name(first, last):\n",
    "    \"\"\"Return the full name of a person.\"\"\"\n",
    "    return f\"{first} {last}\"\n",
    "\n",
    "get_full_name = wrap_with('###')(get_full_name)"
   ]
  },
  {
   "cell_type": "code",
   "execution_count": 156,
   "id": "6095cd21",
   "metadata": {},
   "outputs": [
    {
     "data": {
      "text/plain": [
       "'### piet pro ###'"
      ]
     },
     "execution_count": 156,
     "metadata": {},
     "output_type": "execute_result"
    }
   ],
   "source": [
    "get_full_name('piet', 'pro')"
   ]
  },
  {
   "cell_type": "code",
   "execution_count": 161,
   "id": "2d13a982",
   "metadata": {},
   "outputs": [],
   "source": [
    "@wrap_with()\n",
    "def get_full_name(first, last):\n",
    "    \"\"\"Return the full name of a person.\"\"\"\n",
    "    return f\"{first} {last}\""
   ]
  },
  {
   "cell_type": "code",
   "execution_count": 162,
   "id": "1700da91",
   "metadata": {},
   "outputs": [
    {
     "data": {
      "text/plain": [
       "'*** piet pro ***'"
      ]
     },
     "execution_count": 162,
     "metadata": {},
     "output_type": "execute_result"
    }
   ],
   "source": [
    "get_full_name('piet', 'pro')"
   ]
  },
  {
   "cell_type": "markdown",
   "id": "0624bf4a",
   "metadata": {},
   "source": [
    "Notice that you always need to call the decorator factory. That factory returns the decorator.\n",
    "Same as:"
   ]
  },
  {
   "cell_type": "code",
   "execution_count": 163,
   "id": "6f0ec041",
   "metadata": {},
   "outputs": [],
   "source": [
    "decorater = wrap_with()\n",
    "@decorater\n",
    "def get_full_name(first, last):\n",
    "    \"\"\"Return the full name of a person.\"\"\"\n",
    "    return f\"{first} {last}\""
   ]
  },
  {
   "cell_type": "code",
   "execution_count": 164,
   "id": "18336ca6",
   "metadata": {},
   "outputs": [
    {
     "data": {
      "text/plain": [
       "'*** piet pro ***'"
      ]
     },
     "execution_count": 164,
     "metadata": {},
     "output_type": "execute_result"
    }
   ],
   "source": [
    "get_full_name('piet', 'pro')"
   ]
  },
  {
   "cell_type": "markdown",
   "id": "bf865ac1",
   "metadata": {},
   "source": [
    "You also can run multiple decorators:"
   ]
  },
  {
   "cell_type": "code",
   "execution_count": 158,
   "id": "0717417c",
   "metadata": {},
   "outputs": [],
   "source": [
    "@wrap_with('###')\n",
    "@wrap_with('---')\n",
    "def get_full_name(first, last):\n",
    "    \"\"\"Return the full name of a person.\"\"\"\n",
    "    return f\"{first} {last}\""
   ]
  },
  {
   "cell_type": "code",
   "execution_count": 159,
   "id": "15e5dbf8",
   "metadata": {},
   "outputs": [
    {
     "data": {
      "text/plain": [
       "'### --- piet teacher --- ###'"
      ]
     },
     "execution_count": 159,
     "metadata": {},
     "output_type": "execute_result"
    }
   ],
   "source": [
    "get_full_name('piet', 'teacher')"
   ]
  },
  {
   "cell_type": "markdown",
   "id": "4e385432",
   "metadata": {},
   "source": [
    "Same as:"
   ]
  },
  {
   "cell_type": "code",
   "execution_count": 169,
   "id": "9adf1e56",
   "metadata": {},
   "outputs": [],
   "source": [
    "def get_full_name(first, last):\n",
    "    \"\"\"Return the full name of a person.\"\"\"\n",
    "    return f\"{first} {last}\""
   ]
  },
  {
   "cell_type": "code",
   "execution_count": 170,
   "id": "ffe4e3bd",
   "metadata": {},
   "outputs": [],
   "source": [
    "get_full_name = wrap_with('###')(wrap_with('---')(get_full_name))"
   ]
  },
  {
   "cell_type": "code",
   "execution_count": 171,
   "id": "4ec9329c",
   "metadata": {},
   "outputs": [
    {
     "data": {
      "text/plain": [
       "'### --- piet teacher --- ###'"
      ]
     },
     "execution_count": 171,
     "metadata": {},
     "output_type": "execute_result"
    }
   ],
   "source": [
    "get_full_name('piet', 'teacher')"
   ]
  },
  {
   "cell_type": "markdown",
   "id": "3d352436",
   "metadata": {},
   "source": [
    "Let's return to our clock decorator:"
   ]
  },
  {
   "cell_type": "code",
   "execution_count": 173,
   "id": "8a278764",
   "metadata": {},
   "outputs": [],
   "source": [
    "DEFAULT_FMT = \"{elapsed: 0.8f}s func(n) --> {result}\"\n",
    "\n",
    "def clock(fmt=DEFAULT_FMT):\n",
    "    def decorator(fun):\n",
    "        def clocked(n):  #### inner function\n",
    "            t0 = time.time()\n",
    "            result = fun(n)  ### fun is the free variable of the closure\n",
    "            elapsed = time.time() - t0\n",
    "            print(\"{elapsed: 0.8f}s func({n}) --> {result}\".format(elapsed=elapsed, n=n, result=result))\n",
    "            print(fmt.format(elapsed=elapsed, n=n, result=result))\n",
    "            #print(fmt.format(**locals()))\n",
    "            #print({**locals()})\n",
    "            return result\n",
    "        return clocked\n",
    "    return decorator ## return the inner function to replace the decorated function"
   ]
  },
  {
   "cell_type": "code",
   "execution_count": 174,
   "id": "8705184b",
   "metadata": {},
   "outputs": [
    {
     "data": {
      "text/plain": [
       "'1 and 2'"
      ]
     },
     "execution_count": 174,
     "metadata": {},
     "output_type": "execute_result"
    }
   ],
   "source": [
    "x = 1\n",
    "y = 2\n",
    "\n",
    "\"{x} and {y}\".format(x=x, y=y)"
   ]
  },
  {
   "cell_type": "code",
   "execution_count": 175,
   "id": "110f457e",
   "metadata": {},
   "outputs": [],
   "source": [
    "@clock()\n",
    "def hello(n):\n",
    "    return 'hello world'"
   ]
  },
  {
   "cell_type": "code",
   "execution_count": 176,
   "id": "d75539a1",
   "metadata": {},
   "outputs": [
    {
     "name": "stdout",
     "output_type": "stream",
     "text": [
      " 0.00000238s func(1) --> hello world\n",
      " 0.00000238s func(n) --> hello world\n",
      " 0.00000238s func(n) --> hello world\n"
     ]
    },
    {
     "data": {
      "text/plain": [
       "'hello world'"
      ]
     },
     "execution_count": 176,
     "metadata": {},
     "output_type": "execute_result"
    }
   ],
   "source": [
    "hello(1)\n"
   ]
  },
  {
   "cell_type": "code",
   "execution_count": 177,
   "id": "1240d8a8",
   "metadata": {},
   "outputs": [],
   "source": [
    "@clock(fmt=\"{elapsed}s : {result}\")\n",
    "def hello(n):\n",
    "    return 'hello world'"
   ]
  },
  {
   "cell_type": "code",
   "execution_count": 147,
   "id": "8c0ea099",
   "metadata": {},
   "outputs": [
    {
     "name": "stdout",
     "output_type": "stream",
     "text": [
      " 0.00000334s func(1) --> hello world\n",
      "3.337860107421875e-06s : hello world\n",
      "3.337860107421875e-06s : hello world\n"
     ]
    },
    {
     "data": {
      "text/plain": [
       "'hello world'"
      ]
     },
     "execution_count": 147,
     "metadata": {},
     "output_type": "execute_result"
    }
   ],
   "source": [
    "hello(1)"
   ]
  }
 ],
 "metadata": {
  "kernelspec": {
   "display_name": "Python 3",
   "language": "python",
   "name": "python3"
  },
  "language_info": {
   "name": "python",
   "version": "3.8.10"
  },
  "orig_nbformat": 4
 },
 "nbformat": 4,
 "nbformat_minor": 2
}
