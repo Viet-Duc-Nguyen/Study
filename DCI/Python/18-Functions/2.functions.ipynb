{
 "cells": [
  {
   "attachments": {},
   "cell_type": "markdown",
   "metadata": {},
   "source": [
    "# Functions\n",
    "\n",
    "## Scope\n",
    "\n",
    "- Scope refers to the region of a program where a particular variable is accessible. \n",
    "- Variables can be defined in two different scopes: \n",
    "1. global\n",
    "2. local"
   ]
  },
  {
   "attachments": {},
   "cell_type": "markdown",
   "metadata": {},
   "source": [
    "**Global Scope:**\n",
    "\n",
    "- A variable defined outside any function is said to be in the global scope. \n",
    "- Global variables can be accessed from anywhere within the program.\n"
   ]
  },
  {
   "cell_type": "code",
   "execution_count": 1,
   "metadata": {},
   "outputs": [
    {
     "name": "stdout",
     "output_type": "stream",
     "text": [
      "10\n"
     ]
    }
   ],
   "source": [
    "x = 10\n",
    "\n",
    "\n",
    "def print_global():\n",
    "    print(x)\n",
    "\n",
    "\n",
    "print_global()  # Output: 10"
   ]
  },
  {
   "attachments": {},
   "cell_type": "markdown",
   "metadata": {},
   "source": [
    "**Local Scope:**\n",
    "\n",
    "- A variable defined inside a function or a block is said to be in the local scope. \n",
    "- Local variables can only be accessed from within the function in which they are defined.\n",
    "\n",
    "````python\n",
    "def print_local():\n",
    "    y = 5\n",
    "    print(y)\n",
    "\n",
    "\n",
    "print_local()  # Output: 5\n",
    "````\n",
    "\n"
   ]
  },
  {
   "cell_type": "code",
   "execution_count": 3,
   "metadata": {},
   "outputs": [
    {
     "name": "stdout",
     "output_type": "stream",
     "text": [
      "5\n"
     ]
    }
   ],
   "source": [
    "def print_local():\n",
    "    y = 5\n",
    "    print(y)\n",
    "\n",
    "\n",
    "print_local()  # Output: 5"
   ]
  },
  {
   "attachments": {},
   "cell_type": "markdown",
   "metadata": {},
   "source": [
    "In this example, y is a local variable, which means it can only be accessed from within the print_local function. \n",
    "Trying to access y outside the function will result in a NameError."
   ]
  },
  {
   "cell_type": "code",
   "execution_count": 4,
   "metadata": {},
   "outputs": [
    {
     "ename": "NameError",
     "evalue": "name 'y' is not defined",
     "output_type": "error",
     "traceback": [
      "\u001b[0;31m---------------------------------------------------------------------------\u001b[0m",
      "\u001b[0;31mNameError\u001b[0m                                 Traceback (most recent call last)",
      "\u001b[1;32m/home/dci-student/PYDCI/p23_e02_live-code/PYTHON/2.08_FUNCTIONS/2.functions.ipynb Cell 7\u001b[0m in \u001b[0;36m1\n\u001b[0;32m----> <a href='vscode-notebook-cell:/home/dci-student/PYDCI/p23_e02_live-code/PYTHON/2.08_FUNCTIONS/2.functions.ipynb#X10sZmlsZQ%3D%3D?line=0'>1</a>\u001b[0m y\n",
      "\u001b[0;31mNameError\u001b[0m: name 'y' is not defined"
     ]
    }
   ],
   "source": [
    "y"
   ]
  },
  {
   "attachments": {},
   "cell_type": "markdown",
   "metadata": {},
   "source": [
    "**Global vs. Local Scope:**\n",
    "\n",
    "- When a variable is defined both globally and locally, the local variable takes precedence over the global variable.\n",
    "\n",
    "\n",
    "````python\n",
    "z = 10\n",
    "\n",
    "\n",
    "def print_global_vs_local():\n",
    "    z = 5\n",
    "    print(z)\n",
    "\n",
    "\n",
    "print_global_vs_local()  # Output: 5\n",
    "print(z)  # Output: 10\n",
    "````\n",
    "\n",
    "In this example, we have both a global variable z and a local variable z defined within the print_global_vs_local\n",
    "function. When we call the function, the local variable z takes precedence over the global variable z and is printed.\n",
    "Outside the function, the global variable z retains its original value of 10."
   ]
  },
  {
   "cell_type": "code",
   "execution_count": 5,
   "metadata": {},
   "outputs": [
    {
     "name": "stdout",
     "output_type": "stream",
     "text": [
      "5\n",
      "10\n"
     ]
    }
   ],
   "source": [
    "z = 10\n",
    "\n",
    "\n",
    "def print_global_vs_local():\n",
    "    z = 5\n",
    "    print(z)\n",
    "\n",
    "\n",
    "print_global_vs_local()  # Output: 5\n",
    "print(z)  # Output: 10"
   ]
  },
  {
   "attachments": {},
   "cell_type": "markdown",
   "metadata": {},
   "source": [
    "**Scopes and Variable Lifespan:**\n",
    "\n",
    "- The lifespan of a variable is determined by its scope. \n",
    "- Global variables exist for the entire duration of the program\n",
    "- local variables only exist for the duration of their enclosing function \n",
    "\n",
    "````python\n",
    "def create_list():\n",
    "    my_list = []\n",
    "    for i in range(5):\n",
    "        my_list.append(i)\n",
    "    return my_list\n",
    "\n",
    "\n",
    "print(create_list())  # Output: [0, 1, 2, 3, 4]\n",
    "print(my_list)  # NameError: name 'my_list' is not defined\n",
    "````\n",
    "\n",
    "In this example, we define a function create_list that creates a list and returns it. \n",
    "The my_list variable is a local variable that is only accessible within the function. \n",
    "Once the function has completed execution and returned the list, the my_list variable is destroyed."
   ]
  },
  {
   "attachments": {},
   "cell_type": "markdown",
   "metadata": {},
   "source": [
    "- also see locals() vs. globals()"
   ]
  },
  {
   "cell_type": "code",
   "execution_count": 7,
   "metadata": {},
   "outputs": [
    {
     "name": "stdout",
     "output_type": "stream",
     "text": [
      "[0, 1, 2, 3, 4]\n"
     ]
    }
   ],
   "source": [
    "def create_list():\n",
    "    my_list = []\n",
    "    for i in range(5):\n",
    "        my_list.append(i)\n",
    "    return my_list\n",
    "\n",
    "\n",
    "print(create_list())  # Output: [0, 1, 2, 3, 4]\n",
    "#print(my_list)  # NameError: name 'my_list' is not defined"
   ]
  },
  {
   "attachments": {},
   "cell_type": "markdown",
   "metadata": {},
   "source": [
    "**Passing Different Scope Variables to a Function:**\n",
    "\n",
    "- You can pass variables from different scopes to a function as arguments. \n",
    "- If a variable name exists both locally and globally, the local variable will take precedence \n",
    "\n",
    "````python\n",
    "a = 10\n",
    "\n",
    "\n",
    "def print_sum(b):\n",
    "    c = a + b\n",
    "    print(c)\n",
    "\n",
    "\n",
    "print_sum(5)  # Output: 15\n",
    "````\n",
    "\n",
    "- we have a global variable a and a local variable b defined within the print_sum function. \n",
    "- The function takes the argument b and adds it to the global variable a to get the value of c. \n",
    "- The value of c is printed to the console."
   ]
  },
  {
   "attachments": {},
   "cell_type": "markdown",
   "metadata": {},
   "source": [
    "- a local\n",
    "- b is not defined anywhere"
   ]
  },
  {
   "cell_type": "code",
   "execution_count": 24,
   "metadata": {},
   "outputs": [
    {
     "name": "stdout",
     "output_type": "stream",
     "text": [
      "3\n"
     ]
    },
    {
     "ename": "NameError",
     "evalue": "name 'b' is not defined",
     "output_type": "error",
     "traceback": [
      "\u001b[0;31m---------------------------------------------------------------------------\u001b[0m",
      "\u001b[0;31mNameError\u001b[0m                                 Traceback (most recent call last)",
      "\u001b[1;32m/home/dci-student/PYDCI/p23_e02_live-code/PYTHON/2.08_FUNCTIONS/2.functions.ipynb Cell 14\u001b[0m in \u001b[0;36m5\n\u001b[1;32m      <a href='vscode-notebook-cell:/home/dci-student/PYDCI/p23_e02_live-code/PYTHON/2.08_FUNCTIONS/2.functions.ipynb#X34sZmlsZQ%3D%3D?line=1'>2</a>\u001b[0m     \u001b[39mprint\u001b[39m(a)\n\u001b[1;32m      <a href='vscode-notebook-cell:/home/dci-student/PYDCI/p23_e02_live-code/PYTHON/2.08_FUNCTIONS/2.functions.ipynb#X34sZmlsZQ%3D%3D?line=2'>3</a>\u001b[0m     \u001b[39mprint\u001b[39m(b)\n\u001b[0;32m----> <a href='vscode-notebook-cell:/home/dci-student/PYDCI/p23_e02_live-code/PYTHON/2.08_FUNCTIONS/2.functions.ipynb#X34sZmlsZQ%3D%3D?line=4'>5</a>\u001b[0m f1(\u001b[39m3\u001b[39;49m)\n",
      "\u001b[1;32m/home/dci-student/PYDCI/p23_e02_live-code/PYTHON/2.08_FUNCTIONS/2.functions.ipynb Cell 14\u001b[0m in \u001b[0;36m3\n\u001b[1;32m      <a href='vscode-notebook-cell:/home/dci-student/PYDCI/p23_e02_live-code/PYTHON/2.08_FUNCTIONS/2.functions.ipynb#X34sZmlsZQ%3D%3D?line=0'>1</a>\u001b[0m \u001b[39mdef\u001b[39;00m \u001b[39mf1\u001b[39m(a):\n\u001b[1;32m      <a href='vscode-notebook-cell:/home/dci-student/PYDCI/p23_e02_live-code/PYTHON/2.08_FUNCTIONS/2.functions.ipynb#X34sZmlsZQ%3D%3D?line=1'>2</a>\u001b[0m     \u001b[39mprint\u001b[39m(a)\n\u001b[0;32m----> <a href='vscode-notebook-cell:/home/dci-student/PYDCI/p23_e02_live-code/PYTHON/2.08_FUNCTIONS/2.functions.ipynb#X34sZmlsZQ%3D%3D?line=2'>3</a>\u001b[0m     \u001b[39mprint\u001b[39m(b)\n",
      "\u001b[0;31mNameError\u001b[0m: name 'b' is not defined"
     ]
    }
   ],
   "source": [
    "\n",
    "\n",
    "def f1(a):\n",
    "    print(a)\n",
    "    print(b)\n",
    "    \n",
    "f1(3)"
   ]
  },
  {
   "cell_type": "code",
   "execution_count": 25,
   "metadata": {},
   "outputs": [
    {
     "name": "stdout",
     "output_type": "stream",
     "text": [
      "3\n",
      "6\n"
     ]
    }
   ],
   "source": [
    "b = 6\n",
    "f1(3)"
   ]
  },
  {
   "attachments": {},
   "cell_type": "markdown",
   "metadata": {},
   "source": [
    "- it fails at the second print, before the assignment is made"
   ]
  },
  {
   "cell_type": "code",
   "execution_count": 26,
   "metadata": {},
   "outputs": [
    {
     "name": "stdout",
     "output_type": "stream",
     "text": [
      "3\n"
     ]
    },
    {
     "ename": "UnboundLocalError",
     "evalue": "local variable 'b' referenced before assignment",
     "output_type": "error",
     "traceback": [
      "\u001b[0;31m---------------------------------------------------------------------------\u001b[0m",
      "\u001b[0;31mUnboundLocalError\u001b[0m                         Traceback (most recent call last)",
      "\u001b[1;32m/home/dci-student/PYDCI/p23_e02_live-code/PYTHON/2.08_FUNCTIONS/2.functions.ipynb Cell 17\u001b[0m in \u001b[0;36m6\n\u001b[1;32m      <a href='vscode-notebook-cell:/home/dci-student/PYDCI/p23_e02_live-code/PYTHON/2.08_FUNCTIONS/2.functions.ipynb#X40sZmlsZQ%3D%3D?line=3'>4</a>\u001b[0m     \u001b[39mprint\u001b[39m(b)\n\u001b[1;32m      <a href='vscode-notebook-cell:/home/dci-student/PYDCI/p23_e02_live-code/PYTHON/2.08_FUNCTIONS/2.functions.ipynb#X40sZmlsZQ%3D%3D?line=4'>5</a>\u001b[0m     b \u001b[39m=\u001b[39m \u001b[39m9\u001b[39m\n\u001b[0;32m----> <a href='vscode-notebook-cell:/home/dci-student/PYDCI/p23_e02_live-code/PYTHON/2.08_FUNCTIONS/2.functions.ipynb#X40sZmlsZQ%3D%3D?line=5'>6</a>\u001b[0m f2(\u001b[39m3\u001b[39;49m)\n",
      "\u001b[1;32m/home/dci-student/PYDCI/p23_e02_live-code/PYTHON/2.08_FUNCTIONS/2.functions.ipynb Cell 17\u001b[0m in \u001b[0;36m4\n\u001b[1;32m      <a href='vscode-notebook-cell:/home/dci-student/PYDCI/p23_e02_live-code/PYTHON/2.08_FUNCTIONS/2.functions.ipynb#X40sZmlsZQ%3D%3D?line=1'>2</a>\u001b[0m \u001b[39mdef\u001b[39;00m \u001b[39mf2\u001b[39m(a):\n\u001b[1;32m      <a href='vscode-notebook-cell:/home/dci-student/PYDCI/p23_e02_live-code/PYTHON/2.08_FUNCTIONS/2.functions.ipynb#X40sZmlsZQ%3D%3D?line=2'>3</a>\u001b[0m     \u001b[39mprint\u001b[39m(a)\n\u001b[0;32m----> <a href='vscode-notebook-cell:/home/dci-student/PYDCI/p23_e02_live-code/PYTHON/2.08_FUNCTIONS/2.functions.ipynb#X40sZmlsZQ%3D%3D?line=3'>4</a>\u001b[0m     \u001b[39mprint\u001b[39m(b)\n\u001b[1;32m      <a href='vscode-notebook-cell:/home/dci-student/PYDCI/p23_e02_live-code/PYTHON/2.08_FUNCTIONS/2.functions.ipynb#X40sZmlsZQ%3D%3D?line=4'>5</a>\u001b[0m     b \u001b[39m=\u001b[39m \u001b[39m9\u001b[39m\n",
      "\u001b[0;31mUnboundLocalError\u001b[0m: local variable 'b' referenced before assignment"
     ]
    }
   ],
   "source": [
    "b = 6\n",
    "def f2(a):\n",
    "    print(a)\n",
    "    print(b)\n",
    "    b = 9\n",
    "f2(3)"
   ]
  },
  {
   "attachments": {},
   "cell_type": "markdown",
   "metadata": {},
   "source": [
    "- print(b) was never run\n",
    "- when python compiles the body of the function , it decides that b is a local variable"
   ]
  },
  {
   "attachments": {},
   "cell_type": "markdown",
   "metadata": {},
   "source": [
    "- if we want the interpreter to treat b as global variable ad still assign a new value within the function\n",
    "us the  *global* delaration"
   ]
  },
  {
   "cell_type": "code",
   "execution_count": 27,
   "metadata": {},
   "outputs": [
    {
     "name": "stdout",
     "output_type": "stream",
     "text": [
      "3\n",
      "6\n"
     ]
    }
   ],
   "source": [
    "b = 6\n",
    "def f2(a):\n",
    "    global b\n",
    "    print(a)\n",
    "    print(b)\n",
    "    b = 9\n",
    "f2(3)"
   ]
  },
  {
   "attachments": {},
   "cell_type": "markdown",
   "metadata": {},
   "source": [
    "## Names, Objects, Values\n",
    "\n",
    "- In Python, everything is an object, whether it is a number, string, list, or even a function. \n",
    "- An object is a piece of memory that contains both:\n",
    "1. data (the value of the object) and \n",
    "2. metadata (information about the object, such as its type and methods).\n",
    "\n",
    "- Every object in Python has a unique identifier, which is a number that is assigned to the object \n",
    "- This identifier can be obtained using the built-in **id()** function. \n",
    "- The identifier is guaranteed to be unique for the lifetime of the object\n",
    "\n",
    "- A variable in Python is simply a name that refers to an object. \n",
    "- When a variable is assigned a value, Python creates an object for that value, and then binds the variable to that object. \n",
    "- This means that the variable is simply a reference or a pointer to the object, rather than the object itself.\n",
    "\n",
    "For example, consider the following code:\n",
    "\n",
    "````python\n",
    "x = 5\n",
    "````\n",
    "\n",
    "- Here, we create an integer object with the value 5, and then bind the variable x to that object. \n",
    "- We can verify this by calling the id() function on x:\n",
    "\n",
    "````python\n",
    "print(id(x))\n",
    "````\n",
    "\n",
    "This will output a unique identifier for the integer object that x refers to.\n",
    "\n",
    "If we then reassign the variable x to a new value, Python will create a new object for that value, and bind the variable to the new object:\n",
    "\n",
    "````python\n",
    "x = \"hello\"\n",
    "print(id(x))\n",
    "````\n",
    "\n",
    "- This will output a new unique identifier for the string object that x now refers to.\n",
    "\n",
    "### Function Parameters as Reference\n",
    "\n",
    "- The only mode of parameter passing in Python is *call by sharing*    (passing arguments to function parameters)\n",
    "- Call by sharing means that each formal parameter of the function gets a copy of each reference in the arguments\n",
    "- the result is that a function may change any mutable object passed as parameter, but it cannot change the identity of those objects\n",
    "\n",
    "\n",
    "````python\n",
    "def f(a, b):\n",
    "    a += b\n",
    "    return a\n",
    "\n",
    "x = 1\n",
    "y = 2\n",
    "f(x, y)\n",
    "x, y # unchanged\n",
    "\n",
    "a = [1, 2]\n",
    "b = [3, 4]\n",
    "f(a, b)\n",
    "\n",
    "a, b # changed\n",
    "\n",
    "t = (10, 20)\n",
    "u = (30, 40)\n",
    "f(t, u)\n",
    "t, u # unchanged\n",
    "````\n",
    "\n",
    "In this example, we create a list object [1, 2, 3] and assign it to the variable a. We then assign the variable b to\n",
    "reference the same object as a. When we modify the object by appending the value 4 to it using the append() method, both\n",
    "variables a and b are affected, since they both reference the same object."
   ]
  },
  {
   "cell_type": "code",
   "execution_count": 13,
   "metadata": {},
   "outputs": [
    {
     "data": {
      "text/plain": [
       "(1, 2)"
      ]
     },
     "execution_count": 13,
     "metadata": {},
     "output_type": "execute_result"
    }
   ],
   "source": [
    "def f(a, b):\n",
    "    a += b\n",
    "    return a\n",
    "\n",
    "x = 1\n",
    "y = 2\n",
    "f(x, y)\n",
    "(x, y) # unchanged"
   ]
  },
  {
   "cell_type": "code",
   "execution_count": 14,
   "metadata": {},
   "outputs": [
    {
     "data": {
      "text/plain": [
       "([1, 2, 3, 4], [3, 4])"
      ]
     },
     "execution_count": 14,
     "metadata": {},
     "output_type": "execute_result"
    }
   ],
   "source": [
    "a = [1, 2]\n",
    "b = [3, 4]\n",
    "f(a, b)\n",
    "\n",
    "a, b # changed"
   ]
  },
  {
   "cell_type": "code",
   "execution_count": 16,
   "metadata": {},
   "outputs": [
    {
     "data": {
      "text/plain": [
       "((10, 20), (30, 40))"
      ]
     },
     "execution_count": 16,
     "metadata": {},
     "output_type": "execute_result"
    }
   ],
   "source": [
    "t = (10, 20)\n",
    "u = (30, 40)\n",
    "f(t, u)\n",
    "t, u"
   ]
  },
  {
   "attachments": {},
   "cell_type": "markdown",
   "metadata": {},
   "source": [
    "Exercise:\n",
    "\n",
    "Research on Mutable Types as Parameters defaults: Bad Idea"
   ]
  },
  {
   "attachments": {},
   "cell_type": "markdown",
   "metadata": {},
   "source": [
    "A popular way of explaining how parameter passing works in Python is the phrase: \n",
    "\n",
    "“Parameters are passed by value, but the values are references.”\n",
    "\n",
    "- This is not wrong, but causes confusion because the most common parameter passing modes in older languages are:\n",
    "1. call by value (the function gets a copy of the argument)\n",
    "2. call by reference (the function gets a pointer to the argument)\n",
    "\n",
    "In Python, the function gets a copy of the arguments, but the arguments are always references.\n",
    "So the value of the referenced objects may be changed, if they are mutable, but their identity cannot.\n",
    "\n",
    "- pass by sharing or pass by object"
   ]
  },
  {
   "attachments": {},
   "cell_type": "markdown",
   "metadata": {},
   "source": [
    "**Passing Variables by Assignment:**\n",
    "\n",
    "- When a function takes a mutable object as an argument, but the argument is reassigned within the function, a new local variable is created with the same name as the argument\n",
    "-  the original variable is not modified\n",
    "\n",
    "````python\n",
    "def assign_list(my_list):\n",
    "    my_list = [4, 5, 6]\n",
    "    print(\"Inside function:\", my_list)\n",
    "\n",
    "\n",
    "my_list = [1, 2, 3]\n",
    "assign_list(my_list)\n",
    "print(\"Outside function:\", my_list)  # Output: Outside function: [1, 2, 3]\n",
    "````\n",
    "- the assign_list function takes a list _my_list_ as an argument. \n",
    "When we call the function with the variable _my_list_, a reference to the original list _my_list_ is passed to the function. \n",
    "within the function, a new local variable _my_list_ is created and assigned the value _[4, 5, 6]_. \n",
    "This new variable has no relation to the original _my_list_ variable\n",
    "- the original variable is not modified by the function call.\n"
   ]
  },
  {
   "cell_type": "code",
   "execution_count": 17,
   "metadata": {},
   "outputs": [
    {
     "name": "stdout",
     "output_type": "stream",
     "text": [
      "Inside function: [4, 5, 6]\n",
      "Outside function: [1, 2, 3]\n"
     ]
    }
   ],
   "source": [
    "def assign_list(my_list):\n",
    "    my_list = [4, 5, 6]\n",
    "    print(\"Inside function:\", my_list)\n",
    "\n",
    "\n",
    "my_list = [1, 2, 3]\n",
    "assign_list(my_list)\n",
    "print(\"Outside function:\", my_list)  # Output: Outside function: [1, 2, 3]"
   ]
  },
  {
   "attachments": {},
   "cell_type": "markdown",
   "metadata": {},
   "source": [
    "## Calling Functions\n",
    "\n",
    "- Functions are first-class objects, which means they can be treated as variables \n",
    "- This allows us to do things like \n",
    "1. referring to a function by a variable name, \n",
    "2. pass functions as input arguments to other functions,\n",
    "3. return functions as output from a function.\n",
    "\n",
    "**Referring to a function as a variable:**\n",
    "\n",
    "````python\n",
    "def greet():\n",
    "    print(\"Hello!\")\n",
    "\n",
    "\n",
    "hello = greet  # assigning the function greet to a new variable hello\n",
    "hello()  # calling the function using the new variable\n",
    "\n",
    "# Output:\n",
    "# Hello!\n",
    "````\n",
    "\n",
    "In this example, we define a function named greet() that simply prints \"Hello!\". \n",
    "We then create a new variable named hello and assign it the value of the function greet (note that there are no parentheses after greet, since we are not calling the function at this point). \n",
    "Finally, we call the function using the hello variable, which has been assigned the greet function as its value.\n",
    "\n",
    "**Passing a function as an input argument to another function:**\n",
    "\n",
    "````python\n",
    "def add_numbers(a, b):\n",
    "    return a + b\n",
    "\n",
    "\n",
    "def math_operation(func, x, y):\n",
    "    return func(x, y)\n",
    "\n",
    "\n",
    "result = math_operation(add_numbers, 2, 3)\n",
    "print(result)\n",
    "\n",
    "# Output:\n",
    "# 5\n",
    "````\n",
    "\n",
    "In this example, we define a function named add_numbers() that takes two arguments and returns their sum. We then define\n",
    "another function named math_operation() that takes a function func and two other arguments x and y. The math_operation()\n",
    "function then calls the func function, passing in x and y as arguments, and returns the result.\n",
    "\n",
    "- We can then call math_operation() along with the values 2 and 3 for x and y. \n",
    "- The result of the function call is stored in the result variable and printed to the console.\n",
    "\n",
    "**Returning a function as output from another function:**\n",
    "\n",
    "````python\n",
    "def add_numbers(a, b):\n",
    "    return a + b\n",
    "\n",
    "\n",
    "def math_operation(operation):\n",
    "    if operation == 'add':\n",
    "        return add_numbers\n",
    "    else:\n",
    "        return None\n",
    "\n",
    "\n",
    "result = math_operation('add')(2, 3)\n",
    "print(result)\n",
    "\n",
    "# Output:\n",
    "# 5\n",
    "````\n",
    "\n",
    "In this example, we define the same add_numbers() function as before. We also define a new function named\n",
    "math_operation() that takes a single argument operation. If operation is equal to the string 'add', the function returns\n",
    "the add_numbers() function itself. Otherwise, it returns None.\n",
    "\n",
    "We can then call math_operation() and pass in the string 'add'. This will return the add_numbers() function itself. We\n",
    "can then call this returned function, passing in 2 and 3 as arguments, by placing parentheses after the function call.\n",
    "The result is stored in the result variable and printed to the console.\n",
    "\n",
    "\n"
   ]
  }
 ],
 "metadata": {
  "kernelspec": {
   "display_name": "Python 3",
   "language": "python",
   "name": "python3"
  },
  "language_info": {
   "codemirror_mode": {
    "name": "ipython",
    "version": 3
   },
   "file_extension": ".py",
   "mimetype": "text/x-python",
   "name": "python",
   "nbconvert_exporter": "python",
   "pygments_lexer": "ipython3",
   "version": "3.10.11"
  },
  "orig_nbformat": 4
 },
 "nbformat": 4,
 "nbformat_minor": 2
}
