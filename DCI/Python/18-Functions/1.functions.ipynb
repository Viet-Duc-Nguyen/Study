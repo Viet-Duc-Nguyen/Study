{
 "cells": [
  {
   "attachments": {},
   "cell_type": "markdown",
   "metadata": {},
   "source": [
    "# Functions\n",
    "\n",
    "- Functions are a way to organize and reuse code in Python.\n",
    "- performs a specific task, and can be called multiple times\n",
    "- simplify code\n",
    "- make it more readable\n",
    "- make it easier to debug\n",
    "- "
   ]
  },
  {
   "attachments": {},
   "cell_type": "markdown",
   "metadata": {},
   "source": [
    "There are two types of functions in Python:\n",
    "1. **built-in functions**\n",
    "2. **custom functions**"
   ]
  },
  {
   "attachments": {},
   "cell_type": "markdown",
   "metadata": {},
   "source": [
    "**Built-in functions** are already available in Python\n",
    "e.g.\n",
    "- print()\n",
    "- len()\n",
    "- input()"
   ]
  },
  {
   "attachments": {},
   "cell_type": "markdown",
   "metadata": {},
   "source": [
    "**Custom functions** you create yourself\n",
    "- can be tailored to perform specific tasks or operations"
   ]
  },
  {
   "attachments": {},
   "cell_type": "markdown",
   "metadata": {},
   "source": [
    "To **create a function**, you need to follow a few basic steps:\n",
    "\n",
    "* Use the **def** keyword to define the function,\n",
    "* followed by the function name\n",
    "* and any input parameters the function may need.\n",
    "* Write the code that the function will execute when called.\n",
    "* Use the return statement to return any output from the function."
   ]
  },
  {
   "cell_type": "code",
   "execution_count": 1,
   "metadata": {},
   "outputs": [],
   "source": [
    "def add_numbers(x, y):\n",
    "    result = x + y\n",
    "    return result"
   ]
  },
  {
   "attachments": {},
   "cell_type": "markdown",
   "metadata": {},
   "source": [
    "To **call the function**, \n",
    "1. you use the function name \n",
    "2. apply the call operator\n",
    "3. and provide the input parameters if applicable:"
   ]
  },
  {
   "cell_type": "code",
   "execution_count": 2,
   "metadata": {},
   "outputs": [
    {
     "name": "stdout",
     "output_type": "stream",
     "text": [
      "15\n"
     ]
    }
   ],
   "source": [
    "result = add_numbers(5, 10)\n",
    "print(result)"
   ]
  },
  {
   "attachments": {},
   "cell_type": "markdown",
   "metadata": {},
   "source": [
    "## How does interpreter work ?\n",
    "Suppose we have:"
   ]
  },
  {
   "cell_type": "code",
   "execution_count": null,
   "metadata": {},
   "outputs": [],
   "source": [
    "def multiply_numbers(a, b):\n",
    "    result = a * b\n",
    "    return result\n",
    "\n",
    "\n",
    "product = multiply_numbers(3, 4)"
   ]
  },
  {
   "attachments": {},
   "cell_type": "markdown",
   "metadata": {},
   "source": [
    "1. **Function definition:**\n",
    "- the **def** keyword is used to define a function\n",
    "- the function has two parameters: _a_ and _b_\n",
    "- parameters are defined by the names that appear in a function definition,\n",
    "- arguments are the values actually passed to a function when calling it\n",
    "\n",
    "2. **Function call:**\n",
    "- call the function by passing two values for _a_ and _b_ as arguments\n",
    "\n",
    "3. **Input argument assignment:** \n",
    "- the interpreter assigns the values _3_ and _4_ to the parameters _a_ and _b_\n",
    "\n",
    "4. **Local variable assignment:** \n",
    "- a new variable called _result_ is created and assigned the value of _a * b_\n",
    "- This variable is local to the function\n",
    "- This variable does not exist outside the function\n",
    "\n",
    "5. **Return statement:** \n",
    "- the _return_ keyword is used to send the value of _result_ back to the calling code\n",
    "- here _12_ is returned to the calling code\n"
   ]
  },
  {
   "attachments": {},
   "cell_type": "markdown",
   "metadata": {},
   "source": [
    "## Input Arguments\n",
    "\n",
    "**Positional arguments:**\n",
    "\n",
    "- These are arguments that are assigned based on their position in the function call\n",
    "- the first argument is assigned to the first input parameter\n",
    "- the second argument is assigned to the second parameter, and so on"
   ]
  },
  {
   "attachments": {},
   "cell_type": "markdown",
   "metadata": {},
   "source": [
    "**Keyword arguments:**\n",
    "\n",
    "- these are arguments that are explicitly assigned to parameters \n",
    "- Keyword arguments allow you to specify inputs in any order \n",
    "- can be useful when you have functions with many input parameters "
   ]
  },
  {
   "cell_type": "code",
   "execution_count": 3,
   "metadata": {},
   "outputs": [
    {
     "name": "stdout",
     "output_type": "stream",
     "text": [
      "Doe, John\n"
     ]
    }
   ],
   "source": [
    "def format_name(first_name, last_name):\n",
    "    return f\"{last_name}, {first_name}\"\n",
    "\n",
    "\n",
    "name = format_name(last_name=\"Doe\", first_name=\"John\")\n",
    "print(name)  # output: Doe, John"
   ]
  },
  {
   "attachments": {},
   "cell_type": "markdown",
   "metadata": {},
   "source": [
    "- the keyword arguments last_name=\"Doe\" and first_name=\"John\" are passed to the format_name function \n",
    "- they are assigned to the parameters first_name and last_name, "
   ]
  },
  {
   "attachments": {},
   "cell_type": "markdown",
   "metadata": {},
   "source": [
    "**Argument default value:**\n",
    "\n",
    "- you can set default values for the parameters using the = sign\n",
    "- if no argument is passed in the function call, it will take on the default value"
   ]
  },
  {
   "cell_type": "code",
   "execution_count": 4,
   "metadata": {},
   "outputs": [
    {
     "name": "stdout",
     "output_type": "stream",
     "text": [
      "9\n",
      "81\n"
     ]
    }
   ],
   "source": [
    "def exponentiate(base, exponent=2):\n",
    "    return base ** exponent\n",
    "\n",
    "\n",
    "result1 = exponentiate(3)\n",
    "result2 = exponentiate(3, 4)\n",
    "\n",
    "print(result1)  # output: 9\n",
    "print(result2)  # output: 81"
   ]
  },
  {
   "attachments": {},
   "cell_type": "markdown",
   "metadata": {},
   "source": [
    "**Combining with non-default:** \n",
    "- you can combine \n",
    "1. positional arguments, \n",
    "2. keyword arguments, and \n",
    "3. arguments with default values \n",
    "in a single function call"
   ]
  },
  {
   "cell_type": "code",
   "execution_count": 5,
   "metadata": {},
   "outputs": [
    {
     "name": "stdout",
     "output_type": "stream",
     "text": [
      "22.0\n",
      "25.200000000000003\n",
      "69.0\n"
     ]
    }
   ],
   "source": [
    "def calculate_price(unit_price, quantity, tax_rate=0.1):\n",
    "    total_price = unit_price * quantity * (1 + tax_rate)\n",
    "    return total_price\n",
    "\n",
    "\n",
    "price1 = calculate_price(10, 2)\n",
    "price2 = calculate_price(quantity=3, unit_price=8, tax_rate=0.05)\n",
    "price3 = calculate_price(12, quantity=5, tax_rate=0.15)\n",
    "\n",
    "print(price1)  # output: 22.0\n",
    "print(price2)  # output: 25.2\n",
    "print(price3)  # output: 69.0"
   ]
  },
  {
   "attachments": {},
   "cell_type": "markdown",
   "metadata": {},
   "source": [
    "### Positional-Only Parameters\n",
    "- since Python 3.8, user-defined signatures may specify positional-only parameters\n",
    "- to define a function requiring positional parameters, use / in the parameter list:"
   ]
  },
  {
   "cell_type": "code",
   "execution_count": 12,
   "metadata": {},
   "outputs": [
    {
     "ename": "TypeError",
     "evalue": "add() got some positional-only arguments passed as keyword arguments: 'b'",
     "output_type": "error",
     "traceback": [
      "\u001b[0;31m---------------------------------------------------------------------------\u001b[0m",
      "\u001b[0;31mTypeError\u001b[0m                                 Traceback (most recent call last)",
      "\u001b[1;32m/home/dci-student/PYDCI/p23_e02_live-code/PYTHON/2.08_FUNCTIONS/functions.ipynb Cell 21\u001b[0m in \u001b[0;36m6\n\u001b[1;32m      <a href='vscode-notebook-cell:/home/dci-student/PYDCI/p23_e02_live-code/PYTHON/2.08_FUNCTIONS/functions.ipynb#X30sZmlsZQ%3D%3D?line=3'>4</a>\u001b[0m add(\u001b[39m1\u001b[39m,\u001b[39m2\u001b[39m,\u001b[39m3\u001b[39m)\n\u001b[1;32m      <a href='vscode-notebook-cell:/home/dci-student/PYDCI/p23_e02_live-code/PYTHON/2.08_FUNCTIONS/functions.ipynb#X30sZmlsZQ%3D%3D?line=4'>5</a>\u001b[0m add(\u001b[39m1\u001b[39m,\u001b[39m2\u001b[39m,c\u001b[39m=\u001b[39m\u001b[39m0\u001b[39m)\n\u001b[0;32m----> <a href='vscode-notebook-cell:/home/dci-student/PYDCI/p23_e02_live-code/PYTHON/2.08_FUNCTIONS/functions.ipynb#X30sZmlsZQ%3D%3D?line=5'>6</a>\u001b[0m add(\u001b[39m2\u001b[39;49m, b\u001b[39m=\u001b[39;49m\u001b[39m1\u001b[39;49m)\n",
      "\u001b[0;31mTypeError\u001b[0m: add() got some positional-only arguments passed as keyword arguments: 'b'"
     ]
    }
   ],
   "source": [
    "\n",
    "def add(a, b,/,  c=6):\n",
    "    return a + b + c\n",
    "\n",
    "add(1,2,3)\n",
    "add(1,2,c=0)\n",
    "add(2, b=1)"
   ]
  },
  {
   "attachments": {},
   "cell_type": "markdown",
   "metadata": {},
   "source": [
    "### Packing and Unpacking Arguments\n",
    "\n",
    "- Packing and unpacking are two techniques that can be used to pass multiple arguments to a function"
   ]
  },
  {
   "attachments": {},
   "cell_type": "markdown",
   "metadata": {},
   "source": [
    "**Packing arguments:**\n",
    "\n",
    "- Packing allows you to pass an arbitrary number of arguments to a function \n",
    "- This is useful when you don't know ahead of time how many arguments you need to pass \n",
    "You can use \n",
    "1. the * operator to pack positional arguments \n",
    "2. the ** operator to pack keyword arguments\n"
   ]
  },
  {
   "cell_type": "code",
   "execution_count": 13,
   "metadata": {},
   "outputs": [
    {
     "name": "stdout",
     "output_type": "stream",
     "text": [
      "6\n",
      "22\n"
     ]
    }
   ],
   "source": [
    "def add_numbers(*args):\n",
    "    total = 0\n",
    "    for num in args:\n",
    "        total += num\n",
    "    return total\n",
    "\n",
    "\n",
    "result1 = add_numbers(1, 2, 3)\n",
    "result2 = add_numbers(4, 5, 6, 7)\n",
    "\n",
    "print(result1)  # output: 6\n",
    "print(result2)  # output: 22"
   ]
  },
  {
   "cell_type": "code",
   "execution_count": 14,
   "metadata": {},
   "outputs": [
    {
     "name": "stdout",
     "output_type": "stream",
     "text": [
      "{'bla': 1, 'blu': 2}\n"
     ]
    }
   ],
   "source": [
    "def get_keywords(**kwargs):\n",
    "    print(kwargs)\n",
    "\n",
    "get_keywords(bla=1, blu=2)"
   ]
  },
  {
   "attachments": {},
   "cell_type": "markdown",
   "metadata": {},
   "source": [
    "**Unpacking arguments:**\n",
    "\n",
    "- Unpacking allows you to pass a *sequence of arguments* to a function as separate arguments \n",
    "- This is useful when you have a list, tuple, or dictionary of arguments that you want to pass to a function. \n",
    "You can use \n",
    "1. the * operator to unpack a sequence of positional arguments \n",
    "2. the ** operator to unpack a dictionary of keyword arguments"
   ]
  },
  {
   "cell_type": "code",
   "execution_count": 16,
   "metadata": {},
   "outputs": [
    {
     "name": "stdout",
     "output_type": "stream",
     "text": [
      "22.0\n",
      "25.200000000000003\n"
     ]
    }
   ],
   "source": [
    "def calculate_total_price(unit_price, quantity, tax_rate):\n",
    "    total_price = unit_price * quantity * (1 + tax_rate)\n",
    "    return total_price\n",
    "\n",
    "\n",
    "args = [10, 2, 0.1]\n",
    "result1 = calculate_total_price(*args)\n",
    "\n",
    "kwargs = {\"unit_price\": 8, \"quantity\": 3, \"tax_rate\": 0.05}\n",
    "result2 = calculate_total_price(**kwargs)\n",
    "result2 = calculate_total_price(unit_price= 8, quantity= 3, tax_rate= 0.05)\n",
    "\n",
    "\n",
    "print(result1)  # output: 22.0\n",
    "print(result2)  # output: 25.2"
   ]
  },
  {
   "attachments": {},
   "cell_type": "markdown",
   "metadata": {},
   "source": [
    "- we have a function called calculate_total_price that takes three arguments\n",
    "- we pass a list of arguments to the function using the * operator to unpack the list\n",
    "- we pass a dict of keyword arguments to the function using the ** operator to unpack the dictionary\n",
    "\n",
    "- Note that when unpacking arguments, **the number of arguments must match the number of input parameters in the\n",
    "function**.\n",
    "- otherwise you'll get a TypeError at runtime"
   ]
  }
 ],
 "metadata": {
  "kernelspec": {
   "display_name": "Python 3",
   "language": "python",
   "name": "python3"
  },
  "language_info": {
   "codemirror_mode": {
    "name": "ipython",
    "version": 3
   },
   "file_extension": ".py",
   "mimetype": "text/x-python",
   "name": "python",
   "nbconvert_exporter": "python",
   "pygments_lexer": "ipython3",
   "version": "3.11.2"
  },
  "orig_nbformat": 4
 },
 "nbformat": 4,
 "nbformat_minor": 2
}
