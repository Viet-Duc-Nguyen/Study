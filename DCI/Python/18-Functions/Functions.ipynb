{
 "cells": [
  {
   "cell_type": "code",
   "execution_count": 1,
   "metadata": {},
   "outputs": [
    {
     "ename": "TypeError",
     "evalue": "__main__.calculate_total_price() argument after ** must be a mapping, not set",
     "output_type": "error",
     "traceback": [
      "\u001b[1;31m---------------------------------------------------------------------------\u001b[0m",
      "\u001b[1;31mTypeError\u001b[0m                                 Traceback (most recent call last)",
      "Cell \u001b[1;32mIn[1], line 4\u001b[0m\n\u001b[0;32m      1\u001b[0m \u001b[39mdef\u001b[39;00m \u001b[39mcalculate_total_price\u001b[39m(unit_price, quantity, tax_rate):\n\u001b[0;32m      2\u001b[0m     \u001b[39mreturn\u001b[39;00m unit_price \u001b[39m*\u001b[39m quantity \u001b[39m*\u001b[39m (\u001b[39m1\u001b[39m \u001b[39m+\u001b[39m tax_rate)\n\u001b[1;32m----> 4\u001b[0m \u001b[39mprint\u001b[39m(calculate_total_price(\u001b[39m*\u001b[39m\u001b[39m*\u001b[39m{\u001b[39m'\u001b[39m\u001b[39m'\u001b[39m}))\n",
      "\u001b[1;31mTypeError\u001b[0m: __main__.calculate_total_price() argument after ** must be a mapping, not set"
     ]
    }
   ],
   "source": [
    "def calculate_total_price(unit_price, quantity, tax_rate):\n",
    "    return unit_price * quantity * (1 + tax_rate)\n",
    "\n",
    "print(calculate_total_price(**{''}))\n"
   ]
  },
  {
   "cell_type": "code",
   "execution_count": 5,
   "metadata": {},
   "outputs": [
    {
     "name": "stdout",
     "output_type": "stream",
     "text": [
      "24.48\n",
      "24.48\n",
      "24.48\n"
     ]
    }
   ],
   "source": [
    "def calculate_total_price(unit_price, quantity, tax_rate=0.02):\n",
    "    return unit_price * quantity * (1 + tax_rate)\n",
    "\n",
    "print(calculate_total_price(**{'unit_price':8, 'quantity':3}))\n",
    "\n",
    "my_kwargs = {'unit_price':8, 'quantity':3}\n",
    "print(calculate_total_price(**my_kwargs))\n",
    "\n",
    "print(calculate_total_price(unit_price=8, quantity=3))"
   ]
  }
 ],
 "metadata": {
  "kernelspec": {
   "display_name": "Python 3",
   "language": "python",
   "name": "python3"
  },
  "language_info": {
   "codemirror_mode": {
    "name": "ipython",
    "version": 3
   },
   "file_extension": ".py",
   "mimetype": "text/x-python",
   "name": "python",
   "nbconvert_exporter": "python",
   "pygments_lexer": "ipython3",
   "version": "3.11.2"
  },
  "orig_nbformat": 4
 },
 "nbformat": 4,
 "nbformat_minor": 2
}
