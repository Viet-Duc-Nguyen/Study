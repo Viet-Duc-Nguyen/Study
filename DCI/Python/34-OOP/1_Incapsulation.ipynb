{
 "cells": [
  {
   "attachments": {},
   "cell_type": "markdown",
   "metadata": {},
   "source": [
    "#### 22.06.2023\n",
    "1. Encapsulation\n",
    "2. Getter and Setter\n",
    "3. @property\n",
    "4. Overloading: Dunder Method and Python Object"
   ]
  },
  {
   "attachments": {},
   "cell_type": "markdown",
   "metadata": {},
   "source": [
    "## **Encapsulation**\n",
    "- allows you to hide the implementation details of a class\n",
    "- only public interfaces are exposed to the outside world\n",
    "- it provides a way for clients to interact with an object without caring about it's internals\n",
    "- This helps to reduce complexity\n",
    "- it improves maintainability by isolating changes to a single component\n",
    "\n",
    "you can achieve encapsulation by using acces modifiers like private and protected\n",
    "\n",
    "Encapsulation is used in many real-world applications:\n",
    "- Django\n",
    "- Flask\n",
    "- Database access libraries like SQLAlchemy\n",
    "- Scientific computing libraries like NumPy and Pandas"
   ]
  },
  {
   "attachments": {},
   "cell_type": "markdown",
   "metadata": {},
   "source": [
    "## **Getter/Setter**\n",
    "- Getteras and setters are methods used to retrieve and modify instance variables\n",
    "\n",
    "A **getter** is a method that retrieves the value of an attribute\n"
   ]
  },
  {
   "cell_type": "code",
   "execution_count": 2,
   "metadata": {},
   "outputs": [],
   "source": [
    "class Person:\n",
    "    def __init__(self):\n",
    "        self._name = None\n",
    "        self._age = None\n",
    "\n",
    "    def get_name(self): #Getter\n",
    "        return self._name\n",
    "\n",
    "    def get_age(self): #Getter\n",
    "        return self._age\n",
    "\n",
    "    def set_name(self, user_name): #Setter\n",
    "        self._name = user_name\n",
    "\n",
    "    def set_age(self, age):\n",
    "        if age >= 0: #Constraint\n",
    "            self._age = age\n",
    "        else:\n",
    "            raise ValueError('Age cannot be negative')\n",
    "\n",
    "bob = Person()\n",
    "bob.set_name('John')"
   ]
  },
  {
   "cell_type": "code",
   "execution_count": 7,
   "metadata": {},
   "outputs": [
    {
     "name": "stdout",
     "output_type": "stream",
     "text": [
      "{'_width': 1, '_height': 2}\n",
      "{'_width': 100, '_height': 2}\n",
      "{'_width': 100, '_height': 200}\n"
     ]
    }
   ],
   "source": [
    "class Rectangle:\n",
    "    def __init__(self, width, height) -> None:\n",
    "        self._width = width\n",
    "        self._height = height\n",
    "\n",
    "    @property\n",
    "    def width(self):\n",
    "        return self.width\n",
    "    \n",
    "    @width.setter\n",
    "    def width(self, value):\n",
    "        self._width = value\n",
    "\n",
    "    @property\n",
    "    def height(self):\n",
    "        return self.height\n",
    "    \n",
    "    @height.setter\n",
    "    def height(self, value):\n",
    "        self._height = value\n",
    "    \n",
    "    \n",
    "\n",
    "rect = Rectangle(1,2)\n",
    "\n",
    "print(rect.__dict__)\n",
    "\n",
    "rect.width = 100\n",
    "print(rect.__dict__)\n",
    "\n",
    "rect.height = 200\n",
    "print(rect.__dict__)\n"
   ]
  },
  {
   "cell_type": "code",
   "execution_count": 13,
   "metadata": {},
   "outputs": [
    {
     "name": "stdout",
     "output_type": "stream",
     "text": [
      "<__main__.Ten object at 0x000002CCBCB992D0>\n",
      "<__main__.A object at 0x000002CCBCB98AD0>\n",
      "<class '__main__.A'>\n",
      "10\n"
     ]
    }
   ],
   "source": [
    "### Simple Descriptor\n",
    "\n",
    "class Ten:\n",
    "    def __get__(self, obj, cls=None):\n",
    "        print(self) # instance of Ten\n",
    "        print(obj) # instance of A\n",
    "        print(cls)\n",
    "        return 10\n",
    "\n",
    "class A:\n",
    "    y = Ten()\n",
    "\n",
    "a = A()\n",
    "a.y \n",
    "\n",
    "\n",
    "##### own property decorator\n",
    "\n",
    "class my_property:\n",
    "    def __init__(self, getter):\n",
    "        self.getter = getter\n",
    "\n",
    "    def __get__(self, obj, cls):\n",
    "        return self.getter(obj)\n",
    "\n",
    "class Test:\n",
    "    def __init__(self, width, height) -> None:\n",
    "        self._width = width\n",
    "        self._height = height\n",
    "\n",
    "    # def width(self):\n",
    "    #     return self._width\n",
    "    \n",
    "    # width = my_property(width)\n",
    "\n",
    "    @my_property\n",
    "    def width(self):\n",
    "        return self._width\n",
    "\n",
    "test = Test(10,2)\n",
    "print(test.width)"
   ]
  },
  {
   "cell_type": "code",
   "execution_count": null,
   "metadata": {},
   "outputs": [],
   "source": []
  }
 ],
 "metadata": {
  "kernelspec": {
   "display_name": "Python 3",
   "language": "python",
   "name": "python3"
  },
  "language_info": {
   "codemirror_mode": {
    "name": "ipython",
    "version": 3
   },
   "file_extension": ".py",
   "mimetype": "text/x-python",
   "name": "python",
   "nbconvert_exporter": "python",
   "pygments_lexer": "ipython3",
   "version": "3.11.2"
  },
  "orig_nbformat": 4
 },
 "nbformat": 4,
 "nbformat_minor": 2
}
