{
 "cells": [
  {
   "cell_type": "code",
   "execution_count": null,
   "metadata": {
    "collapsed": true
   },
   "outputs": [],
   "source": [
    "### Encapsulate the instances with a factory\n",
    "\n",
    "def factory(language='English'):\n",
    "    localizer = {\n",
    "        'French' = FrenchLocalizer,\n",
    "    'English' = EnglishLocalizer,\n",
    "    'Spanish' = SpanishLocalizer,\n",
    "    }\n",
    "\n",
    "    language_instance = localizer[language]()\n",
    "    return language_instance"
   ]
  }
 ],
 "metadata": {
  "kernelspec": {
   "display_name": "Python 3",
   "language": "python",
   "name": "python3"
  },
  "language_info": {
   "codemirror_mode": {
    "name": "ipython",
    "version": 2
   },
   "file_extension": ".py",
   "mimetype": "text/x-python",
   "name": "python",
   "nbconvert_exporter": "python",
   "pygments_lexer": "ipython2",
   "version": "2.7.6"
  }
 },
 "nbformat": 4,
 "nbformat_minor": 0
}
