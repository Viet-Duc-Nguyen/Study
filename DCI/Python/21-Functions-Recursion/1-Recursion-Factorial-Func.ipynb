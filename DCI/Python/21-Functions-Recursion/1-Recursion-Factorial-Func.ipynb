{
 "cells": [
  {
   "cell_type": "code",
   "execution_count": 1,
   "metadata": {
    "collapsed": true,
    "ExecuteTime": {
     "end_time": "2023-05-31T08:15:26.563426100Z",
     "start_time": "2023-05-31T08:15:26.541074200Z"
    }
   },
   "outputs": [
    {
     "name": "stdout",
     "output_type": "stream",
     "text": [
      "120\n"
     ]
    }
   ],
   "source": [
    "def factorial(n):\n",
    "    if n == 0:               # exit condition\n",
    "        return 1\n",
    "    else:                    # recursive case\n",
    "        return n * factorial(n - 1)\n",
    "\n",
    "\n",
    "print(factorial(5))\n",
    "# 5! = 5 * 4 * 3 * 2 * 1 = 120\n"
   ]
  },
  {
   "cell_type": "markdown",
   "source": [
    "- In this func, we first check if n is equal to 0.\n",
    "- If it is, we return 1 as the base case.\n",
    "- Otherwise, we return n times the factorial of n-1, which is the **recursive case**.\n",
    "- Each time the func calls itself with a smaller input (n-1)\n",
    "- Until it eventually reaches the base case\n",
    "\n",
    "**NOTE:** The factorial func can also be implemented using an iterative algorithm instead of recursion"
   ],
   "metadata": {
    "collapsed": false
   }
  },
  {
   "cell_type": "markdown",
   "source": [],
   "metadata": {
    "collapsed": false
   }
  },
  {
   "cell_type": "code",
   "execution_count": 4,
   "outputs": [
    {
     "name": "stdout",
     "output_type": "stream",
     "text": [
      "120\n"
     ]
    }
   ],
   "source": [
    "def factorial(n):\n",
    "    result = 1\n",
    "    for i in range (1, n+1):\n",
    "        result *= i\n",
    "    return result\n",
    "\n",
    "\n",
    "print(factorial(5))\n"
   ],
   "metadata": {
    "collapsed": false,
    "ExecuteTime": {
     "end_time": "2023-05-31T08:41:03.459549400Z",
     "start_time": "2023-05-31T08:41:03.455512900Z"
    }
   }
  },
  {
   "cell_type": "markdown",
   "source": [
    "## Fibonacci numbers\n",
    "- Fibonacci sequence is a series of nums where each num is the sum of the prev 2 nums\n",
    "- The sequence starts with 0, 1, 1, 2, 3, 5, 8, 13"
   ],
   "metadata": {
    "collapsed": false
   }
  },
  {
   "cell_type": "markdown",
   "source": [
    "fib(0) = 0\n",
    "fib(1) = 1\n",
    "fib(n) = fib(n-1) +fib(n-2), for n > 1"
   ],
   "metadata": {
    "collapsed": false
   }
  },
  {
   "cell_type": "markdown",
   "source": [
    "This means that the first 2 nums in the sequence are fixed, and each subsequent num is the sum of the previous two.\n",
    "\n",
    "To find the 6th number in the sequence, we would start with fib(6).\n",
    "\n",
    "Since 6 > 1, we would use the recursive formula to find it:\n",
    "\n",
    "fib(0) = 0\n",
    "fib(1) = 1\n",
    "fib(2) = fib(1) + fib(0) => 1 + 0 = 1\n",
    "fib(3) = fib(2) + fib(1) => 1 + 1 = 2\n",
    "fib(4) = fib(3) + fib(2) => 2 + 1 = 3\n",
    "fib(5) = fib(4) + fib(3) => 3 + 2 = 5\n",
    "fib(6) = fib(5) + fib(4) => 5 + 3 = 8"
   ],
   "metadata": {
    "collapsed": false
   }
  },
  {
   "cell_type": "code",
   "execution_count": 1,
   "outputs": [
    {
     "data": {
      "text/plain": "5"
     },
     "execution_count": 1,
     "metadata": {},
     "output_type": "execute_result"
    }
   ],
   "source": [
    "# Fibonacci\n",
    "\n",
    "def fibonacci(n):\n",
    "    if n == 0:\n",
    "        return  0\n",
    "    elif n == 1:\n",
    "        return 1\n",
    "    return fibonacci(n - 1) + fibonacci(n - 2)\n",
    "\n",
    "\n",
    "fibonacci(5)"
   ],
   "metadata": {
    "collapsed": false,
    "ExecuteTime": {
     "end_time": "2023-05-31T18:23:49.994591Z",
     "start_time": "2023-05-31T18:23:49.988550100Z"
    }
   }
  },
  {
   "cell_type": "code",
   "execution_count": 11,
   "outputs": [
    {
     "name": "stdout",
     "output_type": "stream",
     "text": [
      "5\n",
      "4\n",
      "3\n",
      "2\n",
      "1\n"
     ]
    }
   ],
   "source": [
    "# Countdown\n",
    "\n",
    "def countdown_iter(n):\n",
    "    for i in range(n, 0, -1):\n",
    "        print(i)\n",
    "\n",
    "countdown_iter(5)"
   ],
   "metadata": {
    "collapsed": false,
    "ExecuteTime": {
     "end_time": "2023-05-31T09:28:02.589271100Z",
     "start_time": "2023-05-31T09:28:02.582741900Z"
    }
   }
  },
  {
   "cell_type": "code",
   "execution_count": 13,
   "outputs": [
    {
     "name": "stdout",
     "output_type": "stream",
     "text": [
      "5\n",
      "4\n",
      "3\n",
      "2\n",
      "1\n"
     ]
    }
   ],
   "source": [
    "def countdown(n):\n",
    "    if n == 0:\n",
    "        return 1\n",
    "    print(n)\n",
    "    countdown(n - 1)\n",
    "\n",
    "countdown_iter(5)\n"
   ],
   "metadata": {
    "collapsed": false,
    "ExecuteTime": {
     "end_time": "2023-05-31T09:40:42.078759600Z",
     "start_time": "2023-05-31T09:40:42.074276500Z"
    }
   }
  },
  {
   "cell_type": "code",
   "execution_count": 14,
   "outputs": [
    {
     "name": "stdout",
     "output_type": "stream",
     "text": [
      "1\n"
     ]
    }
   ],
   "source": [
    "def countdown(n): # not working example\n",
    "    if n == 0:\n",
    "        return 1\n",
    "    return countdown(n - 1)\n",
    "\n",
    "print(countdown(5))\n",
    "\n",
    "# 1. countdown(10) = countdown(9) = .... = countdown(0)"
   ],
   "metadata": {
    "collapsed": false,
    "ExecuteTime": {
     "end_time": "2023-05-31T09:41:11.792885400Z",
     "start_time": "2023-05-31T09:41:11.786406200Z"
    }
   }
  },
  {
   "cell_type": "markdown",
   "source": [
    "### The Stack\n",
    "A stack is like a stack of sticky notes.\n",
    "When you add an element, it gets added to the top of the sticky notes.\n",
    "When you read an item, you only read the topmost item, and it's taken off the stack of sticky notes.\n",
    "\n",
    "A stack works like the sticky notes"
   ],
   "metadata": {
    "collapsed": false
   }
  },
  {
   "cell_type": "markdown",
   "source": [
    "### The Call Stack\n",
    "\n",
    "The computer uses a stack internally called call stack:"
   ],
   "metadata": {
    "collapsed": false
   }
  },
  {
   "cell_type": "code",
   "execution_count": 16,
   "outputs": [
    {
     "name": "stdout",
     "output_type": "stream",
     "text": [
      "hello Marla\n",
      "greet2\n",
      "bye\n"
     ]
    }
   ],
   "source": [
    "def greet2(name):\n",
    "    print('greet2')\n",
    "\n",
    "def bye():\n",
    "    print('bye')\n",
    "\n",
    "def greet(name):\n",
    "    print('hello ' + name)\n",
    "    greet2(name)\n",
    "    bye()\n",
    "\n",
    "greet('Marla')"
   ],
   "metadata": {
    "collapsed": false,
    "ExecuteTime": {
     "end_time": "2023-05-31T09:47:34.503798200Z",
     "start_time": "2023-05-31T09:47:34.499287700Z"
    }
   }
  },
  {
   "cell_type": "markdown",
   "source": [
    "- The variable name 'Marla' is saved in memory\n",
    "- Every time you make a func call, all the values for all variables for that call are stored in memory\n",
    "- after printing 'hello' you make another func call again in memory for this call and all associated variables is allocated\n",
    "- After greet2 is done, the top box is popped off\n",
    "- When greet2 was called greet was *partially completed*\n",
    "-"
   ],
   "metadata": {
    "collapsed": false
   }
  }
 ],
 "metadata": {
  "kernelspec": {
   "display_name": "Python 3",
   "language": "python",
   "name": "python3"
  },
  "language_info": {
   "codemirror_mode": {
    "name": "ipython",
    "version": 2
   },
   "file_extension": ".py",
   "mimetype": "text/x-python",
   "name": "python",
   "nbconvert_exporter": "python",
   "pygments_lexer": "ipython2",
   "version": "2.7.6"
  }
 },
 "nbformat": 4,
 "nbformat_minor": 0
}
