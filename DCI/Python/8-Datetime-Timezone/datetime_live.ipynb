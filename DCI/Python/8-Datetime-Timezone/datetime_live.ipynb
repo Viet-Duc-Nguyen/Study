{
 "cells": [
  {
   "attachments": {},
   "cell_type": "markdown",
   "metadata": {},
   "source": [
    "# Datetime Module\n",
    "\n",
    "- The datetime *module* in Python provides *classes* for working with dates and times.\n",
    "- It allows us to: \n",
    "1. create\n",
    "2. manipulate\n",
    "3. format\n",
    "dates and times in various ways."
   ]
  },
  {
   "attachments": {},
   "cell_type": "markdown",
   "metadata": {},
   "source": [
    "## What is a class?\n",
    "> A class is a blueprint or template for creating objects. \n",
    "\n",
    "> It defines attributes and methods that are common to all objects of that class."
   ]
  },
  {
   "cell_type": "code",
   "execution_count": 18,
   "metadata": {},
   "outputs": [],
   "source": [
    "class Car:\n",
    "    def __init__(self, doors, model, year):\n",
    "        self.doors = doors\n",
    "        self.model = model\n",
    "        self.year = year\n",
    "        self.speed = 0\n",
    "\n",
    "    def accelerate(self, speed_delta):\n",
    "        self.speed += speed_delta\n",
    "\n",
    "    def brake(self, speed_delta):\n",
    "        if self.speed - speed_delta < 0:\n",
    "            self.speed = 0\n",
    "        else :\n",
    "            self.speed -= speed_delta\n",
    "\n",
    "    def info(self):\n",
    "        print(f\"Car with {self.doors} doors from {self.model} has a current speed of {self.speed}.\")\n",
    "        \n",
    "\n",
    "    "
   ]
  },
  {
   "cell_type": "code",
   "execution_count": 23,
   "metadata": {},
   "outputs": [
    {
     "name": "stdout",
     "output_type": "stream",
     "text": [
      "Car with 4 doors from BMW has a current speed of 25.\n"
     ]
    }
   ],
   "source": [
    "car_obj = Car(4, 'BMW', 2014)\n",
    "\n",
    "# print(car_obj.speed)\n",
    "car_obj.accelerate(50)\n",
    "# print(car_obj.speed)\n",
    "car_obj.brake(25)\n",
    "# print(car_obj.speed)\n",
    "# car_obj.brake(30)\n",
    "# print(car_obj.speed)\n",
    "# print()\n",
    "car_obj.info()\n"
   ]
  },
  {
   "cell_type": "code",
   "execution_count": 17,
   "metadata": {},
   "outputs": [
    {
     "data": {
      "text/plain": [
       "3"
      ]
     },
     "execution_count": 17,
     "metadata": {},
     "output_type": "execute_result"
    }
   ],
   "source": [
    "car_bmw = Car(3, 'BMW', 1986)\n",
    "\n",
    "car_bmw.doors"
   ]
  },
  {
   "attachments": {},
   "cell_type": "markdown",
   "metadata": {},
   "source": [
    "- Think of a class as a blueprint for a house.\n",
    "- he blueprint defines the structure and layout of the house\n",
    "(number of rooms, size of rooms, location of doors and windows)\n",
    "- Similarly, a class defines the attributes and methods (behaviors) of the objects that will be created from that class."
   ]
  },
  {
   "attachments": {},
   "cell_type": "markdown",
   "metadata": {},
   "source": [
    "- We use classes in programming to create objects with specific attributes and behaviors. \n",
    "- They can be easily reused and modified as needed.\n",
    "\n",
    "What are the behaviors of our car class?"
   ]
  },
  {
   "attachments": {},
   "cell_type": "markdown",
   "metadata": {},
   "source": [
    "# What is a module?\n",
    "> A module is a file containing Python definitions and statements that can be used in other Python programs. \n",
    "> can define functions, classes, and variables, and can be imported into other Python programs to provide additional functionality."
   ]
  },
  {
   "cell_type": "code",
   "execution_count": 31,
   "metadata": {},
   "outputs": [
    {
     "name": "stdout",
     "output_type": "stream",
     "text": [
      "<built-in function sqrt>\n",
      "3.141592653589793\n"
     ]
    },
    {
     "data": {
      "text/plain": [
       "True"
      ]
     },
     "execution_count": 31,
     "metadata": {},
     "output_type": "execute_result"
    }
   ],
   "source": [
    "import math\n",
    "\n",
    "math.sin(1)  #function\n",
    "print(math.sqrt )\n",
    "print(math.pi)\n",
    "\n"
   ]
  },
  {
   "cell_type": "code",
   "execution_count": 36,
   "metadata": {},
   "outputs": [
    {
     "data": {
      "text/plain": [
       "2.718281828459045"
      ]
     },
     "execution_count": 36,
     "metadata": {},
     "output_type": "execute_result"
    }
   ],
   "source": [
    "from math import pi\n",
    "from math import sqrt, sin\n",
    "import math as BLA\n",
    "\n",
    "sqrt(25)\n",
    "sin(pi)\n",
    "BLA.e"
   ]
  },
  {
   "cell_type": "code",
   "execution_count": 42,
   "metadata": {},
   "outputs": [
    {
     "data": {
      "text/plain": [
       "1682500550.5941875"
      ]
     },
     "execution_count": 42,
     "metadata": {},
     "output_type": "execute_result"
    }
   ],
   "source": [
    "import time\n",
    "time.time()"
   ]
  },
  {
   "attachments": {},
   "cell_type": "markdown",
   "metadata": {},
   "source": [
    "- the *Unix epoch* is a time reference commonly used in programming\n",
    "- this *Unix* timestamp started 12 AM on January 1, 1970, Coordinated Universal Time (UTC)\n",
    "- *time.time()* function returns the seconds since that moment\n",
    "- this moment is called the *epoch timestamp*"
   ]
  },
  {
   "attachments": {},
   "cell_type": "markdown",
   "metadata": {},
   "source": [
    "## Make it human-readable\n",
    "- *time.ctime()* function returns a string description of the current time\n"
   ]
  },
  {
   "cell_type": "code",
   "execution_count": 43,
   "metadata": {},
   "outputs": [
    {
     "data": {
      "text/plain": [
       "'Wed Apr 26 11:18:24 2023'"
      ]
     },
     "execution_count": 43,
     "metadata": {},
     "output_type": "execute_result"
    }
   ],
   "source": [
    "time.ctime(time.time())  #c stands for current time, but you can also get earlier timestamps"
   ]
  },
  {
   "cell_type": "code",
   "execution_count": 44,
   "metadata": {},
   "outputs": [
    {
     "data": {
      "text/plain": [
       "'Thu Jan  1 01:00:00 1970'"
      ]
     },
     "execution_count": 44,
     "metadata": {},
     "output_type": "execute_result"
    }
   ],
   "source": [
    "time.ctime(0)"
   ]
  },
  {
   "attachments": {},
   "cell_type": "markdown",
   "metadata": {},
   "source": [
    "## The time.sleep() Function\n",
    "\n"
   ]
  },
  {
   "cell_type": "code",
   "execution_count": 45,
   "metadata": {},
   "outputs": [
    {
     "name": "stdout",
     "output_type": "stream",
     "text": [
      "tick\n",
      "Tock\n",
      "tick\n",
      "Tock\n",
      "tick\n",
      "Tock\n"
     ]
    }
   ],
   "source": [
    "for i in range(3):\n",
    "    print('tick')\n",
    "    time.sleep(1)\n",
    "    print('Tock')\n",
    "    time.sleep(1)"
   ]
  },
  {
   "cell_type": "code",
   "execution_count": 49,
   "metadata": {},
   "outputs": [
    {
     "name": "stdout",
     "output_type": "stream",
     "text": [
      "Took 5.254203796386719 seconds\n"
     ]
    }
   ],
   "source": [
    "def calcProd():\n",
    "    product = 1\n",
    "    for i in range(1, 100000):\n",
    "        product *= i\n",
    "    return product\n",
    "\n",
    "startTime = time.time()\n",
    "prod = calcProd()\n",
    "endTime = time.time()\n",
    "delta = endTime - startTime\n",
    "\n",
    "print(f\"Took {delta} seconds\")"
   ]
  },
  {
   "cell_type": "code",
   "execution_count": 40,
   "metadata": {},
   "outputs": [
    {
     "name": "stdout",
     "output_type": "stream",
     "text": [
      "<class 'type'>\n"
     ]
    }
   ],
   "source": [
    "import datetime\n",
    "\n",
    "import time\n",
    "time.time()\n",
    "\n",
    "print(type(datetime.datetime))"
   ]
  },
  {
   "attachments": {},
   "cell_type": "markdown",
   "metadata": {},
   "source": [
    "# The Datetime Module\n",
    "\n",
    "- datetime has it's own data type: *datetime*"
   ]
  },
  {
   "cell_type": "code",
   "execution_count": 41,
   "metadata": {},
   "outputs": [
    {
     "data": {
      "text/plain": [
       "datetime.datetime"
      ]
     },
     "execution_count": 41,
     "metadata": {},
     "output_type": "execute_result"
    }
   ],
   "source": [
    "type(datetime.datetime.now())"
   ]
  },
  {
   "attachments": {},
   "cell_type": "markdown",
   "metadata": {},
   "source": [
    "Get the datetime object of the current time and of a given time:"
   ]
  },
  {
   "cell_type": "code",
   "execution_count": 51,
   "metadata": {},
   "outputs": [
    {
     "data": {
      "text/plain": [
       "datetime.datetime(2023, 4, 26, 11, 34, 17, 286790)"
      ]
     },
     "execution_count": 51,
     "metadata": {},
     "output_type": "execute_result"
    }
   ],
   "source": [
    "from datetime import datetime\n",
    "datetime.now()"
   ]
  },
  {
   "cell_type": "code",
   "execution_count": 54,
   "metadata": {},
   "outputs": [
    {
     "data": {
      "text/plain": [
       "datetime.datetime(2019, 10, 21, 16, 29)"
      ]
     },
     "execution_count": 54,
     "metadata": {},
     "output_type": "execute_result"
    }
   ],
   "source": [
    "dt = datetime(2019, 10, 21, 16, 29, 0 )\n",
    "dt"
   ]
  },
  {
   "attachments": {},
   "cell_type": "markdown",
   "metadata": {},
   "source": [
    "Get date entities:"
   ]
  },
  {
   "cell_type": "code",
   "execution_count": 58,
   "metadata": {},
   "outputs": [
    {
     "data": {
      "text/plain": [
       "(2023, 4, 26, 11, 38, 25, 2)"
      ]
     },
     "execution_count": 58,
     "metadata": {},
     "output_type": "execute_result"
    }
   ],
   "source": [
    "dt = datetime.now()\n",
    "dt.year, dt.month, dt.day, dt.hour, dt.minute, dt.second, dt.weekday() "
   ]
  },
  {
   "attachments": {},
   "cell_type": "markdown",
   "metadata": {},
   "source": [
    "### Convert UNIX Epoche"
   ]
  },
  {
   "cell_type": "code",
   "execution_count": 60,
   "metadata": {},
   "outputs": [
    {
     "data": {
      "text/plain": [
       "datetime.datetime(1970, 1, 1, 1, 0)"
      ]
     },
     "execution_count": 60,
     "metadata": {},
     "output_type": "execute_result"
    }
   ],
   "source": [
    "datetime.fromtimestamp(1000000)\n",
    "datetime.fromtimestamp(0)"
   ]
  },
  {
   "cell_type": "code",
   "execution_count": 61,
   "metadata": {},
   "outputs": [
    {
     "data": {
      "text/plain": [
       "datetime.datetime(2023, 4, 26, 11, 41, 49, 81573)"
      ]
     },
     "execution_count": 61,
     "metadata": {},
     "output_type": "execute_result"
    }
   ],
   "source": [
    "datetime.fromtimestamp(time.time())"
   ]
  },
  {
   "attachments": {},
   "cell_type": "markdown",
   "metadata": {},
   "source": [
    "# Converting datetime Objects into Strings\n",
    "\n",
    "- use strftime() to make datetime objects human-readable\n",
    "\n",
    "strftime() directive | Meaning\n",
    "--- | ---\n",
    "%Y | Year e.g. 2012\n",
    "%y | Year e.g 12\n",
    "%m | Month\n",
    "%B | Month full name\n",
    "%b | Month name abbrevation\n",
    "%d | day of month\n",
    "%j | day of year\n",
    "%w | day of week (starts at 0)\n",
    "%A | full weekday\n",
    "%a | weekday name\n",
    "%H | hours (24h)\n",
    "%I | hours (12h)\n",
    "%M | Minute\n",
    "%S | seconds\n",
    "%p | 'AM'or 'PM'"
   ]
  },
  {
   "cell_type": "code",
   "execution_count": 67,
   "metadata": {},
   "outputs": [
    {
     "data": {
      "text/plain": [
       "'19-10-21 16:29:00  Monday'"
      ]
     },
     "execution_count": 67,
     "metadata": {},
     "output_type": "execute_result"
    }
   ],
   "source": [
    "oct21st = datetime(2019, 10, 21, 16, 29, 0)\n",
    "oct21st.strftime('%y-%m-%d %H:%M:%S  %A')"
   ]
  },
  {
   "attachments": {},
   "cell_type": "markdown",
   "metadata": {},
   "source": [
    "### Converting Strings into datetime Objects\n",
    "\n",
    " The strptime() function is the inverse of the strftime() method:"
   ]
  },
  {
   "cell_type": "code",
   "execution_count": 68,
   "metadata": {},
   "outputs": [
    {
     "data": {
      "text/plain": [
       "datetime.datetime(2019, 10, 21, 0, 0)"
      ]
     },
     "execution_count": 68,
     "metadata": {},
     "output_type": "execute_result"
    }
   ],
   "source": [
    "dt = datetime.strptime('October 21, 2019', '%B %d, %Y')\n",
    "\n"
   ]
  },
  {
   "cell_type": "code",
   "execution_count": 70,
   "metadata": {},
   "outputs": [
    {
     "data": {
      "text/plain": [
       "datetime.datetime(2023, 4, 10, 0, 0)"
      ]
     },
     "execution_count": 70,
     "metadata": {},
     "output_type": "execute_result"
    }
   ],
   "source": [
    "datetime.strptime('10.04.2023', '%d.%m.%Y')"
   ]
  },
  {
   "attachments": {},
   "cell_type": "markdown",
   "metadata": {},
   "source": [
    "## Calendar Module\n",
    "\n",
    "- The calendar module provides functions to work with calendars.\n",
    "\n",
    "1. generating calendars for a specific year or month\n",
    "2. checking whether a year is a leap year"
   ]
  },
  {
   "attachments": {},
   "cell_type": "markdown",
   "metadata": {},
   "source": [
    "### calendar.isleap() method\n",
    "\n",
    "- The calendar.isleap() method is used to check for a leap year.\n",
    "- It takes one argument: the year as an integer."
   ]
  },
  {
   "cell_type": "code",
   "execution_count": 6,
   "metadata": {},
   "outputs": [
    {
     "name": "stdout",
     "output_type": "stream",
     "text": [
      "Year 2023 is not a leap year\n",
      "No\n",
      "Year 2023 is not a leap year\n",
      "Year 2023 is not a leap year\n"
     ]
    }
   ],
   "source": [
    "import calendar\n",
    "\n",
    "calendar.isleap(2024)\n",
    "\n",
    "my_year = 2023\n",
    "\n",
    "if calendar.isleap(my_year):\n",
    "    print(f'Year {my_year} is a leap year')\n",
    "else:\n",
    "    print(f'Year {my_year} is not a leap year')\n",
    "\n",
    "print('yes' if calendar.isleap(my_year) else 'No')\n",
    "print(f'Year {my_year} is a leap year' if calendar.isleap(my_year) else f'Year {my_year} is not a leap year')\n",
    "result = f'Year {my_year} is a leap year' if calendar.isleap(my_year) else f'Year {my_year} is not a leap year' \n",
    "print(result)\n"
   ]
  },
  {
   "attachments": {},
   "cell_type": "markdown",
   "metadata": {},
   "source": [
    "### calendar.month() method\n",
    "\n",
    "- The calendar.month() method is used to generate a string representation of a calendar.\n",
    "- It takes two arguments:\n",
    "1. the year as an integer\n",
    "2. the month as an integer between 1 and 12."
   ]
  },
  {
   "cell_type": "code",
   "execution_count": 7,
   "metadata": {},
   "outputs": [
    {
     "name": "stdout",
     "output_type": "stream",
     "text": [
      "   December 2022\n",
      "Mo Tu We Th Fr Sa Su\n",
      "          1  2  3  4\n",
      " 5  6  7  8  9 10 11\n",
      "12 13 14 15 16 17 18\n",
      "19 20 21 22 23 24 25\n",
      "26 27 28 29 30 31\n",
      "\n"
     ]
    }
   ],
   "source": [
    "import calendar\n",
    "\n",
    "print(calendar.month(2022, 12))"
   ]
  },
  {
   "attachments": {},
   "cell_type": "markdown",
   "metadata": {},
   "source": [
    "- It has several methods for customizing the display of the calendar:\n",
    "1. setfirstweekday(weekday): sets the first day of the week to be displayed in the calendar.\n",
    "2. firstweekday(): returns the current setting for the first day of the week.\n",
    "\n",
    "Here's an example of using the TextCalendar class to create a calendar for March 2023, with the first day of the week\n",
    "set to Tuesday:"
   ]
  },
  {
   "cell_type": "code",
   "execution_count": 14,
   "metadata": {},
   "outputs": [
    {
     "name": "stdout",
     "output_type": "stream",
     "text": [
      "   December 2022\n",
      "We Th Fr Sa Su Mo Tu\n",
      "    1  2  3  4  5  6\n",
      " 7  8  9 10 11 12 13\n",
      "14 15 16 17 18 19 20\n",
      "21 22 23 24 25 26 27\n",
      "28 29 30 31\n",
      "\n"
     ]
    },
    {
     "data": {
      "text/plain": [
       "2"
      ]
     },
     "execution_count": 14,
     "metadata": {},
     "output_type": "execute_result"
    }
   ],
   "source": [
    "calendar.setfirstweekday(calendar.WEDNESDAY)\n",
    "print(calendar.month(2022, 12))\n",
    "calendar.firstweekday()"
   ]
  },
  {
   "attachments": {},
   "cell_type": "markdown",
   "metadata": {},
   "source": [
    "- each weekday is a number between 0 and 6 and are stored in calendar.WEEKDAY"
   ]
  },
  {
   "cell_type": "code",
   "execution_count": 12,
   "metadata": {},
   "outputs": [
    {
     "data": {
      "text/plain": [
       "6"
      ]
     },
     "execution_count": 12,
     "metadata": {},
     "output_type": "execute_result"
    }
   ],
   "source": [
    "calendar.MONDAY\n",
    "calendar.SUNDAY"
   ]
  },
  {
   "attachments": {},
   "cell_type": "markdown",
   "metadata": {},
   "source": [
    "### Arithmetics with Datetime"
   ]
  },
  {
   "cell_type": "code",
   "execution_count": 23,
   "metadata": {},
   "outputs": [
    {
     "name": "stdout",
     "output_type": "stream",
     "text": [
      "my bool True\n",
      "140294288228192\n",
      "Same dates\n"
     ]
    }
   ],
   "source": [
    "from datetime import datetime\n",
    "halloween2019 = datetime(2019, 10, 31)\n",
    "halloween2019\n",
    "oct31_2019 = datetime(2019, 10, 31)\n",
    "\n",
    "halloween2019 == oct31_2019 # Preferred way to compare two dates\n",
    "\n",
    "boolean = halloween2019.year == oct31_2019.year and halloween2019.month == oct31_2019.month and halloween2019.day == oct31_2019.day\n",
    "print('my bool', boolean)\n",
    "newyears2020 = datetime(2020, 1, 1)\n",
    "\n",
    "\n",
    "print(id(halloween2019))\n",
    "id(oct31_2019)\n",
    "\n",
    "if halloween2019 == oct31_2019:\n",
    "    print('Same dates')\n",
    "else:\n",
    "    print('not same')\n"
   ]
  },
  {
   "cell_type": "code",
   "execution_count": 24,
   "metadata": {},
   "outputs": [
    {
     "data": {
      "text/plain": [
       "False"
      ]
     },
     "execution_count": 24,
     "metadata": {},
     "output_type": "execute_result"
    }
   ],
   "source": [
    "halloween2019 > newyears2020"
   ]
  },
  {
   "cell_type": "code",
   "execution_count": 25,
   "metadata": {},
   "outputs": [
    {
     "data": {
      "text/plain": [
       "True"
      ]
     },
     "execution_count": 25,
     "metadata": {},
     "output_type": "execute_result"
    }
   ],
   "source": [
    "halloween2019 < newyears2020"
   ]
  },
  {
   "cell_type": "code",
   "execution_count": 27,
   "metadata": {},
   "outputs": [
    {
     "data": {
      "text/plain": [
       "True"
      ]
     },
     "execution_count": 27,
     "metadata": {},
     "output_type": "execute_result"
    }
   ],
   "source": [
    "halloween2019 != oct31_2019\n",
    "halloween2019 != newyears2020"
   ]
  },
  {
   "cell_type": "code",
   "execution_count": 42,
   "metadata": {},
   "outputs": [
    {
     "name": "stdout",
     "output_type": "stream",
     "text": [
      "36548\n",
      "36548\n"
     ]
    },
    {
     "data": {
      "text/plain": [
       "datetime.timedelta(days=-999999999)"
      ]
     },
     "execution_count": 42,
     "metadata": {},
     "output_type": "execute_result"
    }
   ],
   "source": [
    "from datetime import timedelta\n",
    "\n",
    "delta = timedelta(days=11, hours=10, minutes=9, seconds=8, microseconds=0)\n",
    "\n",
    "delta.days, delta.seconds, delta.microseconds\n",
    "\n",
    "print(10*60*60+9*60+8)\n",
    "print(delta.seconds)\n",
    "\n",
    "\n"
   ]
  },
  {
   "cell_type": "code",
   "execution_count": 41,
   "metadata": {},
   "outputs": [
    {
     "data": {
      "text/plain": [
       "['__abs__',\n",
       " '__add__',\n",
       " '__bool__',\n",
       " '__class__',\n",
       " '__delattr__',\n",
       " '__dir__',\n",
       " '__divmod__',\n",
       " '__doc__',\n",
       " '__eq__',\n",
       " '__floordiv__',\n",
       " '__format__',\n",
       " '__ge__',\n",
       " '__getattribute__',\n",
       " '__gt__',\n",
       " '__hash__',\n",
       " '__init__',\n",
       " '__init_subclass__',\n",
       " '__le__',\n",
       " '__lt__',\n",
       " '__mod__',\n",
       " '__mul__',\n",
       " '__ne__',\n",
       " '__neg__',\n",
       " '__new__',\n",
       " '__pos__',\n",
       " '__radd__',\n",
       " '__rdivmod__',\n",
       " '__reduce__',\n",
       " '__reduce_ex__',\n",
       " '__repr__',\n",
       " '__rfloordiv__',\n",
       " '__rmod__',\n",
       " '__rmul__',\n",
       " '__rsub__',\n",
       " '__rtruediv__',\n",
       " '__setattr__',\n",
       " '__sizeof__',\n",
       " '__str__',\n",
       " '__sub__',\n",
       " '__subclasshook__',\n",
       " '__truediv__',\n",
       " 'days',\n",
       " 'max',\n",
       " 'microseconds',\n",
       " 'min',\n",
       " 'resolution',\n",
       " 'seconds',\n",
       " 'total_seconds']"
      ]
     },
     "execution_count": 41,
     "metadata": {},
     "output_type": "execute_result"
    }
   ],
   "source": [
    "dir(delta)"
   ]
  },
  {
   "cell_type": "code",
   "execution_count": 40,
   "metadata": {},
   "outputs": [
    {
     "ename": "AttributeError",
     "evalue": "'datetime.timedelta' object has no attribute 'total'",
     "output_type": "error",
     "traceback": [
      "\u001b[0;31m---------------------------------------------------------------------------\u001b[0m",
      "\u001b[0;31mAttributeError\u001b[0m                            Traceback (most recent call last)",
      "\u001b[1;32m/home/dci-student/PYDCI/p23_e02_live-code/PYTHON/2.03_DATE/datetime_live.ipynb Cell 50\u001b[0m in \u001b[0;36m2\n\u001b[1;32m      <a href='vscode-notebook-cell:/home/dci-student/PYDCI/p23_e02_live-code/PYTHON/2.03_DATE/datetime_live.ipynb#Y101sZmlsZQ%3D%3D?line=0'>1</a>\u001b[0m delta\u001b[39m.\u001b[39mtotal_seconds()\n\u001b[0;32m----> <a href='vscode-notebook-cell:/home/dci-student/PYDCI/p23_e02_live-code/PYTHON/2.03_DATE/datetime_live.ipynb#Y101sZmlsZQ%3D%3D?line=1'>2</a>\u001b[0m delta\u001b[39m.\u001b[39;49mtotal\u001b[39m.\u001b[39mmicroseconds()\n",
      "\u001b[0;31mAttributeError\u001b[0m: 'datetime.timedelta' object has no attribute 'total'"
     ]
    }
   ],
   "source": [
    "delta.total_seconds()\n"
   ]
  },
  {
   "cell_type": "code",
   "execution_count": 43,
   "metadata": {},
   "outputs": [
    {
     "data": {
      "text/plain": [
       "'11 days, 10:09:08'"
      ]
     },
     "execution_count": 43,
     "metadata": {},
     "output_type": "execute_result"
    }
   ],
   "source": [
    "str(delta)"
   ]
  },
  {
   "attachments": {},
   "cell_type": "markdown",
   "metadata": {},
   "source": [
    "### Arithmetics with timedelta"
   ]
  },
  {
   "cell_type": "code",
   "execution_count": 44,
   "metadata": {},
   "outputs": [
    {
     "data": {
      "text/plain": [
       "datetime.datetime(2023, 4, 27, 11, 36, 7, 178192)"
      ]
     },
     "execution_count": 44,
     "metadata": {},
     "output_type": "execute_result"
    }
   ],
   "source": [
    "dt = datetime.now()\n",
    "thousandDays = timedelta(days=1000)\n",
    "dt"
   ]
  },
  {
   "cell_type": "code",
   "execution_count": 45,
   "metadata": {},
   "outputs": [
    {
     "data": {
      "text/plain": [
       "datetime.datetime(2026, 1, 21, 11, 36, 7, 178192)"
      ]
     },
     "execution_count": 45,
     "metadata": {},
     "output_type": "execute_result"
    }
   ],
   "source": [
    "dt + thousandDays"
   ]
  },
  {
   "cell_type": "code",
   "execution_count": 46,
   "metadata": {},
   "outputs": [
    {
     "data": {
      "text/plain": [
       "datetime.datetime(2020, 7, 31, 11, 36, 7, 178192)"
      ]
     },
     "execution_count": 46,
     "metadata": {},
     "output_type": "execute_result"
    }
   ],
   "source": [
    "dt - thousandDays"
   ]
  },
  {
   "cell_type": "code",
   "execution_count": 51,
   "metadata": {},
   "outputs": [
    {
     "data": {
      "text/plain": [
       "1212"
      ]
     },
     "execution_count": 51,
     "metadata": {},
     "output_type": "execute_result"
    }
   ],
   "source": [
    "type(dt)\n",
    "type(newyears2020)\n",
    "delta = (dt - newyears2020)\n",
    "\n",
    "delta.days"
   ]
  },
  {
   "attachments": {},
   "cell_type": "markdown",
   "metadata": {},
   "source": [
    "## dateutil\n",
    "- supports timezones\n"
   ]
  },
  {
   "cell_type": "code",
   "execution_count": 53,
   "metadata": {},
   "outputs": [],
   "source": [
    "from dateutil import tz\n",
    "from datetime import date\n"
   ]
  },
  {
   "attachments": {},
   "cell_type": "markdown",
   "metadata": {},
   "source": [
    "#### Convert between different timezones\n",
    "- Create an tz object with another timezone:"
   ]
  },
  {
   "cell_type": "code",
   "execution_count": 57,
   "metadata": {},
   "outputs": [
    {
     "name": "stdout",
     "output_type": "stream",
     "text": [
      "tzfile('/usr/share/zoneinfo/America/Los_Angeles')\n"
     ]
    }
   ],
   "source": [
    "usa = \"America/Los_Angeles\"\n",
    "\n",
    "usa_tz = tz.gettz(usa)\n",
    "print(usa_tz)"
   ]
  },
  {
   "attachments": {},
   "cell_type": "markdown",
   "metadata": {},
   "source": [
    "- set the tz in datetime: python3 -m pip install python-dateutil"
   ]
  },
  {
   "cell_type": "code",
   "execution_count": 60,
   "metadata": {},
   "outputs": [
    {
     "data": {
      "text/plain": [
       "datetime.datetime(2021, 8, 1, 13, 35, tzinfo=tzfile('/usr/share/zoneinfo/America/Los_Angeles'))"
      ]
     },
     "execution_count": 60,
     "metadata": {},
     "output_type": "execute_result"
    }
   ],
   "source": [
    "meeting_LA = datetime(2021, 8, 1, hour=13, minute=35, tzinfo=usa_tz)\n",
    "meeting_LA"
   ]
  },
  {
   "attachments": {},
   "cell_type": "markdown",
   "metadata": {},
   "source": [
    "- convert with _.astimezone()_:"
   ]
  },
  {
   "cell_type": "code",
   "execution_count": 61,
   "metadata": {},
   "outputs": [
    {
     "data": {
      "text/plain": [
       "datetime.datetime(2021, 8, 1, 22, 35, tzinfo=tzfile('/etc/localtime'))"
      ]
     },
     "execution_count": 61,
     "metadata": {},
     "output_type": "execute_result"
    }
   ],
   "source": [
    "meeting_LA.astimezone(tz.gettz())\n",
    "\n"
   ]
  },
  {
   "attachments": {},
   "cell_type": "markdown",
   "metadata": {},
   "source": [
    "UNIX Epoch"
   ]
  },
  {
   "cell_type": "code",
   "execution_count": 63,
   "metadata": {},
   "outputs": [
    {
     "data": {
      "text/plain": [
       "datetime.datetime(1970, 1, 1, 1, 0)"
      ]
     },
     "execution_count": 63,
     "metadata": {},
     "output_type": "execute_result"
    }
   ],
   "source": [
    "unix_epoch = datetime.fromtimestamp(0)\n",
    "unix_epoch"
   ]
  },
  {
   "cell_type": "code",
   "execution_count": 64,
   "metadata": {},
   "outputs": [
    {
     "data": {
      "text/plain": [
       "datetime.datetime(1970, 1, 1, 0, 0, tzinfo=tzfile('/usr/share/zoneinfo/UTC'))"
      ]
     },
     "execution_count": 64,
     "metadata": {},
     "output_type": "execute_result"
    }
   ],
   "source": [
    "unix_epoch.astimezone(tz.gettz('UTC'))"
   ]
  }
 ],
 "metadata": {
  "kernelspec": {
   "display_name": "Python 3",
   "language": "python",
   "name": "python3"
  },
  "language_info": {
   "codemirror_mode": {
    "name": "ipython",
    "version": 3
   },
   "file_extension": ".py",
   "mimetype": "text/x-python",
   "name": "python",
   "nbconvert_exporter": "python",
   "pygments_lexer": "ipython3",
   "version": "3.8.10"
  },
  "orig_nbformat": 4
 },
 "nbformat": 4,
 "nbformat_minor": 2
}
