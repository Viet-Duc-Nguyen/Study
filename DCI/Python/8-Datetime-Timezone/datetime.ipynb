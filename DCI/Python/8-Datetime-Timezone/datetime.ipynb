{
 "cells": [
  {
   "attachments": {},
   "cell_type": "markdown",
   "id": "ef89f85e",
   "metadata": {},
   "source": [
    "# Datetime module\n",
    "\n",
    "- The datetime _module_ in Python provides _classes_ for working with dates and times.\n",
    "- It allows us to:\n",
    "\n",
    "1. create\n",
    "2. manipulate\n",
    "3. format\n",
    "   dates and times in various ways.\n"
   ]
  },
  {
   "attachments": {},
   "cell_type": "markdown",
   "id": "f6af0811",
   "metadata": {},
   "source": [
    "## What is a class?\n",
    "\n",
    "> A class is a blueprint or template for creating objects.\n",
    "> It defines attributes and methods that are common to all objects of that class.\n"
   ]
  },
  {
   "attachments": {},
   "cell_type": "markdown",
   "id": "24726dbc",
   "metadata": {},
   "source": [
    "## What is a module?\n",
    "\n",
    "> A module is a file containing Python definitions and statements that can be used in other Python programs.\n",
    "> A module can define functions, classes, and variables.\n",
    "> It can be imported into other Python programs to provide additional functionality.\n"
   ]
  },
  {
   "attachments": {},
   "cell_type": "markdown",
   "id": "7c2ad4cb",
   "metadata": {},
   "source": [
    "# The time Module\n"
   ]
  },
  {
   "attachments": {},
   "cell_type": "markdown",
   "id": "f2ebaa4f",
   "metadata": {},
   "source": [
    "- _time_ module is built-in\n",
    "- _time.time()_ and _time.sleep()_ are the most useful functions\n"
   ]
  },
  {
   "attachments": {},
   "cell_type": "markdown",
   "id": "716aa765",
   "metadata": {},
   "source": [
    "## The time.time() Function\n"
   ]
  },
  {
   "attachments": {},
   "cell_type": "markdown",
   "id": "d6d9d1f9",
   "metadata": {},
   "source": [
    "- the _Unix epoch_ is a time reference commonly used in programming\n",
    "- this _Unix_ timestamp started 12 AM on January 1, 1970, Coordinated Universal Time (UTC)\n",
    "- _time.time()_ function returns the seconds since that moment\n",
    "- this moment is called the _epoch timestamp_\n"
   ]
  },
  {
   "cell_type": "code",
   "execution_count": 1,
   "id": "2e33228c",
   "metadata": {},
   "outputs": [
    {
     "data": {
      "text/plain": [
       "1668552244.517527"
      ]
     },
     "execution_count": 1,
     "metadata": {},
     "output_type": "execute_result"
    }
   ],
   "source": [
    "import time\n",
    "time.time()\n"
   ]
  },
  {
   "attachments": {},
   "cell_type": "markdown",
   "id": "e9f011ed",
   "metadata": {},
   "source": [
    "The return value is how many seconds have passed between\n",
    "the Unix epoch and the moment time.time() was called.\n",
    "\n",
    "- measure how long a piece of code takes to run:\n"
   ]
  },
  {
   "cell_type": "code",
   "execution_count": 4,
   "id": "a756644e",
   "metadata": {},
   "outputs": [
    {
     "name": "stdout",
     "output_type": "stream",
     "text": [
      "The result is 456569 digits long.\n",
      "Took 1.8593878746032715 seconds to calculate.\n"
     ]
    }
   ],
   "source": [
    "import time\n",
    "\n",
    "\n",
    "def calcProd():\n",
    "    # Calculate the product of the first 100,000 numbers.\n",
    "    product = 1\n",
    "    for i in range(1, 100000):\n",
    "        product = product * i\n",
    "    return product\n",
    "\n",
    "\n",
    "startTime = time.time()\n",
    "prod = calcProd()\n",
    "endTime = time.time()\n",
    "print('The result is %s digits long.' % (len(str(prod))))\n",
    "print('Took %s seconds to calculate.' % (endTime - startTime))\n"
   ]
  },
  {
   "attachments": {},
   "cell_type": "markdown",
   "id": "8f8aba01",
   "metadata": {},
   "source": [
    "## Make it human-readable\n"
   ]
  },
  {
   "attachments": {},
   "cell_type": "markdown",
   "id": "c442931d",
   "metadata": {},
   "source": [
    "- _time.ctime()_ function returns a string description of the current time\n",
    "- optionally pass the number of seconds since the _Unix epoch_\n"
   ]
  },
  {
   "cell_type": "code",
   "execution_count": 26,
   "id": "a3139238",
   "metadata": {},
   "outputs": [
    {
     "data": {
      "text/plain": [
       "'Wed Nov 16 01:00:50 2022'"
      ]
     },
     "execution_count": 26,
     "metadata": {},
     "output_type": "execute_result"
    }
   ],
   "source": [
    "time.ctime(time.time())\n"
   ]
  },
  {
   "cell_type": "code",
   "execution_count": 27,
   "id": "5b1126bf",
   "metadata": {},
   "outputs": [
    {
     "data": {
      "text/plain": [
       "'Thu Jan  1 01:00:00 1970'"
      ]
     },
     "execution_count": 27,
     "metadata": {},
     "output_type": "execute_result"
    }
   ],
   "source": [
    "\n",
    "time.ctime(0)  # be aware of our timezone\n"
   ]
  },
  {
   "attachments": {},
   "cell_type": "markdown",
   "id": "4d31b5c5",
   "metadata": {},
   "source": [
    "## The time.sleep() Function\n"
   ]
  },
  {
   "attachments": {},
   "cell_type": "markdown",
   "id": "657ed46c",
   "metadata": {},
   "source": [
    "- useful to pause a programm:\n"
   ]
  },
  {
   "cell_type": "code",
   "execution_count": 28,
   "id": "0eb547a7",
   "metadata": {},
   "outputs": [
    {
     "name": "stdout",
     "output_type": "stream",
     "text": [
      "Tick\n",
      "Tock\n",
      "Tick\n",
      "Tock\n",
      "Tick\n",
      "Tock\n"
     ]
    }
   ],
   "source": [
    "for i in range(3):\n",
    "    print('Tick')\n",
    "    time.sleep(1)\n",
    "    print('Tock')\n",
    "    time.sleep(1)\n"
   ]
  },
  {
   "attachments": {},
   "cell_type": "markdown",
   "id": "572c1144",
   "metadata": {},
   "source": [
    "# The datetime Module\n"
   ]
  },
  {
   "attachments": {},
   "cell_type": "markdown",
   "id": "910c76da",
   "metadata": {},
   "source": [
    "- datetime has it's own data type: _datetime_\n"
   ]
  },
  {
   "cell_type": "code",
   "execution_count": 38,
   "id": "c16189e2",
   "metadata": {},
   "outputs": [
    {
     "data": {
      "text/plain": [
       "datetime.datetime"
      ]
     },
     "execution_count": 38,
     "metadata": {},
     "output_type": "execute_result"
    }
   ],
   "source": [
    "type(datetime.datetime.now())\n"
   ]
  },
  {
   "attachments": {},
   "cell_type": "markdown",
   "id": "6ef5fb82",
   "metadata": {},
   "source": [
    "Get the datetime object of the current time and of a given time:\n"
   ]
  },
  {
   "cell_type": "code",
   "execution_count": 58,
   "id": "be0dcdca",
   "metadata": {},
   "outputs": [
    {
     "data": {
      "text/plain": [
       "datetime.datetime(2022, 11, 16, 1, 52, 18, 78852)"
      ]
     },
     "execution_count": 58,
     "metadata": {},
     "output_type": "execute_result"
    }
   ],
   "source": [
    "import datetime\n",
    "datetime.datetime.now()\n"
   ]
  },
  {
   "cell_type": "code",
   "execution_count": 40,
   "id": "a6b9a88a",
   "metadata": {},
   "outputs": [],
   "source": [
    "dt = datetime.datetime(2019, 10, 21, 16, 29, 0)\n"
   ]
  },
  {
   "attachments": {},
   "cell_type": "markdown",
   "id": "a9829ce2",
   "metadata": {},
   "source": [
    "Get date entities:\n"
   ]
  },
  {
   "cell_type": "code",
   "execution_count": 53,
   "id": "aaef2fa8",
   "metadata": {},
   "outputs": [
    {
     "data": {
      "text/plain": [
       "(2022, 11, 16, 1, 23, 31, 2)"
      ]
     },
     "execution_count": 53,
     "metadata": {},
     "output_type": "execute_result"
    }
   ],
   "source": [
    "dt.year, dt.month, dt.day, dt.hour, dt.minute, dt.second, dt.weekday()\n"
   ]
  },
  {
   "attachments": {},
   "cell_type": "markdown",
   "id": "2304f24d",
   "metadata": {},
   "source": [
    "### Convert UNIX Epoche\n"
   ]
  },
  {
   "cell_type": "code",
   "execution_count": 55,
   "id": "e2d77239",
   "metadata": {},
   "outputs": [
    {
     "data": {
      "text/plain": [
       "datetime.datetime(1970, 1, 12, 14, 46, 40)"
      ]
     },
     "execution_count": 55,
     "metadata": {},
     "output_type": "execute_result"
    }
   ],
   "source": [
    "datetime.fromtimestamp(1000000)\n"
   ]
  },
  {
   "cell_type": "code",
   "execution_count": 56,
   "id": "b87f3a3c",
   "metadata": {},
   "outputs": [
    {
     "data": {
      "text/plain": [
       "datetime.datetime(2022, 11, 16, 1, 52, 1, 345464)"
      ]
     },
     "execution_count": 56,
     "metadata": {},
     "output_type": "execute_result"
    }
   ],
   "source": [
    "datetime.fromtimestamp(time.time())\n"
   ]
  },
  {
   "attachments": {},
   "cell_type": "markdown",
   "id": "ef040216",
   "metadata": {},
   "source": [
    "### Converting datetime Objects into Strings\n"
   ]
  },
  {
   "attachments": {},
   "cell_type": "markdown",
   "id": "7cf4232a",
   "metadata": {},
   "source": [
    "- use strftime() to make datetime objects human-readable\n",
    "\n",
    "| strftime() directive | Meaning                   |\n",
    "| -------------------- | ------------------------- |\n",
    "| %Y                   | Year                      |\n",
    "| %y                   | Year                      |\n",
    "| %m                   | Month                     |\n",
    "| %B                   | Month full name           |\n",
    "| %b                   | Month name abbrevation    |\n",
    "| %d                   | day of month              |\n",
    "| %j                   | day of year               |\n",
    "| %w                   | day of week (starts at 0) |\n",
    "| %A                   | full weekday              |\n",
    "| %a                   | weekday name              |\n",
    "| %H                   | hours (24h)               |\n",
    "| %I                   | hours (12h)               |\n",
    "| %M                   | Minute                    |\n",
    "| %S                   | seconds                   |\n",
    "| %p                   | 'AM'or 'PM'               |\n"
   ]
  },
  {
   "cell_type": "code",
   "execution_count": 51,
   "id": "b34770a2",
   "metadata": {},
   "outputs": [
    {
     "data": {
      "text/plain": [
       "'2019/10/21 16:29:00'"
      ]
     },
     "execution_count": 51,
     "metadata": {},
     "output_type": "execute_result"
    }
   ],
   "source": [
    "oct21st = datetime.datetime(2019, 10, 21, 16, 29, 0)\n",
    "oct21st.strftime('%Y/%m/%d %H:%M:%S')\n"
   ]
  },
  {
   "attachments": {},
   "cell_type": "markdown",
   "id": "ae0d34e4",
   "metadata": {},
   "source": [
    "### Converting Strings into datetime Objects\n"
   ]
  },
  {
   "attachments": {},
   "cell_type": "markdown",
   "id": "65a54531",
   "metadata": {},
   "source": [
    "- The strptime() function is the inverse of the strftime() method:\n"
   ]
  },
  {
   "cell_type": "code",
   "execution_count": 52,
   "id": "f30bfe3d",
   "metadata": {},
   "outputs": [
    {
     "data": {
      "text/plain": [
       "datetime.datetime(2019, 10, 21, 0, 0)"
      ]
     },
     "execution_count": 52,
     "metadata": {},
     "output_type": "execute_result"
    }
   ],
   "source": [
    "datetime.datetime.strptime('October 21, 2019', '%B %d, %Y')\n"
   ]
  },
  {
   "attachments": {},
   "cell_type": "markdown",
   "id": "9bbbdc37",
   "metadata": {},
   "source": [
    "## Calendar Module\n",
    "\n",
    "- The calendar module provides functions to work with calendars.\n",
    "\n",
    "\n",
    "- The module can be used to perform a variety of operations on calendars:\n",
    "\n",
    "1. generating calendars for a specific year or month\n",
    "2. checking whether a year is a leap year\n",
    "\n",
    "\n"
   ]
  },
  {
   "attachments": {},
   "cell_type": "markdown",
   "id": "8d531737",
   "metadata": {},
   "source": [
    "### calendar.isleap() method\n",
    "\n",
    "- The calendar.isleap() method is used to check for a leap year.\n",
    "- It takes one argument: the year as an integer.\n"
   ]
  },
  {
   "cell_type": "code",
   "execution_count": 3,
   "id": "836e8c42",
   "metadata": {},
   "outputs": [
    {
     "name": "stdout",
     "output_type": "stream",
     "text": [
      "2024 is a leap year\n"
     ]
    }
   ],
   "source": [
    "import calendar\n",
    "\n",
    "# check if the year 2024 is a leap year\n",
    "if calendar.isleap(2024):\n",
    "    print(\"2024 is a leap year\")\n",
    "else:\n",
    "    print(\"2024 is not a leap year\")\n"
   ]
  },
  {
   "attachments": {},
   "cell_type": "markdown",
   "id": "3e2f33ba",
   "metadata": {},
   "source": [
    "### calendar.month() method\n",
    "\n",
    "- The calendar.month() method is used to generate a string representation of a calendar.\n",
    "- It takes two arguments:\n",
    "\n",
    "1. the year as an integer\n",
    "2. the month as an integer between 1 and 12."
   ]
  },
  {
   "cell_type": "code",
   "execution_count": 1,
   "id": "acb02143",
   "metadata": {},
   "outputs": [
    {
     "name": "stdout",
     "output_type": "stream",
     "text": [
      "   December 2022\n",
      "Mo Tu We Th Fr Sa Su\n",
      "          1  2  3  4\n",
      " 5  6  7  8  9 10 11\n",
      "12 13 14 15 16 17 18\n",
      "19 20 21 22 23 24 25\n",
      "26 27 28 29 30 31\n",
      "\n"
     ]
    }
   ],
   "source": [
    "import calendar\n",
    "print(calendar.month(2022, 12))\n"
   ]
  },
  {
   "attachments": {},
   "cell_type": "markdown",
   "id": "1a73f9ff",
   "metadata": {},
   "source": [
    "- It has several methods for customizing the display of the\n",
    "  calendar:\n",
    "\n",
    "1. setfirstweekday(weekday): sets the first day of the week to be displayed in the calendar.\n",
    "2. firstweekday(): returns the current setting for the first day of the week.\n",
    "\n",
    "Here's an example of using the TextCalendar class to create a calendar for March 2023, with the first day of the week\n",
    "set to Tuesday:\n"
   ]
  },
  {
   "cell_type": "code",
   "execution_count": 8,
   "id": "57d1c4ea",
   "metadata": {},
   "outputs": [
    {
     "name": "stdout",
     "output_type": "stream",
     "text": [
      "1\n",
      "     March 2023\n",
      "Tu We Th Fr Sa Su Mo\n",
      "    1  2  3  4  5  6\n",
      " 7  8  9 10 11 12 13\n",
      "14 15 16 17 18 19 20\n",
      "21 22 23 24 25 26 27\n",
      "28 29 30 31\n",
      "\n"
     ]
    }
   ],
   "source": [
    "import calendar\n",
    "\n",
    "# create a TextCalendar object\n",
    "cal = calendar.TextCalendar()\n",
    "\n",
    "# set the first day of the week to be Monday\n",
    "cal.setfirstweekday(1)   # or calendar.TUESDAY instead of 1\n",
    "\n",
    "# display the calendar for March 2023\n",
    "print(cal.formatmonth(2023, 3))\n"
   ]
  },
  {
   "cell_type": "code",
   "execution_count": 14,
   "id": "1aa9ee6e",
   "metadata": {},
   "outputs": [
    {
     "name": "stdout",
     "output_type": "stream",
     "text": [
      "   December 2022\n",
      "We Th Fr Sa Su Mo Tu\n",
      "    1  2  3  4  5  6\n",
      " 7  8  9 10 11 12 13\n",
      "14 15 16 17 18 19 20\n",
      "21 22 23 24 25 26 27\n",
      "28 29 30 31\n",
      "\n"
     ]
    },
    {
     "data": {
      "text/plain": [
       "2"
      ]
     },
     "execution_count": 14,
     "metadata": {},
     "output_type": "execute_result"
    }
   ],
   "source": [
    "calendar.setfirstweekday(2)\n",
    "print(calendar.month(2022, 12))\n",
    "calendar.firstweekday()\n"
   ]
  },
  {
   "attachments": {},
   "cell_type": "markdown",
   "id": "92f4765f",
   "metadata": {},
   "source": [
    "### Arithmetics with Datetime"
   ]
  },
  {
   "cell_type": "code",
   "execution_count": 41,
   "id": "86b562bf",
   "metadata": {},
   "outputs": [
    {
     "data": {
      "text/plain": [
       "True"
      ]
     },
     "execution_count": 41,
     "metadata": {},
     "output_type": "execute_result"
    }
   ],
   "source": [
    "halloween2019 = datetime.datetime(2019, 10, 31, 0, 0, 0)\n",
    "newyears2020 = datetime.datetime(2020, 1, 1, 0, 0, 0)\n",
    "oct31_2019 = datetime.datetime(2019, 10, 31, 0, 0, 0)\n",
    "halloween2019 == oct31_2019\n"
   ]
  },
  {
   "cell_type": "code",
   "execution_count": 42,
   "id": "11d5a309",
   "metadata": {},
   "outputs": [
    {
     "data": {
      "text/plain": [
       "False"
      ]
     },
     "execution_count": 42,
     "metadata": {},
     "output_type": "execute_result"
    }
   ],
   "source": [
    "halloween2019 > newyears2020\n"
   ]
  },
  {
   "cell_type": "code",
   "execution_count": 43,
   "id": "a7c218bc",
   "metadata": {},
   "outputs": [
    {
     "data": {
      "text/plain": [
       "True"
      ]
     },
     "execution_count": 43,
     "metadata": {},
     "output_type": "execute_result"
    }
   ],
   "source": [
    "newyears2020 > halloween2019\n"
   ]
  },
  {
   "cell_type": "code",
   "execution_count": 44,
   "id": "bbd04e6a",
   "metadata": {},
   "outputs": [
    {
     "data": {
      "text/plain": [
       "True"
      ]
     },
     "execution_count": 44,
     "metadata": {},
     "output_type": "execute_result"
    }
   ],
   "source": [
    "newyears2020 != oct31_2019\n"
   ]
  },
  {
   "attachments": {},
   "cell_type": "markdown",
   "id": "cef68c06",
   "metadata": {},
   "source": [
    "## The timedelta Data Type\n"
   ]
  },
  {
   "attachments": {},
   "cell_type": "markdown",
   "id": "aef6c788",
   "metadata": {},
   "source": [
    "- represents a duration of time rather than a moment in time\n"
   ]
  },
  {
   "cell_type": "code",
   "execution_count": 45,
   "id": "93bf865a",
   "metadata": {},
   "outputs": [
    {
     "data": {
      "text/plain": [
       "(11, 36548, 0)"
      ]
     },
     "execution_count": 45,
     "metadata": {},
     "output_type": "execute_result"
    }
   ],
   "source": [
    "delta = datetime.timedelta(days=11, hours=10, minutes=9, seconds=8)\n",
    "delta.days, delta.seconds, delta.microseconds\n"
   ]
  },
  {
   "cell_type": "code",
   "execution_count": 46,
   "id": "19d0628f",
   "metadata": {},
   "outputs": [
    {
     "data": {
      "text/plain": [
       "986948.0"
      ]
     },
     "execution_count": 46,
     "metadata": {},
     "output_type": "execute_result"
    }
   ],
   "source": [
    "delta.total_seconds()\n"
   ]
  },
  {
   "cell_type": "code",
   "execution_count": 47,
   "id": "f86a1e89",
   "metadata": {},
   "outputs": [
    {
     "data": {
      "text/plain": [
       "'11 days, 10:09:08'"
      ]
     },
     "execution_count": 47,
     "metadata": {},
     "output_type": "execute_result"
    }
   ],
   "source": [
    "str(delta)\n"
   ]
  },
  {
   "attachments": {},
   "cell_type": "markdown",
   "id": "3732553a",
   "metadata": {},
   "source": [
    "### Arithmetics with timedelta\n"
   ]
  },
  {
   "cell_type": "code",
   "execution_count": 49,
   "id": "891831e6",
   "metadata": {},
   "outputs": [
    {
     "data": {
      "text/plain": [
       "datetime.datetime(2022, 11, 16, 1, 23, 31, 923967)"
      ]
     },
     "execution_count": 49,
     "metadata": {},
     "output_type": "execute_result"
    }
   ],
   "source": [
    "dt = datetime.datetime.now()\n",
    "thousandDays = datetime.timedelta(days=1000)\n",
    "dt\n"
   ]
  },
  {
   "cell_type": "code",
   "execution_count": 50,
   "id": "b1c525a9",
   "metadata": {},
   "outputs": [
    {
     "data": {
      "text/plain": [
       "datetime.datetime(2025, 8, 12, 1, 23, 31, 923967)"
      ]
     },
     "execution_count": 50,
     "metadata": {},
     "output_type": "execute_result"
    }
   ],
   "source": [
    "dt + thousandDays\n"
   ]
  },
  {
   "attachments": {},
   "cell_type": "markdown",
   "id": "c9bcb444",
   "metadata": {},
   "source": [
    "## dateutil\n"
   ]
  },
  {
   "cell_type": "markdown",
   "id": "cc2391b3",
   "metadata": {},
   "source": [
    "- install it: `python3 -m pip install dateutil`\n",
    "- supports timezones\n"
   ]
  },
  {
   "cell_type": "code",
   "execution_count": 1,
   "id": "3439ac15",
   "metadata": {},
   "outputs": [],
   "source": [
    "from dateutil import tz  # don't forget to install dateutil\n",
    "import datetime\n"
   ]
  },
  {
   "attachments": {},
   "cell_type": "markdown",
   "id": "96d3cd3d",
   "metadata": {},
   "source": [
    "#### Convert between different timezones\n"
   ]
  },
  {
   "attachments": {},
   "cell_type": "markdown",
   "id": "78b8e0ab",
   "metadata": {},
   "source": [
    "Look at the timezone default of the tz module:\n"
   ]
  },
  {
   "cell_type": "code",
   "execution_count": 2,
   "id": "324e3c2a",
   "metadata": {},
   "outputs": [
    {
     "data": {
      "text/plain": [
       "tzfile('/etc/localtime')"
      ]
     },
     "execution_count": 2,
     "metadata": {},
     "output_type": "execute_result"
    }
   ],
   "source": [
    "tz.gettz()\n"
   ]
  },
  {
   "attachments": {},
   "cell_type": "markdown",
   "id": "a88fa41f",
   "metadata": {},
   "source": [
    "- This function is also the preferred way to map IANA tz database keys to tzfile objects\n",
    "- Internet Assigned Numbers Authority (IANA)\n",
    "- Create an tz object with another timezone:\n"
   ]
  },
  {
   "cell_type": "code",
   "execution_count": 3,
   "id": "4ce52eb5",
   "metadata": {},
   "outputs": [
    {
     "data": {
      "text/plain": [
       "tzfile('/usr/share/zoneinfo/America/Los_Angeles')"
      ]
     },
     "execution_count": 3,
     "metadata": {},
     "output_type": "execute_result"
    }
   ],
   "source": [
    "usa = \"America/Los_Angeles\"\n",
    "usa_tz = tz.gettz(usa)\n",
    "(usa_tz)\n"
   ]
  },
  {
   "attachments": {},
   "cell_type": "markdown",
   "id": "e30071c7",
   "metadata": {},
   "source": [
    "- set the tz in datetime:\n"
   ]
  },
  {
   "cell_type": "code",
   "execution_count": 5,
   "id": "a5e046cf",
   "metadata": {},
   "outputs": [
    {
     "data": {
      "text/plain": [
       "datetime.datetime(2021, 8, 1, 13, 35, tzinfo=tzfile('/usr/share/zoneinfo/America/Los_Angeles'))"
      ]
     },
     "execution_count": 5,
     "metadata": {},
     "output_type": "execute_result"
    }
   ],
   "source": [
    "meeting_LA = datetime.datetime(2021, 8, 1, hour=13, minute=35, tzinfo=usa_tz)\n",
    "meeting_LA\n"
   ]
  },
  {
   "attachments": {},
   "cell_type": "markdown",
   "id": "422b43a4",
   "metadata": {},
   "source": [
    "- convert with _.astimezone()_:\n"
   ]
  },
  {
   "cell_type": "code",
   "execution_count": 6,
   "id": "dcdafa66",
   "metadata": {},
   "outputs": [
    {
     "data": {
      "text/plain": [
       "datetime.datetime(2021, 8, 1, 22, 35, tzinfo=tzfile('/etc/localtime'))"
      ]
     },
     "execution_count": 6,
     "metadata": {},
     "output_type": "execute_result"
    }
   ],
   "source": [
    "meeting_LA.astimezone(tz.gettz())\n"
   ]
  },
  {
   "attachments": {},
   "cell_type": "markdown",
   "id": "c27e2491",
   "metadata": {},
   "source": [
    "##### Convert UNIX Epoch timestamp in right timezone\n"
   ]
  },
  {
   "cell_type": "code",
   "execution_count": 8,
   "id": "e0b37a76",
   "metadata": {},
   "outputs": [
    {
     "data": {
      "text/plain": [
       "datetime.datetime(1970, 1, 1, 1, 0)"
      ]
     },
     "execution_count": 8,
     "metadata": {},
     "output_type": "execute_result"
    }
   ],
   "source": [
    "unix_epoch = datetime.datetime.fromtimestamp(0)\n",
    "unix_epoch\n"
   ]
  },
  {
   "cell_type": "code",
   "execution_count": 11,
   "id": "00984fcc",
   "metadata": {},
   "outputs": [
    {
     "data": {
      "text/plain": [
       "datetime.datetime(1970, 1, 1, 0, 0, tzinfo=tzfile('/usr/share/zoneinfo/UTC'))"
      ]
     },
     "execution_count": 11,
     "metadata": {},
     "output_type": "execute_result"
    }
   ],
   "source": [
    "unix_epoch.astimezone(tz.gettz('UTC'))\n"
   ]
  },
  {
   "attachments": {},
   "cell_type": "markdown",
   "id": "5de6038e",
   "metadata": {},
   "source": [
    "### Exercises\n",
    "\n",
    "1. https://github.com/dci-python-course/Python-datetime-creation/tree/main\n",
    "   (now(),.year, weekday(), calendar.isleap(2021), strptime(MY_DATE, \"%b ...\"))\n",
    "2. https://github.com/dci-python-course/Python-datetime-manipulation/tree/main\n",
    "   (timedelta(days=15), strftime(\"%Y...\"))\n",
    "3. https://github.com/dci-python-course/Python-timezones/tree/main\n",
    "   (tz, birthday.tzname(), .astimezone(...), tz.gettz(\"Europe/Moscow\"))\n"
   ]
  }
 ],
 "metadata": {
  "kernelspec": {
   "display_name": "Python 3 (ipykernel)",
   "language": "python",
   "name": "python3"
  },
  "language_info": {
   "codemirror_mode": {
    "name": "ipython",
    "version": 3
   },
   "file_extension": ".py",
   "mimetype": "text/x-python",
   "name": "python",
   "nbconvert_exporter": "python",
   "pygments_lexer": "ipython3",
   "version": "3.8.10"
  },
  "widgets": {
   "application/vnd.jupyter.widget-state+json": {
    "state": {},
    "version_major": 2,
    "version_minor": 0
   }
  }
 },
 "nbformat": 4,
 "nbformat_minor": 5
}
