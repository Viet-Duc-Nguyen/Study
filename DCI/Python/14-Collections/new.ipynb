{
 "cells": [
  {
   "attachments": {},
   "cell_type": "markdown",
   "metadata": {},
   "source": [
    "Today:\n",
    "- collections module (setdefault, Counter)\n",
    "- set theory"
   ]
  },
  {
   "attachments": {},
   "cell_type": "markdown",
   "metadata": {},
   "source": [
    "- Problem: Suppose you have a string of words and you want to get the index of the occurrence of each word\n",
    "- Idea: Use dictionaries "
   ]
  },
  {
   "cell_type": "code",
   "execution_count": 8,
   "metadata": {},
   "outputs": [
    {
     "name": "stdout",
     "output_type": "stream",
     "text": [
      "{'Beautiful': [0], 'is': [1, 6, 11, 16, 21, 26, 89, 95, 104, 115], 'better': [2, 7, 12, 17, 22, 27, 90, 97], 'than': [3, 8, 13, 18, 23, 28, 91, 98], 'ugly.': [4], 'Explicit': [5], 'implicit.': [9], 'Simple': [10], 'complex.': [14], 'Complex': [15], 'complicated.': [19], 'Flat': [20], 'nested.': [24], 'Sparse': [25], 'dense.': [29], 'Readability': [30], 'counts.': [31], 'Special': [32], 'cases': [33], \"aren't\": [34], 'special': [35], 'enough': [36], 'to': [37, 61, 73, 106, 117], 'break': [38], 'the': [39, 54, 59, 102, 113], 'rules.': [40], 'Although': [41, 76, 93], 'practicality': [42], 'beats': [43], 'purity.': [44], 'Errors': [45], 'should': [46, 64], 'never': [47, 94], 'pass': [48], 'silently.': [49], 'Unless': [50], 'explicitly': [51], 'silenced.': [52], 'In': [53], 'face': [55], 'of': [56, 135], 'ambiguity,': [57], 'refuse': [58], 'temptation': [60], 'guess.': [62], 'There': [63], 'be': [65, 81, 121], 'one--': [66], 'and': [67], 'preferably': [68], 'only': [69], 'one': [70, 127], '--obvious': [71], 'way': [72, 78], 'do': [74, 133], 'it.': [75], 'that': [77], 'may': [79, 120], 'not': [80], 'obvious': [82], 'at': [83], 'first': [84], 'unless': [85], \"you're\": [86], 'Dutch.': [87], 'Now': [88], 'never.': [92], 'often': [96], '*right*': [99], 'now.': [100], 'If': [101, 112], 'implementation': [103, 114], 'hard': [105], 'explain,': [107, 118], \"it's\": [108], 'a': [109, 122], 'bad': [110], 'idea.': [111, 124], 'easy': [116], 'it': [119], 'good': [123], 'Namespaces': [125], 'are': [126], 'honking': [128], 'great': [129], 'idea': [130], '--': [131], \"let's\": [132], 'more': [134], 'those!': [136]}\n"
     ]
    }
   ],
   "source": [
    "zen_python = '''\n",
    "Beautiful is better than ugly.\n",
    "Explicit is better than implicit.\n",
    "Simple is better than complex.\n",
    "Complex is better than complicated.\n",
    "Flat is better than nested.\n",
    "Sparse is better than dense.\n",
    "Readability counts.\n",
    "Special cases aren't special enough to break the rules.\n",
    "Although practicality beats purity.\n",
    "Errors should never pass silently.\n",
    "Unless explicitly silenced.\n",
    "In the face of ambiguity, refuse the temptation to guess.\n",
    "There should be one-- and preferably only one --obvious way to do it.\n",
    "Although that way may not be obvious at first unless you're Dutch.\n",
    "Now is better than never.\n",
    "Although never is often better than *right* now.\n",
    "If the implementation is hard to explain, it's a bad idea.\n",
    "If the implementation is easy to explain, it may be a good idea.\n",
    "Namespaces are one honking great idea -- let's do more of those!\n",
    "'''\n",
    "\n",
    "words = zen_python.split()\n",
    "dict_index = {}\n",
    "\n",
    "for word in words:\n",
    "    dict_index[word] = []\n",
    "\n",
    "\n",
    "for index, word in enumerate(words):\n",
    "    dict_index[word].append(index)\n",
    "print(dict_index)\n"
   ]
  },
  {
   "cell_type": "code",
   "execution_count": 10,
   "metadata": {},
   "outputs": [
    {
     "name": "stdout",
     "output_type": "stream",
     "text": [
      "[1]\n",
      "[1, 6]\n",
      "[1, 6, 11]\n",
      "[1, 6, 11, 16]\n",
      "[1, 6, 11, 16, 21]\n",
      "[1, 6, 11, 16, 21, 26]\n",
      "[1, 6, 11, 16, 21, 26, 89]\n",
      "[1, 6, 11, 16, 21, 26, 89, 95]\n",
      "[1, 6, 11, 16, 21, 26, 89, 95, 104]\n",
      "[1, 6, 11, 16, 21, 26, 89, 95, 104, 115]\n"
     ]
    }
   ],
   "source": [
    "zen_python = '''\n",
    "Beautiful is better than ugly.\n",
    "Explicit is better than implicit.\n",
    "Simple is better than complex.\n",
    "Complex is better than complicated.\n",
    "Flat is better than nested.\n",
    "Sparse is better than dense.\n",
    "Readability counts.\n",
    "Special cases aren't special enough to break the rules.\n",
    "Although practicality beats purity.\n",
    "Errors should never pass silently.\n",
    "Unless explicitly silenced.\n",
    "In the face of ambiguity, refuse the temptation to guess.\n",
    "There should be one-- and preferably only one --obvious way to do it.\n",
    "Although that way may not be obvious at first unless you're Dutch.\n",
    "Now is better than never.\n",
    "Although never is often better than *right* now.\n",
    "If the implementation is hard to explain, it's a bad idea.\n",
    "If the implementation is easy to explain, it may be a good idea.\n",
    "Namespaces are one honking great idea -- let's do more of those!\n",
    "'''\n",
    "\n",
    "words = zen_python.split()\n",
    "dict_index = {}\n",
    "\n",
    "for index, word in enumerate(words):\n",
    "    ocurrences = dict_index.get(word, []) # always returns a lis\n",
    "    ocurrences.append(index)\n",
    "    dict_index[word] = ocurrences\n",
    "\n",
    "    if word == 'is':\n",
    "        print(dict_index['is'])"
   ]
  },
  {
   "cell_type": "code",
   "execution_count": 9,
   "metadata": {},
   "outputs": [
    {
     "name": "stdout",
     "output_type": "stream",
     "text": [
      "1 2\n",
      "3 4\n"
     ]
    }
   ],
   "source": [
    "nested_list = [[1, 2], [3, 4]]\n",
    "nested_list = [(1, 2), (3, 4)]\n",
    "\n",
    "for item1, item2 in nested_list:\n",
    "    print(item1, item2)"
   ]
  },
  {
   "attachments": {},
   "cell_type": "markdown",
   "metadata": {},
   "source": [
    "## Automatic Handling of Missng Keys\n",
    "### collections.defaultdict\n",
    "\n",
    "A collections.defaultdict instance creates items with a default value\n"
   ]
  },
  {
   "cell_type": "code",
   "execution_count": 14,
   "metadata": {},
   "outputs": [
    {
     "name": "stdout",
     "output_type": "stream",
     "text": [
      "defaultdict(<function default_helper at 0x000001F4BF6C0860>, {})\n",
      "Hello\n",
      "value1\n"
     ]
    }
   ],
   "source": [
    "import collections\n",
    "\n",
    "def default_helper():\n",
    "    return 'Hello'\n",
    "\n",
    "\n",
    "my_dict = collections.defaultdict(default_helper)\n",
    "\n",
    "print(my_dict)\n",
    "print(my_dict['word'])\n",
    "\n",
    "my_dict['key1'] = 'value1'\n",
    "print(my_dict['key1'])"
   ]
  },
  {
   "cell_type": "code",
   "execution_count": 18,
   "metadata": {},
   "outputs": [
    {
     "name": "stdout",
     "output_type": "stream",
     "text": [
      "Bla\n",
      "hello\n"
     ]
    }
   ],
   "source": [
    "def default_helper():\n",
    "    return 'Bla'\n",
    "dict_index = collections.defaultdict(default_helper)\n",
    "\n",
    "print(dict_index['is'])\n",
    "\n",
    "dict_index['is'] = 'hello'\n",
    "print(dict_index['is'])"
   ]
  },
  {
   "cell_type": "code",
   "execution_count": 21,
   "metadata": {},
   "outputs": [
    {
     "name": "stdout",
     "output_type": "stream",
     "text": [
      "('Beautiful', [0])\n",
      "('is', [1, 6, 11, 16, 21, 26, 89, 95, 104, 115])\n",
      "('better', [2, 7, 12, 17, 22, 27, 90, 97])\n"
     ]
    }
   ],
   "source": [
    "def default_helper():\n",
    "    return []\n",
    "\n",
    "dict_index = collections.defaultdict(default_helper)\n",
    "# dict_index = collections.defaultdict(lambda: [])    # possible just to use lambda\n",
    "\n",
    "\n",
    "for index, word in enumerate(words):\n",
    "    ocurrences = dict_index[word]\n",
    "    ocurrences.append(index)\n",
    "    \n",
    "for word in list(dict_index.items())[:3]:\n",
    "    print(word)"
   ]
  },
  {
   "attachments": {},
   "cell_type": "markdown",
   "metadata": {},
   "source": [
    "### collections.Counter\n",
    "\n",
    "A mapping that holds an integer count for each key.\n",
    "Updating an existing key adds to its count."
   ]
  },
  {
   "cell_type": "code",
   "execution_count": 23,
   "metadata": {},
   "outputs": [
    {
     "data": {
      "text/plain": [
       "Counter({'a': 5, 'b': 2, 'r': 2, 'c': 1, 'd': 1})"
      ]
     },
     "execution_count": 23,
     "metadata": {},
     "output_type": "execute_result"
    }
   ],
   "source": [
    "ct = collections.Counter('abracadabra')\n",
    "ct \n"
   ]
  },
  {
   "cell_type": "code",
   "execution_count": 50,
   "metadata": {},
   "outputs": [
    {
     "data": {
      "text/plain": [
       "Counter({'a': 9, 'z': 3, 'b': 2, 'r': 2, ' ': 2, 'c': 1, 'd': 1})"
      ]
     },
     "execution_count": 50,
     "metadata": {},
     "output_type": "execute_result"
    }
   ],
   "source": [
    "ct = collections.Counter('abracadabra')\n",
    "ct.update('aaaazzz  ')\n",
    "\n",
    "ct"
   ]
  },
  {
   "cell_type": "code",
   "execution_count": 49,
   "metadata": {},
   "outputs": [
    {
     "data": {
      "text/plain": [
       "[('a', 9), ('z', 3)]"
      ]
     },
     "execution_count": 49,
     "metadata": {},
     "output_type": "execute_result"
    }
   ],
   "source": [
    "ct.most_common(2)"
   ]
  },
  {
   "cell_type": "code",
   "execution_count": 51,
   "metadata": {},
   "outputs": [
    {
     "data": {
      "text/plain": [
       "2"
      ]
     },
     "execution_count": 51,
     "metadata": {},
     "output_type": "execute_result"
    }
   ],
   "source": [
    "subjects = [\n",
    "    {'name': 'English', 'grade': 'A'},\n",
    "    {'name': 'German', 'grade': 'F'},\n",
    "    {'name': 'Maths', 'grade': 'F'},\n",
    "]\n",
    "\n",
    "ct2 = collections.Counter()\n",
    "\n",
    "for subject in subjects:\n",
    "    ct2.update(subject['grade'])\n",
    "\n",
    "ct2['F']"
   ]
  },
  {
   "cell_type": "code",
   "execution_count": 54,
   "metadata": {},
   "outputs": [
    {
     "name": "stdout",
     "output_type": "stream",
     "text": [
      "['A', 'F', 'F']\n",
      "Counter({'F': 2, 'A': 1})\n",
      "2\n"
     ]
    }
   ],
   "source": [
    "grades = [subject['grade'] for subject in subjects]\n",
    "print(grades)\n",
    "\n",
    "ct2 = collections.Counter(grades)\n",
    "print(ct2)\n",
    "print(ct2['F'])"
   ]
  },
  {
   "cell_type": "code",
   "execution_count": 56,
   "metadata": {},
   "outputs": [
    {
     "name": "stdout",
     "output_type": "stream",
     "text": [
      "2\n"
     ]
    }
   ],
   "source": [
    "ct2 = collections.Counter([subject['grade'] for subject in subjects])\n",
    "\n",
    "print(ct2['F'])"
   ]
  },
  {
   "attachments": {},
   "cell_type": "markdown",
   "metadata": {},
   "source": [
    "# Sets and Set Theory\n",
    "\n",
    "- In Py, sets are used to store collections of unique elements\n",
    "- The elements in a set can be of any data type that is immutable\n",
    "\n",
    "Sets are particularly useful when you need to perform mathematical operations:\n",
    "1. intersection\n",
    "2. union\n",
    "3. difference\n",
    "4. and more"
   ]
  },
  {
   "attachments": {},
   "cell_type": "markdown",
   "metadata": {},
   "source": [
    "When to use sets in Py:\n",
    "\n",
    "1. Removing duplicates\n",
    "2. Checking membership\n",
    "3. sets have hashable data types as elements: therefore, you can use the set's elements as dict keys"
   ]
  },
  {
   "attachments": {},
   "cell_type": "markdown",
   "metadata": {},
   "source": [
    "- set is mutable\n",
    "- frozenset is immutable\n",
    "\n",
    "A basic use case is removing duplication:\n"
   ]
  },
  {
   "cell_type": "code",
   "execution_count": 63,
   "metadata": {},
   "outputs": [
    {
     "data": {
      "text/plain": [
       "{'bacon', 'eggs', 'spam'}"
      ]
     },
     "execution_count": 63,
     "metadata": {},
     "output_type": "execute_result"
    }
   ],
   "source": [
    "l = ['spam', 'spam', 'eggs', 'spam', 'bacon', 'eggs']\n",
    "set(l)"
   ]
  },
  {
   "attachments": {},
   "cell_type": "markdown",
   "metadata": {},
   "source": [
    "Set elements must be hashable.\n",
    "\n",
    "### What is Hashable\n",
    "\n",
    "- an object that has a hash code which never changes during its lifetime\n",
    "- with the hash we can compare two objects\n",
    "\n",
    "- Hashable objects which compare equal must have the same hash Code\n",
    "\n",
    "- Numeric types, str are all hashable\n",
    "- immutable sequnce like a tuple are also hashable and can therefore be used in sets"
   ]
  },
  {
   "cell_type": "code",
   "execution_count": 64,
   "metadata": {},
   "outputs": [
    {
     "data": {
      "text/plain": [
       "set()"
      ]
     },
     "execution_count": 64,
     "metadata": {},
     "output_type": "execute_result"
    }
   ],
   "source": [
    "set()"
   ]
  },
  {
   "cell_type": "code",
   "execution_count": null,
   "metadata": {},
   "outputs": [],
   "source": [
    "frozen_set = frozenset([1,2,3])\n"
   ]
  },
  {
   "cell_type": "code",
   "execution_count": 65,
   "metadata": {},
   "outputs": [
    {
     "ename": "NameError",
     "evalue": "name 'frozen_set' is not defined",
     "output_type": "error",
     "traceback": [
      "\u001b[1;31m---------------------------------------------------------------------------\u001b[0m",
      "\u001b[1;31mNameError\u001b[0m                                 Traceback (most recent call last)",
      "Cell \u001b[1;32mIn[65], line 1\u001b[0m\n\u001b[1;32m----> 1\u001b[0m \u001b[39mhash\u001b[39m(frozen_set)\n",
      "\u001b[1;31mNameError\u001b[0m: name 'frozen_set' is not defined"
     ]
    }
   ],
   "source": [
    "hash(frozen_set)"
   ]
  },
  {
   "attachments": {},
   "cell_type": "markdown",
   "metadata": {},
   "source": [
    "- The hash code of an object ma be differet:\n",
    "it depends:\n",
    "1. py version\n",
    "2. machine architecture\n",
    "- the hash code of a correctly implemented object is guarateed to be consant obly within one Py process"
   ]
  },
  {
   "cell_type": "code",
   "execution_count": 66,
   "metadata": {},
   "outputs": [
    {
     "data": {
      "text/plain": [
       "set"
      ]
     },
     "execution_count": 66,
     "metadata": {},
     "output_type": "execute_result"
    }
   ],
   "source": [
    "# - define an empty set:\n",
    "\n",
    "s = set()\n",
    "type(s)"
   ]
  },
  {
   "cell_type": "code",
   "execution_count": 76,
   "metadata": {},
   "outputs": [
    {
     "data": {
      "text/plain": [
       "{1.0, 2.0, 3.0, 5}"
      ]
     },
     "execution_count": 76,
     "metadata": {},
     "output_type": "execute_result"
    }
   ],
   "source": [
    "s = {1.0, 2.0, 3.0}\n",
    "s.add(5)\n",
    "s"
   ]
  },
  {
   "attachments": {},
   "cell_type": "markdown",
   "metadata": {},
   "source": [
    "- adding elements to a set may change the order of existing elements"
   ]
  },
  {
   "cell_type": "code",
   "execution_count": 86,
   "metadata": {},
   "outputs": [
    {
     "data": {
      "text/plain": [
       "{2.0, 3.0}"
      ]
     },
     "execution_count": 86,
     "metadata": {},
     "output_type": "execute_result"
    }
   ],
   "source": [
    "s = {1.0, 2.0, 3.0}\n",
    "s.pop()\n",
    "s"
   ]
  },
  {
   "attachments": {},
   "cell_type": "markdown",
   "metadata": {},
   "source": [
    "- There is no special syntax to represent frozenset (immutable) literals"
   ]
  },
  {
   "cell_type": "code",
   "execution_count": 88,
   "metadata": {},
   "outputs": [
    {
     "data": {
      "text/plain": [
       "[1, 2, 3, 4]"
      ]
     },
     "execution_count": 88,
     "metadata": {},
     "output_type": "execute_result"
    }
   ],
   "source": [
    "s_frozen = frozenset([1,2,3,4])\n",
    "s_frozen\n",
    "\n",
    "my_list = list(s_frozen)\n",
    "my_list"
   ]
  },
  {
   "cell_type": "code",
   "execution_count": 89,
   "metadata": {},
   "outputs": [
    {
     "data": {
      "text/plain": [
       "['h', 'e', 'l', 'l', 'o']"
      ]
     },
     "execution_count": 89,
     "metadata": {},
     "output_type": "execute_result"
    }
   ],
   "source": [
    "list('hello')"
   ]
  },
  {
   "attachments": {},
   "cell_type": "markdown",
   "metadata": {},
   "source": [
    "## Set Comprehensions"
   ]
  },
  {
   "cell_type": "code",
   "execution_count": 96,
   "metadata": {},
   "outputs": [
    {
     "name": "stdout",
     "output_type": "stream",
     "text": [
      "2\n"
     ]
    },
    {
     "data": {
      "text/plain": [
       "{'egg', 'spam'}"
      ]
     },
     "execution_count": 96,
     "metadata": {},
     "output_type": "execute_result"
    }
   ],
   "source": [
    "l = ['spam', 'spam', 'egg']\n",
    "print(l.count('spam'))\n",
    "\n",
    "my_set = {item for item in l} # The order may change\n",
    "my_set"
   ]
  },
  {
   "attachments": {},
   "cell_type": "markdown",
   "metadata": {},
   "source": [
    "## Set operations\n",
    "\n",
    "Given two sets a and b:\n",
    "1. Union: a | b\n",
    "2. Intersection: a & b\n",
    "3. Difference: a - b\n",
    "4. symmetric difference: a ^ b\n",
    "\n",
    "- Smart use of set operations can reduce both the line count\n",
    "- and the execution time of Py programs\n",
    "- more easy to read"
   ]
  },
  {
   "attachments": {},
   "cell_type": "markdown",
   "metadata": {},
   "source": [
    "### Union"
   ]
  },
  {
   "cell_type": "code",
   "execution_count": 98,
   "metadata": {},
   "outputs": [
    {
     "data": {
      "text/plain": [
       "{1, 2, 3, 4, 5, 6, 7}"
      ]
     },
     "execution_count": 98,
     "metadata": {},
     "output_type": "execute_result"
    }
   ],
   "source": [
    "A = {1, 3, 5, 7}\n",
    "B = {1, 2, 4, 6, 7}\n",
    "\n",
    "union = A | B \n",
    "union"
   ]
  },
  {
   "cell_type": "code",
   "execution_count": 99,
   "metadata": {},
   "outputs": [
    {
     "data": {
      "text/plain": [
       "{1, 2, 3, 4, 5, 6, 7}"
      ]
     },
     "execution_count": 99,
     "metadata": {},
     "output_type": "execute_result"
    }
   ],
   "source": [
    "A.__or__(B)"
   ]
  },
  {
   "cell_type": "code",
   "execution_count": 100,
   "metadata": {},
   "outputs": [
    {
     "data": {
      "text/plain": [
       "{1, 2, 3, 4, 5, 6, 7}"
      ]
     },
     "execution_count": 100,
     "metadata": {},
     "output_type": "execute_result"
    }
   ],
   "source": [
    "A.union(B)"
   ]
  },
  {
   "cell_type": "code",
   "execution_count": null,
   "metadata": {},
   "outputs": [],
   "source": [
    "Refactor today's code by using setdefault () :\n",
    "\n",
    "words = zen_python.split()\n",
    "dict_index = {}\n",
    "for index, word in enumerate(words):\n",
    "    ocurrences = dict_index.get(word, [])\n",
    "    ocurrences.append(index)\n",
    "    dict_index[word] = ocurrences"
   ]
  }
 ],
 "metadata": {
  "kernelspec": {
   "display_name": "Python 3",
   "language": "python",
   "name": "python3"
  },
  "language_info": {
   "codemirror_mode": {
    "name": "ipython",
    "version": 3
   },
   "file_extension": ".py",
   "mimetype": "text/x-python",
   "name": "python",
   "nbconvert_exporter": "python",
   "pygments_lexer": "ipython3",
   "version": "3.11.3"
  },
  "orig_nbformat": 4
 },
 "nbformat": 4,
 "nbformat_minor": 2
}
